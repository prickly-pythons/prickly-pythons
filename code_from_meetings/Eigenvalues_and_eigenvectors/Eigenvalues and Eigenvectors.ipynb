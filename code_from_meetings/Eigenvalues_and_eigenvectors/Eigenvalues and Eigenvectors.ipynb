{
 "cells": [
  {
   "cell_type": "markdown",
   "metadata": {},
   "source": [
    "This notebook explores the concept of eigenvalues and eigenvectors using Python.\n",
    "\n",
    "Date Created: 11 Oct 2018\n",
    "<br>\n",
    "Last Modified: 12 Oct 2018 \n",
    "<br>\n",
    "Humans Responsible: The Prickly Pythons"
   ]
  },
  {
   "cell_type": "code",
   "execution_count": 1,
   "metadata": {
    "collapsed": true
   },
   "outputs": [],
   "source": [
    "%matplotlib inline"
   ]
  },
  {
   "cell_type": "code",
   "execution_count": 2,
   "metadata": {
    "collapsed": true
   },
   "outputs": [],
   "source": [
    "import matplotlib.pyplot as plt\n",
    "import numpy as np\n",
    "import time"
   ]
  },
  {
   "cell_type": "markdown",
   "metadata": {},
   "source": [
    "# 1.0 Transforming a point with a matrix"
   ]
  },
  {
   "cell_type": "code",
   "execution_count": 3,
   "metadata": {
    "collapsed": true
   },
   "outputs": [],
   "source": [
    "A = np.array( [[1,1], [1, 0]] )"
   ]
  },
  {
   "cell_type": "code",
   "execution_count": 4,
   "metadata": {
    "collapsed": false
   },
   "outputs": [
    {
     "data": {
      "text/plain": [
       "array([[1, 1],\n",
       "       [1, 0]])"
      ]
     },
     "execution_count": 4,
     "metadata": {},
     "output_type": "execute_result"
    }
   ],
   "source": [
    "A"
   ]
  },
  {
   "cell_type": "code",
   "execution_count": 5,
   "metadata": {
    "collapsed": false
   },
   "outputs": [
    {
     "data": {
      "text/plain": [
       "(2, 2)"
      ]
     },
     "execution_count": 5,
     "metadata": {},
     "output_type": "execute_result"
    }
   ],
   "source": [
    "A.shape"
   ]
  },
  {
   "cell_type": "code",
   "execution_count": 6,
   "metadata": {
    "collapsed": true
   },
   "outputs": [],
   "source": [
    "x = np.array([-0.1,0.5])"
   ]
  },
  {
   "cell_type": "code",
   "execution_count": 7,
   "metadata": {
    "collapsed": false
   },
   "outputs": [
    {
     "data": {
      "text/plain": [
       "array([-0.1,  0.5])"
      ]
     },
     "execution_count": 7,
     "metadata": {},
     "output_type": "execute_result"
    }
   ],
   "source": [
    "x"
   ]
  },
  {
   "cell_type": "code",
   "execution_count": 8,
   "metadata": {
    "collapsed": true
   },
   "outputs": [],
   "source": [
    "y = np.dot(A,x) # This is matrix mutliplication y = Ax"
   ]
  },
  {
   "cell_type": "code",
   "execution_count": 9,
   "metadata": {
    "collapsed": false
   },
   "outputs": [
    {
     "data": {
      "text/plain": [
       "array([ 0.4, -0.1])"
      ]
     },
     "execution_count": 9,
     "metadata": {},
     "output_type": "execute_result"
    }
   ],
   "source": [
    "y"
   ]
  },
  {
   "cell_type": "code",
   "execution_count": 10,
   "metadata": {
    "collapsed": false
   },
   "outputs": [
    {
     "data": {
      "image/png": "[encoded data removed]",
      "text/plain": [
       "<matplotlib.figure.Figure at 0x10b74cd30>"
      ]
     },
     "metadata": {},
     "output_type": "display_data"
    }
   ],
   "source": [
    "fig = plt.figure(figsize=(5,5))\n",
    "plt.plot(x[0], x[1], 'bo')\n",
    "plt.plot(y[0], y[1], 'ro')\n",
    "plt.xlabel('x_1')\n",
    "plt.ylabel('x_2')\n",
    "plt.xlim(-3,3)\n",
    "plt.ylim(-3,3)\n",
    "plt.grid()\n",
    "\n",
    "plt.show()"
   ]
  },
  {
   "cell_type": "markdown",
   "metadata": {},
   "source": [
    "# 1.1 Transforming a bunch of points with a matrix"
   ]
  },
  {
   "cell_type": "code",
   "execution_count": 11,
   "metadata": {
    "collapsed": true
   },
   "outputs": [],
   "source": [
    "N = 100\n",
    "theta = np.linspace(2*np.pi/N, 2*np.pi, N)\n",
    "\n",
    "x = np.zeros([2,N])\n",
    "x[0,:] = np.cos(theta)\n",
    "x[1,:] = np.sin(theta)"
   ]
  },
  {
   "cell_type": "code",
   "execution_count": 12,
   "metadata": {
    "collapsed": false
   },
   "outputs": [
    {
     "data": {
      "text/plain": [
       "(2, 100)"
      ]
     },
     "execution_count": 12,
     "metadata": {},
     "output_type": "execute_result"
    }
   ],
   "source": [
    "x.shape"
   ]
  },
  {
   "cell_type": "code",
   "execution_count": 13,
   "metadata": {
    "collapsed": true
   },
   "outputs": [],
   "source": [
    "y = np.dot(A,x)"
   ]
  },
  {
   "cell_type": "code",
   "execution_count": 14,
   "metadata": {
    "collapsed": false
   },
   "outputs": [
    {
     "data": {
      "image/png": "[encoded data removed]",
      "text/plain": [
       "<matplotlib.figure.Figure at 0x10bbd9c50>"
      ]
     },
     "metadata": {},
     "output_type": "display_data"
    }
   ],
   "source": [
    "fig = plt.figure(figsize=(6,6))\n",
    "plt.plot(x[0,:], x[1,:], 'bo')\n",
    "plt.plot(y[0,:], y[1,:], 'ro')\n",
    "plt.xlabel('x_1')\n",
    "plt.ylabel('x_2')\n",
    "plt.xlim(-3,3)\n",
    "plt.ylim(-3,3)\n",
    "plt.grid()\n",
    "\n",
    "plt.show()"
   ]
  },
  {
   "cell_type": "markdown",
   "metadata": {},
   "source": [
    "# 1.2 Introducing Eigenvalues and Eigenvectors"
   ]
  },
  {
   "cell_type": "code",
   "execution_count": 15,
   "metadata": {
    "collapsed": true
   },
   "outputs": [],
   "source": [
    "w, v = np.linalg.eig(A)"
   ]
  },
  {
   "cell_type": "code",
   "execution_count": 16,
   "metadata": {
    "collapsed": false
   },
   "outputs": [
    {
     "data": {
      "text/plain": [
       "array([ 1.61803399, -0.61803399])"
      ]
     },
     "execution_count": 16,
     "metadata": {},
     "output_type": "execute_result"
    }
   ],
   "source": [
    "w"
   ]
  },
  {
   "cell_type": "code",
   "execution_count": 17,
   "metadata": {
    "collapsed": false
   },
   "outputs": [
    {
     "data": {
      "text/plain": [
       "array([[ 0.85065081, -0.52573111],\n",
       "       [ 0.52573111,  0.85065081]])"
      ]
     },
     "execution_count": 17,
     "metadata": {},
     "output_type": "execute_result"
    }
   ],
   "source": [
    "v"
   ]
  },
  {
   "cell_type": "code",
   "execution_count": 18,
   "metadata": {
    "collapsed": false
   },
   "outputs": [
    {
     "data": {
      "text/plain": [
       "array([-3.        , -2.33333333, -1.66666667, -1.        , -0.33333333,\n",
       "        0.33333333,  1.        ,  1.66666667,  2.33333333,  3.        ])"
      ]
     },
     "execution_count": 18,
     "metadata": {},
     "output_type": "execute_result"
    }
   ],
   "source": [
    "np.linspace(-3,3,10)"
   ]
  },
  {
   "cell_type": "code",
   "execution_count": 19,
   "metadata": {
    "collapsed": true
   },
   "outputs": [],
   "source": [
    "x_vec = np.linspace(-3,3,10)\n",
    "e_1 = (v[1,0]/v[0,0]) * x_vec\n",
    "e_2 = (v[1,1]/v[0,1]) * x_vec"
   ]
  },
  {
   "cell_type": "code",
   "execution_count": 20,
   "metadata": {
    "collapsed": false
   },
   "outputs": [
    {
     "data": {
      "image/png": "[encoded data removed]",
      "text/plain": [
       "<matplotlib.figure.Figure at 0x10e6032b0>"
      ]
     },
     "metadata": {},
     "output_type": "display_data"
    }
   ],
   "source": [
    "fig = plt.figure(figsize=(6,6))\n",
    "plt.plot(x[0,:], x[1,:], 'bo')\n",
    "plt.plot(y[0,:], y[1,:], 'ro')\n",
    "plt.plot(x_vec, e_1, 'k--')\n",
    "plt.plot(x_vec, e_2, 'k--')\n",
    "plt.xlabel('x_1')\n",
    "plt.ylabel('x_2')\n",
    "plt.xlim(-3,3)\n",
    "plt.ylim(-3,3)\n",
    "plt.grid()\n",
    "\n",
    "plt.show()"
   ]
  },
  {
   "cell_type": "markdown",
   "metadata": {},
   "source": [
    "# 1.3 Another way to see it - Transforming a point with the same matrix a bunch of times"
   ]
  },
  {
   "cell_type": "code",
   "execution_count": 21,
   "metadata": {
    "collapsed": true
   },
   "outputs": [],
   "source": [
    "x = np.array([-0.1,0.5])"
   ]
  },
  {
   "cell_type": "code",
   "execution_count": 22,
   "metadata": {
    "collapsed": false
   },
   "outputs": [
    {
     "name": "stdout",
     "output_type": "stream",
     "text": [
      "1\n",
      "2\n",
      "3\n",
      "4\n",
      "5\n",
      "6\n",
      "7\n",
      "8\n",
      "9\n"
     ]
    }
   ],
   "source": [
    "it_max = 10\n",
    "\n",
    "# Preallocate memory\n",
    "trajectory = np.zeros([2,it_max])\n",
    "trajectory[0,0] = x[0]\n",
    "trajectory[1,0] = x[1]\n",
    "\n",
    "for it in range(1,it_max):\n",
    "    print(it)\n",
    "    x = np.dot(A,x)\n",
    "    \n",
    "    trajectory[0,it] = x[0]\n",
    "    trajectory[1,it] = x[1]"
   ]
  },
  {
   "cell_type": "code",
   "execution_count": 23,
   "metadata": {
    "collapsed": false
   },
   "outputs": [
    {
     "data": {
      "image/png": "[encoded data removed]",
      "text/plain": [
       "<matplotlib.figure.Figure at 0x10e74ae10>"
      ]
     },
     "metadata": {},
     "output_type": "display_data"
    }
   ],
   "source": [
    "fig = plt.figure(figsize=(6,6))\n",
    "plt.plot(trajectory[0,:], trajectory[1,:], 'bo-')\n",
    "plt.plot(x_vec, e_1, 'k--')\n",
    "plt.plot(x_vec, e_2, 'k--')\n",
    "plt.xlabel('x_1')\n",
    "plt.ylabel('x_2')\n",
    "plt.xlim(-3,3)\n",
    "plt.ylim(-3,3)\n",
    "plt.grid()\n",
    "\n",
    "plt.show()"
   ]
  },
  {
   "cell_type": "code",
   "execution_count": 24,
   "metadata": {
    "collapsed": false
   },
   "outputs": [],
   "source": [
    "X, Y = np.meshgrid(np.arange(-3,3+1,1), np.arange(-3,3+1,1))"
   ]
  },
  {
   "cell_type": "code",
   "execution_count": 25,
   "metadata": {
    "collapsed": false
   },
   "outputs": [
    {
     "data": {
      "text/plain": [
       "array([-3, -2, -1,  0,  1,  2,  3])"
      ]
     },
     "execution_count": 25,
     "metadata": {},
     "output_type": "execute_result"
    }
   ],
   "source": [
    "np.arange(-3,3+1,1)"
   ]
  },
  {
   "cell_type": "code",
   "execution_count": 26,
   "metadata": {
    "collapsed": false
   },
   "outputs": [
    {
     "data": {
      "text/plain": [
       "array([[-3, -2, -1,  0,  1,  2,  3],\n",
       "       [-3, -2, -1,  0,  1,  2,  3],\n",
       "       [-3, -2, -1,  0,  1,  2,  3],\n",
       "       [-3, -2, -1,  0,  1,  2,  3],\n",
       "       [-3, -2, -1,  0,  1,  2,  3],\n",
       "       [-3, -2, -1,  0,  1,  2,  3],\n",
       "       [-3, -2, -1,  0,  1,  2,  3]])"
      ]
     },
     "execution_count": 26,
     "metadata": {},
     "output_type": "execute_result"
    }
   ],
   "source": [
    "X"
   ]
  },
  {
   "cell_type": "code",
   "execution_count": 27,
   "metadata": {
    "collapsed": false
   },
   "outputs": [
    {
     "data": {
      "text/plain": [
       "array([[-3, -3, -3, -3, -3, -3, -3],\n",
       "       [-2, -2, -2, -2, -2, -2, -2],\n",
       "       [-1, -1, -1, -1, -1, -1, -1],\n",
       "       [ 0,  0,  0,  0,  0,  0,  0],\n",
       "       [ 1,  1,  1,  1,  1,  1,  1],\n",
       "       [ 2,  2,  2,  2,  2,  2,  2],\n",
       "       [ 3,  3,  3,  3,  3,  3,  3]])"
      ]
     },
     "execution_count": 27,
     "metadata": {},
     "output_type": "execute_result"
    }
   ],
   "source": [
    "Y"
   ]
  },
  {
   "cell_type": "code",
   "execution_count": 28,
   "metadata": {
    "collapsed": true
   },
   "outputs": [],
   "source": [
    "x_ravel = X.ravel()"
   ]
  },
  {
   "cell_type": "code",
   "execution_count": 29,
   "metadata": {
    "collapsed": false
   },
   "outputs": [],
   "source": [
    "y_ravel = Y.ravel()"
   ]
  },
  {
   "cell_type": "code",
   "execution_count": 30,
   "metadata": {
    "collapsed": false
   },
   "outputs": [
    {
     "data": {
      "image/png": "[encoded data removed]",
      "text/plain": [
       "<matplotlib.figure.Figure at 0x10e879cc0>"
      ]
     },
     "metadata": {},
     "output_type": "display_data"
    }
   ],
   "source": [
    "fig = plt.figure(figsize=(6,6))\n",
    "plt.plot(x_ravel, y_ravel, 'bo')\n",
    "plt.plot(x_vec, e_1, 'k--')\n",
    "plt.plot(x_vec, e_2, 'k--')\n",
    "plt.xlabel('x_1')\n",
    "plt.ylabel('x_2')\n",
    "plt.xlim(-3,3)\n",
    "plt.ylim(-3,3)\n",
    "plt.grid()\n",
    "\n",
    "plt.show()"
   ]
  },
  {
   "cell_type": "code",
   "execution_count": 31,
   "metadata": {
    "collapsed": true
   },
   "outputs": [],
   "source": [
    "N_pt = len(x_ravel)"
   ]
  },
  {
   "cell_type": "code",
   "execution_count": 32,
   "metadata": {
    "collapsed": false
   },
   "outputs": [
    {
     "data": {
      "text/plain": [
       "49"
      ]
     },
     "execution_count": 32,
     "metadata": {},
     "output_type": "execute_result"
    }
   ],
   "source": [
    "N_pt"
   ]
  },
  {
   "cell_type": "code",
   "execution_count": 33,
   "metadata": {
    "collapsed": true
   },
   "outputs": [],
   "source": [
    "q = np.zeros([2,N_pt])"
   ]
  },
  {
   "cell_type": "code",
   "execution_count": 34,
   "metadata": {
    "collapsed": false
   },
   "outputs": [],
   "source": [
    "q[0,:] = x_ravel\n",
    "q[1,:] = y_ravel"
   ]
  },
  {
   "cell_type": "code",
   "execution_count": 35,
   "metadata": {
    "collapsed": false
   },
   "outputs": [
    {
     "data": {
      "text/plain": [
       "array([[-3., -2., -1.,  0.,  1.,  2.,  3., -3., -2., -1.,  0.,  1.,  2.,\n",
       "         3., -3., -2., -1.,  0.,  1.,  2.,  3., -3., -2., -1.,  0.,  1.,\n",
       "         2.,  3., -3., -2., -1.,  0.,  1.,  2.,  3., -3., -2., -1.,  0.,\n",
       "         1.,  2.,  3., -3., -2., -1.,  0.,  1.,  2.,  3.],\n",
       "       [-3., -3., -3., -3., -3., -3., -3., -2., -2., -2., -2., -2., -2.,\n",
       "        -2., -1., -1., -1., -1., -1., -1., -1.,  0.,  0.,  0.,  0.,  0.,\n",
       "         0.,  0.,  1.,  1.,  1.,  1.,  1.,  1.,  1.,  2.,  2.,  2.,  2.,\n",
       "         2.,  2.,  2.,  3.,  3.,  3.,  3.,  3.,  3.,  3.]])"
      ]
     },
     "execution_count": 35,
     "metadata": {},
     "output_type": "execute_result"
    }
   ],
   "source": [
    "q"
   ]
  },
  {
   "cell_type": "code",
   "execution_count": 36,
   "metadata": {
    "collapsed": false
   },
   "outputs": [],
   "source": [
    "q_new = np.dot(A,q)"
   ]
  },
  {
   "cell_type": "code",
   "execution_count": 37,
   "metadata": {
    "collapsed": false
   },
   "outputs": [
    {
     "data": {
      "text/plain": [
       "array([[-6., -5., -4., -3., -2., -1.,  0., -5., -4., -3., -2., -1.,  0.,\n",
       "         1., -4., -3., -2., -1.,  0.,  1.,  2., -3., -2., -1.,  0.,  1.,\n",
       "         2.,  3., -2., -1.,  0.,  1.,  2.,  3.,  4., -1.,  0.,  1.,  2.,\n",
       "         3.,  4.,  5.,  0.,  1.,  2.,  3.,  4.,  5.,  6.],\n",
       "       [-3., -2., -1.,  0.,  1.,  2.,  3., -3., -2., -1.,  0.,  1.,  2.,\n",
       "         3., -3., -2., -1.,  0.,  1.,  2.,  3., -3., -2., -1.,  0.,  1.,\n",
       "         2.,  3., -3., -2., -1.,  0.,  1.,  2.,  3., -3., -2., -1.,  0.,\n",
       "         1.,  2.,  3., -3., -2., -1.,  0.,  1.,  2.,  3.]])"
      ]
     },
     "execution_count": 37,
     "metadata": {},
     "output_type": "execute_result"
    }
   ],
   "source": [
    "q_new"
   ]
  },
  {
   "cell_type": "code",
   "execution_count": 38,
   "metadata": {
    "collapsed": false
   },
   "outputs": [
    {
     "data": {
      "image/png": "[encoded data removed]",
      "text/plain": [
       "<matplotlib.figure.Figure at 0x10e879828>"
      ]
     },
     "metadata": {},
     "output_type": "display_data"
    }
   ],
   "source": [
    "fig = plt.figure(figsize=(6,6))\n",
    "plt.plot(q_new[0,:], q_new[1,:], 'bo')\n",
    "plt.plot(x_vec, e_1, 'k--')\n",
    "plt.plot(x_vec, e_2, 'k--')\n",
    "plt.xlabel('x_1')\n",
    "plt.ylabel('x_2')\n",
    "plt.xlim(-5,5)\n",
    "plt.ylim(-5,5)\n",
    "plt.grid()\n",
    "\n",
    "plt.show()"
   ]
  },
  {
   "cell_type": "markdown",
   "metadata": {},
   "source": [
    "# 1.4 A movie"
   ]
  },
  {
   "cell_type": "code",
   "execution_count": 39,
   "metadata": {
    "collapsed": false
   },
   "outputs": [
    {
     "data": {
      "application/javascript": [
       "/* Put everything inside the global mpl namespace */\n",
       "window.mpl = {};\n",
       "\n",
       "mpl.get_websocket_type = function() {\n",
       "    if (typeof(WebSocket) !== 'undefined') {\n",
       "        return WebSocket;\n",
       "    } else if (typeof(MozWebSocket) !== 'undefined') {\n",
       "        return MozWebSocket;\n",
       "    } else {\n",
       "        alert('Your browser does not have WebSocket support.' +\n",
       "              'Please try Chrome, Safari or Firefox ≥ 6. ' +\n",
       "              'Firefox 4 and 5 are also supported but you ' +\n",
       "              'have to enable WebSockets in about:config.');\n",
       "    };\n",
       "}\n",
       "\n",
       "mpl.figure = function(figure_id, websocket, ondownload, parent_element) {\n",
       "    this.id = figure_id;\n",
       "\n",
       "    this.ws = websocket;\n",
       "\n",
       "    this.supports_binary = (this.ws.binaryType != undefined);\n",
       "\n",
       "    if (!this.supports_binary) {\n",
       "        var warnings = document.getElementById(\"mpl-warnings\");\n",
       "        if (warnings) {\n",
       "            warnings.style.display = 'block';\n",
       "            warnings.textContent = (\n",
       "                \"This browser does not support binary websocket messages. \" +\n",
       "                    \"Performance may be slow.\");\n",
       "        }\n",
       "    }\n",
       "\n",
       "    this.imageObj = new Image();\n",
       "\n",
       "    this.context = undefined;\n",
       "    this.message = undefined;\n",
       "    this.canvas = undefined;\n",
       "    this.rubberband_canvas = undefined;\n",
       "    this.rubberband_context = undefined;\n",
       "    this.format_dropdown = undefined;\n",
       "\n",
       "    this.image_mode = 'full';\n",
       "\n",
       "    this.root = $('<div/>');\n",
       "    this._root_extra_style(this.root)\n",
       "    this.root.attr('style', 'display: inline-block');\n",
       "\n",
       "    $(parent_element).append(this.root);\n",
       "\n",
       "    this._init_header(this);\n",
       "    this._init_canvas(this);\n",
       "    this._init_toolbar(this);\n",
       "\n",
       "    var fig = this;\n",
       "\n",
       "    this.waiting = false;\n",
       "\n",
       "    this.ws.onopen =  function () {\n",
       "            fig.send_message(\"supports_binary\", {value: fig.supports_binary});\n",
       "            fig.send_message(\"send_image_mode\", {});\n",
       "            fig.send_message(\"refresh\", {});\n",
       "        }\n",
       "\n",
       "    this.imageObj.onload = function() {\n",
       "            if (fig.image_mode == 'full') {\n",
       "                // Full images could contain transparency (where diff images\n",
       "                // almost always do), so we need to clear the canvas so that\n",
       "                // there is no ghosting.\n",
       "                fig.context.clearRect(0, 0, fig.canvas.width, fig.canvas.height);\n",
       "            }\n",
       "            fig.context.drawImage(fig.imageObj, 0, 0);\n",
       "        };\n",
       "\n",
       "    this.imageObj.onunload = function() {\n",
       "        this.ws.close();\n",
       "    }\n",
       "\n",
       "    this.ws.onmessage = this._make_on_message_function(this);\n",
       "\n",
       "    this.ondownload = ondownload;\n",
       "}\n",
       "\n",
       "mpl.figure.prototype._init_header = function() {\n",
       "    var titlebar = $(\n",
       "        '<div class=\"ui-dialog-titlebar ui-widget-header ui-corner-all ' +\n",
       "        'ui-helper-clearfix\"/>');\n",
       "    var titletext = $(\n",
       "        '<div class=\"ui-dialog-title\" style=\"width: 100%; ' +\n",
       "        'text-align: center; padding: 3px;\"/>');\n",
       "    titlebar.append(titletext)\n",
       "    this.root.append(titlebar);\n",
       "    this.header = titletext[0];\n",
       "}\n",
       "\n",
       "\n",
       "\n",
       "mpl.figure.prototype._canvas_extra_style = function(canvas_div) {\n",
       "\n",
       "}\n",
       "\n",
       "\n",
       "mpl.figure.prototype._root_extra_style = function(canvas_div) {\n",
       "\n",
       "}\n",
       "\n",
       "mpl.figure.prototype._init_canvas = function() {\n",
       "    var fig = this;\n",
       "\n",
       "    var canvas_div = $('<div/>');\n",
       "\n",
       "    canvas_div.attr('style', 'position: relative; clear: both; outline: 0');\n",
       "\n",
       "    function canvas_keyboard_event(event) {\n",
       "        return fig.key_event(event, event['data']);\n",
       "    }\n",
       "\n",
       "    canvas_div.keydown('key_press', canvas_keyboard_event);\n",
       "    canvas_div.keyup('key_release', canvas_keyboard_event);\n",
       "    this.canvas_div = canvas_div\n",
       "    this._canvas_extra_style(canvas_div)\n",
       "    this.root.append(canvas_div);\n",
       "\n",
       "    var canvas = $('<canvas/>');\n",
       "    canvas.addClass('mpl-canvas');\n",
       "    canvas.attr('style', \"left: 0; top: 0; z-index: 0; outline: 0\")\n",
       "\n",
       "    this.canvas = canvas[0];\n",
       "    this.context = canvas[0].getContext(\"2d\");\n",
       "\n",
       "    var rubberband = $('<canvas/>');\n",
       "    rubberband.attr('style', \"position: absolute; left: 0; top: 0; z-index: 1;\")\n",
       "\n",
       "    var pass_mouse_events = true;\n",
       "\n",
       "    canvas_div.resizable({\n",
       "        start: function(event, ui) {\n",
       "            pass_mouse_events = false;\n",
       "        },\n",
       "        resize: function(event, ui) {\n",
       "            fig.request_resize(ui.size.width, ui.size.height);\n",
       "        },\n",
       "        stop: function(event, ui) {\n",
       "            pass_mouse_events = true;\n",
       "            fig.request_resize(ui.size.width, ui.size.height);\n",
       "        },\n",
       "    });\n",
       "\n",
       "    function mouse_event_fn(event) {\n",
       "        if (pass_mouse_events)\n",
       "            return fig.mouse_event(event, event['data']);\n",
       "    }\n",
       "\n",
       "    rubberband.mousedown('button_press', mouse_event_fn);\n",
       "    rubberband.mouseup('button_release', mouse_event_fn);\n",
       "    // Throttle sequential mouse events to 1 every 20ms.\n",
       "    rubberband.mousemove('motion_notify', mouse_event_fn);\n",
       "\n",
       "    rubberband.mouseenter('figure_enter', mouse_event_fn);\n",
       "    rubberband.mouseleave('figure_leave', mouse_event_fn);\n",
       "\n",
       "    canvas_div.on(\"wheel\", function (event) {\n",
       "        event = event.originalEvent;\n",
       "        event['data'] = 'scroll'\n",
       "        if (event.deltaY < 0) {\n",
       "            event.step = 1;\n",
       "        } else {\n",
       "            event.step = -1;\n",
       "        }\n",
       "        mouse_event_fn(event);\n",
       "    });\n",
       "\n",
       "    canvas_div.append(canvas);\n",
       "    canvas_div.append(rubberband);\n",
       "\n",
       "    this.rubberband = rubberband;\n",
       "    this.rubberband_canvas = rubberband[0];\n",
       "    this.rubberband_context = rubberband[0].getContext(\"2d\");\n",
       "    this.rubberband_context.strokeStyle = \"#000000\";\n",
       "\n",
       "    this._resize_canvas = function(width, height) {\n",
       "        // Keep the size of the canvas, canvas container, and rubber band\n",
       "        // canvas in synch.\n",
       "        canvas_div.css('width', width)\n",
       "        canvas_div.css('height', height)\n",
       "\n",
       "        canvas.attr('width', width);\n",
       "        canvas.attr('height', height);\n",
       "\n",
       "        rubberband.attr('width', width);\n",
       "        rubberband.attr('height', height);\n",
       "    }\n",
       "\n",
       "    // Set the figure to an initial 600x600px, this will subsequently be updated\n",
       "    // upon first draw.\n",
       "    this._resize_canvas(600, 600);\n",
       "\n",
       "    // Disable right mouse context menu.\n",
       "    $(this.rubberband_canvas).bind(\"contextmenu\",function(e){\n",
       "        return false;\n",
       "    });\n",
       "\n",
       "    function set_focus () {\n",
       "        canvas.focus();\n",
       "        canvas_div.focus();\n",
       "    }\n",
       "\n",
       "    window.setTimeout(set_focus, 100);\n",
       "}\n",
       "\n",
       "mpl.figure.prototype._init_toolbar = function() {\n",
       "    var fig = this;\n",
       "\n",
       "    var nav_element = $('<div/>')\n",
       "    nav_element.attr('style', 'width: 100%');\n",
       "    this.root.append(nav_element);\n",
       "\n",
       "    // Define a callback function for later on.\n",
       "    function toolbar_event(event) {\n",
       "        return fig.toolbar_button_onclick(event['data']);\n",
       "    }\n",
       "    function toolbar_mouse_event(event) {\n",
       "        return fig.toolbar_button_onmouseover(event['data']);\n",
       "    }\n",
       "\n",
       "    for(var toolbar_ind in mpl.toolbar_items) {\n",
       "        var name = mpl.toolbar_items[toolbar_ind][0];\n",
       "        var tooltip = mpl.toolbar_items[toolbar_ind][1];\n",
       "        var image = mpl.toolbar_items[toolbar_ind][2];\n",
       "        var method_name = mpl.toolbar_items[toolbar_ind][3];\n",
       "\n",
       "        if (!name) {\n",
       "            // put a spacer in here.\n",
       "            continue;\n",
       "        }\n",
       "        var button = $('<button/>');\n",
       "        button.addClass('ui-button ui-widget ui-state-default ui-corner-all ' +\n",
       "                        'ui-button-icon-only');\n",
       "        button.attr('role', 'button');\n",
       "        button.attr('aria-disabled', 'false');\n",
       "        button.click(method_name, toolbar_event);\n",
       "        button.mouseover(tooltip, toolbar_mouse_event);\n",
       "\n",
       "        var icon_img = $('<span/>');\n",
       "        icon_img.addClass('ui-button-icon-primary ui-icon');\n",
       "        icon_img.addClass(image);\n",
       "        icon_img.addClass('ui-corner-all');\n",
       "\n",
       "        var tooltip_span = $('<span/>');\n",
       "        tooltip_span.addClass('ui-button-text');\n",
       "        tooltip_span.html(tooltip);\n",
       "\n",
       "        button.append(icon_img);\n",
       "        button.append(tooltip_span);\n",
       "\n",
       "        nav_element.append(button);\n",
       "    }\n",
       "\n",
       "    var fmt_picker_span = $('<span/>');\n",
       "\n",
       "    var fmt_picker = $('<select/>');\n",
       "    fmt_picker.addClass('mpl-toolbar-option ui-widget ui-widget-content');\n",
       "    fmt_picker_span.append(fmt_picker);\n",
       "    nav_element.append(fmt_picker_span);\n",
       "    this.format_dropdown = fmt_picker[0];\n",
       "\n",
       "    for (var ind in mpl.extensions) {\n",
       "        var fmt = mpl.extensions[ind];\n",
       "        var option = $(\n",
       "            '<option/>', {selected: fmt === mpl.default_extension}).html(fmt);\n",
       "        fmt_picker.append(option)\n",
       "    }\n",
       "\n",
       "    // Add hover states to the ui-buttons\n",
       "    $( \".ui-button\" ).hover(\n",
       "        function() { $(this).addClass(\"ui-state-hover\");},\n",
       "        function() { $(this).removeClass(\"ui-state-hover\");}\n",
       "    );\n",
       "\n",
       "    var status_bar = $('<span class=\"mpl-message\"/>');\n",
       "    nav_element.append(status_bar);\n",
       "    this.message = status_bar[0];\n",
       "}\n",
       "\n",
       "mpl.figure.prototype.request_resize = function(x_pixels, y_pixels) {\n",
       "    // Request matplotlib to resize the figure. Matplotlib will then trigger a resize in the client,\n",
       "    // which will in turn request a refresh of the image.\n",
       "    this.send_message('resize', {'width': x_pixels, 'height': y_pixels});\n",
       "}\n",
       "\n",
       "mpl.figure.prototype.send_message = function(type, properties) {\n",
       "    properties['type'] = type;\n",
       "    properties['figure_id'] = this.id;\n",
       "    this.ws.send(JSON.stringify(properties));\n",
       "}\n",
       "\n",
       "mpl.figure.prototype.send_draw_message = function() {\n",
       "    if (!this.waiting) {\n",
       "        this.waiting = true;\n",
       "        this.ws.send(JSON.stringify({type: \"draw\", figure_id: this.id}));\n",
       "    }\n",
       "}\n",
       "\n",
       "\n",
       "mpl.figure.prototype.handle_save = function(fig, msg) {\n",
       "    var format_dropdown = fig.format_dropdown;\n",
       "    var format = format_dropdown.options[format_dropdown.selectedIndex].value;\n",
       "    fig.ondownload(fig, format);\n",
       "}\n",
       "\n",
       "\n",
       "mpl.figure.prototype.handle_resize = function(fig, msg) {\n",
       "    var size = msg['size'];\n",
       "    if (size[0] != fig.canvas.width || size[1] != fig.canvas.height) {\n",
       "        fig._resize_canvas(size[0], size[1]);\n",
       "        fig.send_message(\"refresh\", {});\n",
       "    };\n",
       "}\n",
       "\n",
       "mpl.figure.prototype.handle_rubberband = function(fig, msg) {\n",
       "    var x0 = msg['x0'];\n",
       "    var y0 = fig.canvas.height - msg['y0'];\n",
       "    var x1 = msg['x1'];\n",
       "    var y1 = fig.canvas.height - msg['y1'];\n",
       "    x0 = Math.floor(x0) + 0.5;\n",
       "    y0 = Math.floor(y0) + 0.5;\n",
       "    x1 = Math.floor(x1) + 0.5;\n",
       "    y1 = Math.floor(y1) + 0.5;\n",
       "    var min_x = Math.min(x0, x1);\n",
       "    var min_y = Math.min(y0, y1);\n",
       "    var width = Math.abs(x1 - x0);\n",
       "    var height = Math.abs(y1 - y0);\n",
       "\n",
       "    fig.rubberband_context.clearRect(\n",
       "        0, 0, fig.canvas.width, fig.canvas.height);\n",
       "\n",
       "    fig.rubberband_context.strokeRect(min_x, min_y, width, height);\n",
       "}\n",
       "\n",
       "mpl.figure.prototype.handle_figure_label = function(fig, msg) {\n",
       "    // Updates the figure title.\n",
       "    fig.header.textContent = msg['label'];\n",
       "}\n",
       "\n",
       "mpl.figure.prototype.handle_cursor = function(fig, msg) {\n",
       "    var cursor = msg['cursor'];\n",
       "    switch(cursor)\n",
       "    {\n",
       "    case 0:\n",
       "        cursor = 'pointer';\n",
       "        break;\n",
       "    case 1:\n",
       "        cursor = 'default';\n",
       "        break;\n",
       "    case 2:\n",
       "        cursor = 'crosshair';\n",
       "        break;\n",
       "    case 3:\n",
       "        cursor = 'move';\n",
       "        break;\n",
       "    }\n",
       "    fig.rubberband_canvas.style.cursor = cursor;\n",
       "}\n",
       "\n",
       "mpl.figure.prototype.handle_message = function(fig, msg) {\n",
       "    fig.message.textContent = msg['message'];\n",
       "}\n",
       "\n",
       "mpl.figure.prototype.handle_draw = function(fig, msg) {\n",
       "    // Request the server to send over a new figure.\n",
       "    fig.send_draw_message();\n",
       "}\n",
       "\n",
       "mpl.figure.prototype.handle_image_mode = function(fig, msg) {\n",
       "    fig.image_mode = msg['mode'];\n",
       "}\n",
       "\n",
       "mpl.figure.prototype.updated_canvas_event = function() {\n",
       "    // Called whenever the canvas gets updated.\n",
       "    this.send_message(\"ack\", {});\n",
       "}\n",
       "\n",
       "// A function to construct a web socket function for onmessage handling.\n",
       "// Called in the figure constructor.\n",
       "mpl.figure.prototype._make_on_message_function = function(fig) {\n",
       "    return function socket_on_message(evt) {\n",
       "        if (evt.data instanceof Blob) {\n",
       "            /* FIXME: We get \"Resource interpreted as Image but\n",
       "             * transferred with MIME type text/plain:\" errors on\n",
       "             * Chrome.  But how to set the MIME type?  It doesn't seem\n",
       "             * to be part of the websocket stream */\n",
       "            evt.data.type = \"image/png\";\n",
       "\n",
       "            /* Free the memory for the previous frames */\n",
       "            if (fig.imageObj.src) {\n",
       "                (window.URL || window.webkitURL).revokeObjectURL(\n",
       "                    fig.imageObj.src);\n",
       "            }\n",
       "\n",
       "            fig.imageObj.src = (window.URL || window.webkitURL).createObjectURL(\n",
       "                evt.data);\n",
       "            fig.updated_canvas_event();\n",
       "            fig.waiting = false;\n",
       "            return;\n",
       "        }\n",
       "        else if (typeof evt.data === 'string' && evt.data.slice(0, 21) == \"data:image/png;base64\") {\n",
       "            fig.imageObj.src = evt.data;\n",
       "            fig.updated_canvas_event();\n",
       "            fig.waiting = false;\n",
       "            return;\n",
       "        }\n",
       "\n",
       "        var msg = JSON.parse(evt.data);\n",
       "        var msg_type = msg['type'];\n",
       "\n",
       "        // Call the  \"handle_{type}\" callback, which takes\n",
       "        // the figure and JSON message as its only arguments.\n",
       "        try {\n",
       "            var callback = fig[\"handle_\" + msg_type];\n",
       "        } catch (e) {\n",
       "            console.log(\"No handler for the '\" + msg_type + \"' message type: \", msg);\n",
       "            return;\n",
       "        }\n",
       "\n",
       "        if (callback) {\n",
       "            try {\n",
       "                // console.log(\"Handling '\" + msg_type + \"' message: \", msg);\n",
       "                callback(fig, msg);\n",
       "            } catch (e) {\n",
       "                console.log(\"Exception inside the 'handler_\" + msg_type + \"' callback:\", e, e.stack, msg);\n",
       "            }\n",
       "        }\n",
       "    };\n",
       "}\n",
       "\n",
       "// from http://stackoverflow.com/questions/1114465/getting-mouse-location-in-canvas\n",
       "mpl.findpos = function(e) {\n",
       "    //this section is from http://www.quirksmode.org/js/events_properties.html\n",
       "    var targ;\n",
       "    if (!e)\n",
       "        e = window.event;\n",
       "    if (e.target)\n",
       "        targ = e.target;\n",
       "    else if (e.srcElement)\n",
       "        targ = e.srcElement;\n",
       "    if (targ.nodeType == 3) // defeat Safari bug\n",
       "        targ = targ.parentNode;\n",
       "\n",
       "    // jQuery normalizes the pageX and pageY\n",
       "    // pageX,Y are the mouse positions relative to the document\n",
       "    // offset() returns the position of the element relative to the document\n",
       "    var x = e.pageX - $(targ).offset().left;\n",
       "    var y = e.pageY - $(targ).offset().top;\n",
       "\n",
       "    return {\"x\": x, \"y\": y};\n",
       "};\n",
       "\n",
       "/*\n",
       " * return a copy of an object with only non-object keys\n",
       " * we need this to avoid circular references\n",
       " * http://stackoverflow.com/a/24161582/3208463\n",
       " */\n",
       "function simpleKeys (original) {\n",
       "  return Object.keys(original).reduce(function (obj, key) {\n",
       "    if (typeof original[key] !== 'object')\n",
       "        obj[key] = original[key]\n",
       "    return obj;\n",
       "  }, {});\n",
       "}\n",
       "\n",
       "mpl.figure.prototype.mouse_event = function(event, name) {\n",
       "    var canvas_pos = mpl.findpos(event)\n",
       "\n",
       "    if (name === 'button_press')\n",
       "    {\n",
       "        this.canvas.focus();\n",
       "        this.canvas_div.focus();\n",
       "    }\n",
       "\n",
       "    var x = canvas_pos.x;\n",
       "    var y = canvas_pos.y;\n",
       "\n",
       "    this.send_message(name, {x: x, y: y, button: event.button,\n",
       "                             step: event.step,\n",
       "                             guiEvent: simpleKeys(event)});\n",
       "\n",
       "    /* This prevents the web browser from automatically changing to\n",
       "     * the text insertion cursor when the button is pressed.  We want\n",
       "     * to control all of the cursor setting manually through the\n",
       "     * 'cursor' event from matplotlib */\n",
       "    event.preventDefault();\n",
       "    return false;\n",
       "}\n",
       "\n",
       "mpl.figure.prototype._key_event_extra = function(event, name) {\n",
       "    // Handle any extra behaviour associated with a key event\n",
       "}\n",
       "\n",
       "mpl.figure.prototype.key_event = function(event, name) {\n",
       "\n",
       "    // Prevent repeat events\n",
       "    if (name == 'key_press')\n",
       "    {\n",
       "        if (event.which === this._key)\n",
       "            return;\n",
       "        else\n",
       "            this._key = event.which;\n",
       "    }\n",
       "    if (name == 'key_release')\n",
       "        this._key = null;\n",
       "\n",
       "    var value = '';\n",
       "    if (event.ctrlKey && event.which != 17)\n",
       "        value += \"ctrl+\";\n",
       "    if (event.altKey && event.which != 18)\n",
       "        value += \"alt+\";\n",
       "    if (event.shiftKey && event.which != 16)\n",
       "        value += \"shift+\";\n",
       "\n",
       "    value += 'k';\n",
       "    value += event.which.toString();\n",
       "\n",
       "    this._key_event_extra(event, name);\n",
       "\n",
       "    this.send_message(name, {key: value,\n",
       "                             guiEvent: simpleKeys(event)});\n",
       "    return false;\n",
       "}\n",
       "\n",
       "mpl.figure.prototype.toolbar_button_onclick = function(name) {\n",
       "    if (name == 'download') {\n",
       "        this.handle_save(this, null);\n",
       "    } else {\n",
       "        this.send_message(\"toolbar_button\", {name: name});\n",
       "    }\n",
       "};\n",
       "\n",
       "mpl.figure.prototype.toolbar_button_onmouseover = function(tooltip) {\n",
       "    this.message.textContent = tooltip;\n",
       "};\n",
       "mpl.toolbar_items = [[\"Home\", \"Reset original view\", \"fa fa-home icon-home\", \"home\"], [\"Back\", \"Back to  previous view\", \"fa fa-arrow-left icon-arrow-left\", \"back\"], [\"Forward\", \"Forward to next view\", \"fa fa-arrow-right icon-arrow-right\", \"forward\"], [\"\", \"\", \"\", \"\"], [\"Pan\", \"Pan axes with left mouse, zoom with right\", \"fa fa-arrows icon-move\", \"pan\"], [\"Zoom\", \"Zoom to rectangle\", \"fa fa-square-o icon-check-empty\", \"zoom\"], [\"\", \"\", \"\", \"\"], [\"Download\", \"Download plot\", \"fa fa-floppy-o icon-save\", \"download\"]];\n",
       "\n",
       "mpl.extensions = [\"eps\", \"jpeg\", \"pdf\", \"png\", \"ps\", \"raw\", \"svg\", \"tif\"];\n",
       "\n",
       "mpl.default_extension = \"png\";var comm_websocket_adapter = function(comm) {\n",
       "    // Create a \"websocket\"-like object which calls the given IPython comm\n",
       "    // object with the appropriate methods. Currently this is a non binary\n",
       "    // socket, so there is still some room for performance tuning.\n",
       "    var ws = {};\n",
       "\n",
       "    ws.close = function() {\n",
       "        comm.close()\n",
       "    };\n",
       "    ws.send = function(m) {\n",
       "        //console.log('sending', m);\n",
       "        comm.send(m);\n",
       "    };\n",
       "    // Register the callback with on_msg.\n",
       "    comm.on_msg(function(msg) {\n",
       "        //console.log('receiving', msg['content']['data'], msg);\n",
       "        // Pass the mpl event to the overriden (by mpl) onmessage function.\n",
       "        ws.onmessage(msg['content']['data'])\n",
       "    });\n",
       "    return ws;\n",
       "}\n",
       "\n",
       "mpl.mpl_figure_comm = function(comm, msg) {\n",
       "    // This is the function which gets called when the mpl process\n",
       "    // starts-up an IPython Comm through the \"matplotlib\" channel.\n",
       "\n",
       "    var id = msg.content.data.id;\n",
       "    // Get hold of the div created by the display call when the Comm\n",
       "    // socket was opened in Python.\n",
       "    var element = $(\"#\" + id);\n",
       "    var ws_proxy = comm_websocket_adapter(comm)\n",
       "\n",
       "    function ondownload(figure, format) {\n",
       "        window.open(figure.imageObj.src);\n",
       "    }\n",
       "\n",
       "    var fig = new mpl.figure(id, ws_proxy,\n",
       "                           ondownload,\n",
       "                           element.get(0));\n",
       "\n",
       "    // Call onopen now - mpl needs it, as it is assuming we've passed it a real\n",
       "    // web socket which is closed, not our websocket->open comm proxy.\n",
       "    ws_proxy.onopen();\n",
       "\n",
       "    fig.parent_element = element.get(0);\n",
       "    fig.cell_info = mpl.find_output_cell(\"<div id='\" + id + \"'></div>\");\n",
       "    if (!fig.cell_info) {\n",
       "        console.error(\"Failed to find cell for figure\", id, fig);\n",
       "        return;\n",
       "    }\n",
       "\n",
       "    var output_index = fig.cell_info[2]\n",
       "    var cell = fig.cell_info[0];\n",
       "\n",
       "};\n",
       "\n",
       "mpl.figure.prototype.handle_close = function(fig, msg) {\n",
       "    fig.root.unbind('remove')\n",
       "\n",
       "    // Update the output cell to use the data from the current canvas.\n",
       "    fig.push_to_output();\n",
       "    var dataURL = fig.canvas.toDataURL();\n",
       "    // Re-enable the keyboard manager in IPython - without this line, in FF,\n",
       "    // the notebook keyboard shortcuts fail.\n",
       "    IPython.keyboard_manager.enable()\n",
       "    $(fig.parent_element).html('<img src=\"' + dataURL + '\">');\n",
       "    fig.close_ws(fig, msg);\n",
       "}\n",
       "\n",
       "mpl.figure.prototype.close_ws = function(fig, msg){\n",
       "    fig.send_message('closing', msg);\n",
       "    // fig.ws.close()\n",
       "}\n",
       "\n",
       "mpl.figure.prototype.push_to_output = function(remove_interactive) {\n",
       "    // Turn the data on the canvas into data in the output cell.\n",
       "    var dataURL = this.canvas.toDataURL();\n",
       "    this.cell_info[1]['text/html'] = '<img src=\"' + dataURL + '\">';\n",
       "}\n",
       "\n",
       "mpl.figure.prototype.updated_canvas_event = function() {\n",
       "    // Tell IPython that the notebook contents must change.\n",
       "    IPython.notebook.set_dirty(true);\n",
       "    this.send_message(\"ack\", {});\n",
       "    var fig = this;\n",
       "    // Wait a second, then push the new image to the DOM so\n",
       "    // that it is saved nicely (might be nice to debounce this).\n",
       "    setTimeout(function () { fig.push_to_output() }, 1000);\n",
       "}\n",
       "\n",
       "mpl.figure.prototype._init_toolbar = function() {\n",
       "    var fig = this;\n",
       "\n",
       "    var nav_element = $('<div/>')\n",
       "    nav_element.attr('style', 'width: 100%');\n",
       "    this.root.append(nav_element);\n",
       "\n",
       "    // Define a callback function for later on.\n",
       "    function toolbar_event(event) {\n",
       "        return fig.toolbar_button_onclick(event['data']);\n",
       "    }\n",
       "    function toolbar_mouse_event(event) {\n",
       "        return fig.toolbar_button_onmouseover(event['data']);\n",
       "    }\n",
       "\n",
       "    for(var toolbar_ind in mpl.toolbar_items){\n",
       "        var name = mpl.toolbar_items[toolbar_ind][0];\n",
       "        var tooltip = mpl.toolbar_items[toolbar_ind][1];\n",
       "        var image = mpl.toolbar_items[toolbar_ind][2];\n",
       "        var method_name = mpl.toolbar_items[toolbar_ind][3];\n",
       "\n",
       "        if (!name) { continue; };\n",
       "\n",
       "        var button = $('<button class=\"btn btn-default\" href=\"#\" title=\"' + name + '\"><i class=\"fa ' + image + ' fa-lg\"></i></button>');\n",
       "        button.click(method_name, toolbar_event);\n",
       "        button.mouseover(tooltip, toolbar_mouse_event);\n",
       "        nav_element.append(button);\n",
       "    }\n",
       "\n",
       "    // Add the status bar.\n",
       "    var status_bar = $('<span class=\"mpl-message\" style=\"text-align:right; float: right;\"/>');\n",
       "    nav_element.append(status_bar);\n",
       "    this.message = status_bar[0];\n",
       "\n",
       "    // Add the close button to the window.\n",
       "    var buttongrp = $('<div class=\"btn-group inline pull-right\"></div>');\n",
       "    var button = $('<button class=\"btn btn-mini btn-primary\" href=\"#\" title=\"Stop Interaction\"><i class=\"fa fa-power-off icon-remove icon-large\"></i></button>');\n",
       "    button.click(function (evt) { fig.handle_close(fig, {}); } );\n",
       "    button.mouseover('Stop Interaction', toolbar_mouse_event);\n",
       "    buttongrp.append(button);\n",
       "    var titlebar = this.root.find($('.ui-dialog-titlebar'));\n",
       "    titlebar.prepend(buttongrp);\n",
       "}\n",
       "\n",
       "mpl.figure.prototype._root_extra_style = function(el){\n",
       "    var fig = this\n",
       "    el.on(\"remove\", function(){\n",
       "\tfig.close_ws(fig, {});\n",
       "    });\n",
       "}\n",
       "\n",
       "mpl.figure.prototype._canvas_extra_style = function(el){\n",
       "    // this is important to make the div 'focusable\n",
       "    el.attr('tabindex', 0)\n",
       "    // reach out to IPython and tell the keyboard manager to turn it's self\n",
       "    // off when our div gets focus\n",
       "\n",
       "    // location in version 3\n",
       "    if (IPython.notebook.keyboard_manager) {\n",
       "        IPython.notebook.keyboard_manager.register_events(el);\n",
       "    }\n",
       "    else {\n",
       "        // location in version 2\n",
       "        IPython.keyboard_manager.register_events(el);\n",
       "    }\n",
       "\n",
       "}\n",
       "\n",
       "mpl.figure.prototype._key_event_extra = function(event, name) {\n",
       "    var manager = IPython.notebook.keyboard_manager;\n",
       "    if (!manager)\n",
       "        manager = IPython.keyboard_manager;\n",
       "\n",
       "    // Check for shift+enter\n",
       "    if (event.shiftKey && event.which == 13) {\n",
       "        this.canvas_div.blur();\n",
       "        event.shiftKey = false;\n",
       "        // Send a \"J\" for go to next cell\n",
       "        event.which = 74;\n",
       "        event.keyCode = 74;\n",
       "        manager.command_mode();\n",
       "        manager.handle_keydown(event);\n",
       "    }\n",
       "}\n",
       "\n",
       "mpl.figure.prototype.handle_save = function(fig, msg) {\n",
       "    fig.ondownload(fig, null);\n",
       "}\n",
       "\n",
       "\n",
       "mpl.find_output_cell = function(html_output) {\n",
       "    // Return the cell and output element which can be found *uniquely* in the notebook.\n",
       "    // Note - this is a bit hacky, but it is done because the \"notebook_saving.Notebook\"\n",
       "    // IPython event is triggered only after the cells have been serialised, which for\n",
       "    // our purposes (turning an active figure into a static one), is too late.\n",
       "    var cells = IPython.notebook.get_cells();\n",
       "    var ncells = cells.length;\n",
       "    for (var i=0; i<ncells; i++) {\n",
       "        var cell = cells[i];\n",
       "        if (cell.cell_type === 'code'){\n",
       "            for (var j=0; j<cell.output_area.outputs.length; j++) {\n",
       "                var data = cell.output_area.outputs[j];\n",
       "                if (data.data) {\n",
       "                    // IPython >= 3 moved mimebundle to data attribute of output\n",
       "                    data = data.data;\n",
       "                }\n",
       "                if (data['text/html'] == html_output) {\n",
       "                    return [cell, data, j];\n",
       "                }\n",
       "            }\n",
       "        }\n",
       "    }\n",
       "}\n",
       "\n",
       "// Register the function which deals with the matplotlib target/channel.\n",
       "// The kernel may be null if the page has been refreshed.\n",
       "if (IPython.notebook.kernel != null) {\n",
       "    IPython.notebook.kernel.comm_manager.register_target('matplotlib', mpl.mpl_figure_comm);\n",
       "}\n"
      ],
      "text/plain": [
       "<IPython.core.display.Javascript object>"
      ]
     },
     "metadata": {},
     "output_type": "display_data"
    },
    {
     "data": {
      "text/html": [
       "<img src=\"data:image/png;base64,iVBORw0KGgoAAAANSUhEUgAAAeAAAAHgCAYAAAB91L6VAAAAAXNSR0IArs4c6QAAQABJREFUeAHtvQt4XWd55/vVJrZykaPYpHVobNK0cUPAEXFOpi49Aw4DTVtRNBg8KWVoOr2cxE8MYWSHp/JwC5QSE9vPMQk4GjqkrZue+pmQoBoBbjKx4cykbt0EhCF2zakbOyFyYawoskO3U2yf/39rL+21t5b2da29vsv/fZ5Xa33r+r6/d0mfvrsxEhEQAREQAREQAREQAREQAREQAREQAREQAREQAREQAREQAREQAREQAREQAREQAREQAREQAREQAREQAREQAREQAREQAREQAREQAREQAREQAREQAREQAREQAREQAREQAREQAREQAREQAREQAREQAREQAREQAREQAREQAREQAREQAREQAREQAREQAREQAREQAREQAREQAREQAREQAREQAREQAREQAREQAREQAREQAREQAREQAREQAREQAREQAREQAREQAREQAREQAREQAREQAREQAREQAREQAREQAREQAREQAREQAREQAREQAREQAREQAREQAREQAREQAREQAREQAREQAREQAREQAREQAREQAREQAREQAREQAREQAREQAREQAREQAREQAREQAREQAREQAREQAREQAREQAREQAREQAREQAREQAREQAREQAREQAREQAREQAREQAREQAREQAREQAREQAREQAREQAREQAREQAREQAREQAREQAREQAREQAREQAREQAREQAREQAREQAREQAREQAREQAREQAREQAREQAREQAREQAREQAREQAREQAREQAREQAREQAREQAREQAREQAREQAREQAREQAREQAREQAREQAREQAREQAREQAREQAREQARFwhsCnYOm3oS9Cvw/9C+jl0Lhci8TXoaegz0E/Cq2Wu3CA95+E7oW+FioRAREQAREQARGYhcAncfw66CugC6APQr8JjeQi7DwP/UPoPOjroM9C74BGcid2jkKvgc6H/hGUGfUFUIkIiIAIiIAIiEADBHpxzRnoxaVrb8H2OHROKc3N+6Hfi6WPYH9dLD0X+/8MfU/smHZFQAREQAREwCoC8YzNBsNughEszbJKmsIM+ZvQs0yUZD+2V0JZOmap+Qooj0XCDPxbUJasJSIgAiIgAiJgJQFW/doib4EhH4aujhnEDHYilubuC6U0z0X/QCRdw/PV8hM48Coo24olIiACIiACbhPohvlspjznohu2ZMBvA7wdUFYbPxoDOYn9n46luXtJKc1zUQbcUzoWbXgN24GrhZlv0vHq65QWAREQARFwgwA77rITrnNiQwbMTPc+6BroY1UEWZX8m1BmtFE19L/BPtt92Sua8gz0BujfQilsA2b1858xUSXFku+zzz5rFixIKiBXXe1R8qabbjK7d+/2yKPGXJHfjXHy5SrF25dI1vdjcnLSLFmyhBc6W6OZdwbMzlMfh7IE/L+g1fIwDnCo0l1Q9pi+CroeugUayeewswG6B8qM+SPQ09BHoInCzDe0DPjnf/7ng/OZwZffib8C3h5UvL0NrZeORVW4eTn3Gbz4QuhXoaxS5n8y3P4SlMJSLjtmvQl6Asoi3Oeh26CRbMbOn0BZev4h9BehvwL9EVRSIrBw4cIgWcjvsMKueIcVb9e9zbsE3Mg/AN8B5DfWAf0xnKdKZiHAqrkQRX6HFXXFO6x4u+5tIxmg6z7KfhC4+OKLg+Qgv8MKu+IdVrxd91YZsOsRbND+0dHRBq/06zL57Vc863mjeNcjpPM2EeC42JCEXZ9fhATZISmkQMtXERABvwmwF3SpxoPVe+w75JyoBOxcyGSwCIiACIiADwSUAfsQRfkgAiIgAiLgHAFlwM6FrDWDBwcHW7vR8bvkt+MBbNJ8xbtJYLo8VwJqA84Vf+defvz4cbN48eLOvdCSN8lvSwLRITMU7w6BtuA1PrQBKwO24EOSCSIgAiIgAs0R8CEDVhV0czHX1SIgAiIgAiKQCgFlwKlgtP8hIS7EwKjIb/u/zTQtVLzTpKlnZU1AGXDWhC15/sRE9ZLJlhiWsRnyO2PAlj1e8bYsIDKnJgG1AdfEo5MiIAIiIAI2ElAbsI1RkU0iIAIiIAIi4AABVUE7EKQ0TCwUCmk8xrlnyG/nQtaWwYp3W/h0c4cJKAPuMPC8Xrdx48a8Xp3re+V3rvg7/nLFu+PI9cI2CKgNuA14Lt3KkkFXV5dLJqdiq/xOBaMzD1G8nQlV24aqDbhthHpApwiEmPmSrfzu1Bdmx3sUbzviICsaI6Aq6MY46SoREAEREAERSJWAMuBUcdr7sJ07d9prXIaWye8M4Vr4aMXbwqDIpFkJKAOeFY1fJ3p6evxyqEFv5HeDoDy5TPH2JJCBuKFOWIEEWm6KgAiIgE8E1AnLp2jKFxEQAREQARHoIAFVQXcQdp6v4jqpIYr8DivqindY8XbdW2XArkewQfu3bdvW4JV+XSa//YpnPW8U73qEdN4mAmoDtikaskUEREAERKAhAmoDbgiTLhIBERABEQidwMsvv2zGxsYMt5IpAq8QCBEQAREQARHIisDZs2fNhg1bzMjIMTM5ucQsWPCs6etbajZvXm/mzAm7FTRs77P64ix87tDQkIVWZW+S/M6esU1vULxtisaULcx8t2+/wRw+fK85fvyDxS3TPB66KAMO5Avo7e0NxNNKN+V3JQ/fU4q3XRFmdTNLvoXCqgrDmB4ZORp8dbQy4IrPwt/EypUr/XWuhmfyuwYcD08p3nYF9cSJE8Vq5ySrTp5cYsbHx5NOBXNMGXAwoZajIiACItBZAosWLSq2+Sa9tbv7ObNw4cKkU8EcUwYcSKgPHToUiKeVbsrvSh6+pxRvuyI8b968Yoerrq69FYYxzY5YPB+yKAMOJPrDw8OBeFrppvyu5OF7SvG2L8Ls7bx27X6zbNk6c9llm7B9XzHN46GLJuII/QuQ/yIgAiLQAQLskMU2X1Y7p1Hy9WEiDo0D7sCHp1eIgAiIQOgEmOkuXrw4dAwV/qsKugKHEiIgAiIgAiLQGQLKgDvDOfe3bNq0KXcb8jBAfudBPb93Kt75sdebmyegDLh5Zk7e0d/f76Td7Rotv9sl6Nb9irdb8Qrd2rw7Yd2MANwO5TRNF0HPg56FRsL9AvTHUNp6DvqL0O9CI7kLO78HXQB9Esrnxc8jOS285kUIxqZxVyICIiACIuAiAR86YeVdAh5H4D8L/UCND6AP55hbdpe28cz1Thz7behboa+EPgHdDb0AKhEBERABERABawnknQE/CjI7oUdqEKpVSl+L++6BPg09Df0wlKXod0AlMQL79u2LpcLZld/hxJqeKt5hxdt1b/POgBvh9+e46IfQv4eyqjkSloqvgO6PDmB7Bvot6HWxY9oFgdHR0SA5yO+wwq54hxVv172tVbrspG9vwsseh1a3Ad+IY6xWZsbKauYHoYPQIejl0GPQ10D/ARrJX2JnEvp/RQdiW2baagOOAdGuCIiACLhIQG3A2UdtD17BqmV2wvoq9P+GvhdKYSZL6ZnaTP+8BHvRuemD8Z01a9aYgYGBou7atau4LRTY12tKdu7caXbv3h0lsYblcTM4ODid5g7XHY1Xd3EO2uohEEzH56bl9dXrlfK5fH4kfC/fHwntoq2yb6p6Ufymvgx9f1Mc9PtRnuM9hL8v/PvY19dnVq9ebTZu3Bj9mXR2a3sJuBrsR3DgJugvlU6w7Xgr9L5Sei62Y9D/DGVpuVpUAq4morQIiIAIOEhAJeD2g8Y26Pkl5dO6Svv8x4DtuCugrJZmxvrL0DugfwGN5HPY2QB9LfR86B9CWWJ+BCqJEaguwcdOeb0rv70O7wznFO8ZSJo+wDmbx8bGDLeSbAnkXQK+Be49AD1XcpP2cP9GKEurn4ayrZdV0EehzHA/D43Lx5C4FcphSuyodTs0PlQJyWkJtgTMau4Q52GV39PffhA7infrYT579qzZsGGLGRk5ZiYnlxTX8eWSgVy1aM4c+/rr+lACzjsDbv1rae3OYDPg1nDpLhEQgVAIDAzcY7ZvvwH9TVZNu8x1e7mU4NatnHLBLvEhA7bv3xq7YixrREAERMB7AqxuZsk3nvnSaaZHRo6qOjqjL0AZcEZgbXtsvFe3bbZlaY/8zpKufc9WvFuLyYkTJ4rVzkl3nzy5pLiOb9I5HWuPgDLg9vg5c/fExIQztqZpqPxOk6b9z1K8W4vRokWLim2+SXd3dz9nFi5cmHRKx9okoDbgNgHqdhEQARHwgYDagDsfxVd0/pV6owiIgAiIgG0E2NvZGPaCfsiw2pkl36gXtG22+mKPSsC+RLKOH5wxqKuLw6zDEvmteIdAIM3vnB2yxsfHi9XO8+bNsxafekFbGxoZVk3Ah2nbqn1qJC2/G6HkzzWKd/uxZKbLOQNsznzb99KOJ6gEbEccMrcizf+QMzc2xRfI7xRhOvAoxduBIKVkokrAKYHUY7InEGL1M6nK7+y/LZveoHjbFA3ZUo+AhiHVI6TzIiACIuAoAc3rbHfglAHbHZ/UrIsvcZjaQx14kPx2IEgpmqh4T8HkvM4cVrR8+XqzYsWO4pZpHpfYQ0DDkOyJRaaW9PRUL5uc6eusebj8tiYUHTFE8Z7CzEUVpuZ1nprDmUuOHzu2Fye3WDmvc0c+Dgtfok5YFgZFJomACIhAqwRY7cyS7+HD9854xLJl68yBA1u96OGsTlgzwqsDIiACIiACeRLQvM550m/u3WoDbo6Xs1dzndQQRX6HFXXF2xjN6+zON68M2J1YtWXptm3b2rrf1Zvlt6uRa81uxdsUq5c5hSTX8o0L0zyuCTbiVPLdVxtwvvz1dhEQARFInQB7O7MjFtfyrZ7Xec4cP8pdPrQBKwNO/dPXA0VABESgMwTY4Yptvqx2TirZujKvcyu0fMiANQyplcjrHhEQARHIkUC5hHvMTE4uKa7lG61cFC/hRvM652iqXl2DgB91ETUc1KkpAkNDQ0GikN9hhT2UeEfjfDnU6PjxD2LI0euK4355XOIOAWXA7sSqLUt7e3vbut/Vm+W3q5Frze4Q4s1q5ZGRY6ZQWBWD1FtMs82X5yVuEFAG7Eac2rZy5cqVbT/DxQfIbxej1rrNIcQ7eZzv1O83O1xxLV+JGwSUAbsRJ1kpAiIgAkUCGufrz4egDNifWNb05NChQzXP+3pSfvsa2WS/Qog3O1bNHOd7qDjuV+N8k78LW48qA7Y1MinbNTw8nPIT3Xic/HYjTmlZGUq8N29eb9au3W84t/Nll20yr3zl7xTTPC5xh4DGAbsTK1kqAiIgAhUEfB7nW+FoQkLjgBOg6JAIiIAIiEBnCGicb2c4Z/UWVUFnRVbPFQEREAEREIEaBJQB14Dj06lNmzb55E7DvsjvhlF5caHi7UUYg3FCGXAgoe7v7w/E00o35XclD99TLseb7bljY2MtTaThst++f5O1/FMnrFp0dE4EREAEMibQ6LzOGZvh3OPVCcu5kMlgERABEbCLQDSvc6FwZ9Gw48eNOXZsL/a3mK1bp47ZZbGsSYuAqqDTImn5c/bt22e5hdmYJ7+z4WrrU12Ld/K8zqbpeZ1d89vW76fTdikD7jTxnN43Ojqa05vzfa38zpd/p9/uWryT53WeotbMvM6u+d3p78LW96kN2NbIyC4REAHvCbAEvHz5eiwneO8MX5cte585cGCL4VhfyUwCPrQBqwQ8M646IgIiIAIdIZA8r7PRvM4doZ//S16RvwmyQAREQATCJTA1f/MWrPH7kGG1c3f3c8XFFjSvs//fhErA/se46OHg4GAgnla6Kb8refiesjnes43znTNnTrG384EDW81TT91SrHZm72ceb1Rs9rtRH0K8Lu824JsB/XZoL/Qi6HnQs9BIrsUOG0euh05APw+9CxoXpn8PugD6JJTP+y40SXjNixCzYAF3w5HjGNuwePHicBwueSq/wwq5jfHuxDhfG/3O+svzoQ047yrocQTps9ALoH9cFTBmyF+DfgH6Vugy6FehzIi3QSkcJPfbUJ7/R+hHobuhvPZHUEmJQIiZL12X32H9CtgY706M87XR77C+vNa8bbyOo7Xn17vrUVywE3ok4cJ34hjt+wj0Zeh3oPdA10EjWYsdHnsaehr6YShL0e+ASkRABEQgVwJpjfPN1Qm9PDMCeWfAtRxjtfQ3ofEq6f1IXwll6Zh1yFdAeSySM9j5FvS66IC2UwR272bFQHgiv8OKuW3xTmucb70o2uZ3PXt1foqAzRkwM1hWN8flhVKC56iUpGuic1NX6KeZmKjGFAYU+R1GnCMvbYl31OGqu7sb/U2ejcyr2LK388KFCyuOtZqwxe9W7Q/1Ppsz4EkEpacqMJeU0jxHpSRdE52buqLq55o1a8zAwEBRd+3aVdwWCoXpq3bu3Gni/1Gyg0N1L8OhoSETn/7t0KFDpnopNKZ5PBJez/viwufy+ZHwvXx/JLSLtrZrX29vr9X2ZcWPq8SkwS8r+9KKb7V9N998czHetnx/1fbx+87i94N+5/n7+9WvfhVDiN5TnFxjxYod5rrr7jQvvPDXmEyD3Vki2WnOO+/TxaFGHAecxt8X+p3n35dOxZd/H/v6+szq1avNxo0bI6DObvPuBR2BexN2HofGe0H/FtKfhr4KGlVD34F9tgFfBaUcgW6F3scEZC50DPqfoQ9Cq4Ul4yB7QVeDUFoERCB9AgMD95jt228ozuUcPb2ra495zWvuNy+9dOmMcb7NDDWKnqftFAH1gm7/S2AJnJnu/NKjurBlOy47XT0M/RSUw4w+CWWmux66BRrJ57CzAboHysz4I1B2xnoEKokRYEmrq4t4wxL5rXh3ikC5w1XlCkaFwo3IfL9onnzybnPq1KlitXPa00uG+p13KrZZvSfvKuj3wrF/gXJ4EeUUlMOH/m1p/yZsWTo+AWUvIo4D3gaNZDN2/gT6GPSH0F+E/gpUQ5AAIS4+VNfE/Wl0X343SsqP6/KMd70OV8x8OVwo7cyXkcvTbz++nHy8sKUKulPeB1sFHep/yPK7U79adrwnz3izBJzXwgp5+p1X5H2ogs67BJxX7IJ7b4jVzwyy/A7rU88z3nkurJCn32F9Yel6m/dMWOl6o6eJgAiIQI4EtLBCjvAdfLVKwA4GrRWT40ObWrnf1Xvkt6uRa83uTsU7GufLbVzSWFgh/rxG9zvld6P26LrGCKgE3Bgn56/q6akeLu28Sw05IL8bwuTNRVnHu9GFFVgd3cn5mbP225sPxDJH1AnLsoDIHBEQAXsJJI/z3WvWrt1fXFLQXsv9s0ydsPyLqTwSAREQgUQC5XG+qyrOFwqrzMjIUVNdHV1xkRIikEBAbcAJUHw8FJ/u0kf/ZvNJfs9Gxs/jWca73jjf8fHx3KBm6XduTgXwYmXAAQSZLm7bFp+/JBCn5Xc4gS55muV3vmjRoo4srNBK0LL0uxV7dE9jBNQG3BgnXSUCIiACWNgjaa5ntQHn8Wn40AasXtB5fDl6pwiIgNUE2J7LKmeWeuNTR2qcr9Vhc844lYCdC5kMFgERyIpAo8OMmEGzzZfr+cYz6Kzs0nNnEvChBKw24Jlx9fJI9TrEXjqZ4JT8ToDi8aF2471hw5bicoKHD9+LdXo/aLjl8oI8HpdonK8tmW+7fsd9037nCCgD7hzrXN/U29ub6/vzern8zot8Pu9tJ94uDzNqx+98IqW3koAy4EC+g5UrVwbiaaWb8ruSh++pduJt8zCjenFrx+96z9b57AgoA86OrZ4sAiLgAAGWfMfGxkx3d7e1w4wcwCgTWyCgDLgFaC7ecujQIRfNbttm+d02Qqce0Ey82eGKw4q4hu+KFTvM9dcPmgsv/IGZP//xCp+7uvaavr6lVne2asbvCueUyJWAhiHlir9zLx8eHjZXX311515oyZvktyWB6JAZzcQ76nBVKNxZtO74ca4fvcdcc8395qWXHjYnTy5Bqfi5YuY7NfyoQ0608Jpm/G7h8bolIwIahpQRWD1WBETAXgKsdmbJl72cq2XZsnXmySfvNqdOndIwo2o4FqV9GIakErBFH5RMEQER6AyBeh2umPl2cjnBznitt9hGQG3AtkVE9oiACGROwOZ5nTN3Xi+whoAyYGtCka0hmzZtyvYFlj5dflsamIzMajTenECDHavYwSouLnS4itsb7Tfqd3S9tnYQUBW0HXHI3Ir+/v7M32HjC+S3jVHJzqZm4u3TvM7N+J0dfT25WQLqhNUsMV0vAiLgFAF2uEpaWCFyguc1r3NEw52tOmG5EytZKgIiEBiBRhdWiOZ1DgyP3LWAgNqALQhCJ0zYt29fJ15j3Tvkt3UhydSgeLyjcb71FlbI1KAOPTzud4deqdekQEAZcAoQXXjE6OioC2ambqP8Th2p1Q+M4s1q5ZGRY6ZQWFVhL9MjI0cNz/skkd8++RSCL2oDDiHK8lEEAiPAuZ05vSSXFKyWyy7bZJ566haN860G41jahzZglYAd++hkrgiIwOwEWLLVwgqz89EZuwhoGJJd8ZA1IiACLRBI6nAVLaxw+vSbp5/o6jjfaQe04xUBlYC9CufszgwODs5+0uMz8tvj4JZcY6n3ttvuMtu3/x+Y2/miYrUzO14dPHgbFlYYMpzbmdXOy5a9z6xdu9/YvrBCKxEL9TtvhZVN96gN2KZoZGjLcSz1EuLctvI7w48q50dHpd4vf/mfzJEjL5ozZx6ERVjSyCyetiyUhRVC/M59aANWFfT0r6rfOyFmvoyo/Pb3u46GGRUK/xFO7ig5Ws58eYBLCoawsEKo33kp6M5uVAXtbOhkuAiES6BymNEigHg2EQbX8124cGHiOR0UgbwJKAPOOwIdev/u3bs79Ca7XiO/7YpHWtZULic4D49dCt0LLX/nIXW4CvU7R8CdFlVBOx2+xo2fmJho/GKPrpTfHgUTrrDky8y3u7vbLFjwLDpcRf6tx84W6GNm7tyvmyuvnDRve9urvexwFXkc34b6nccZuLivTlguRk02i0BgBKIOV5zdanJySTHz5TCjp5++1cSHGc2f/6i55Zb/19x774cM53iW+EtAnbD8ja08EwERsIhAucPVnUWrWPLt6tqDYUb3m5deerjY2YrtvVzjd/Pmj5k5c9S6ZlH4ZMosBFQFPQsY3w4XCgX8weryza26/sjvuoisv6Dc4Woq840MLhRuROb7RfPkk3cXezqzsxVLyiFmvqF+59G34OrWhX8TPwq4P4ZOQk+WthzwF8m12Pk69BT0OSivl1QR2LhxY9WRMJLy2/04V3a4qvQnPsyIVc6KdyUfpewm4EIbMDPUfwd9YwLKi3DsMPQL0I9Dl0G/Ct0M3QatlgU48CIEbUjcDUdC/Q9Zfrv/jbMEvHz5esxyde8MZzi71YEDW6bbexXvGYi8PeBDG7ALJeBaH9A7cZI+fATK9cW+A70Hug4qiREIsfqZ7svv2Efg6C5Ltmzb5bCiuCQNM1K844S0bzsBV9qArwPIf4b+CPoE9L9An4H2Qr8JPQuNZD92roSydMxqaYkIiIDjBKbmb96CtXwfqupwxeFHEhFwk4ALJeD/DrTXQH8K+gboOeij0AugrEeuHuD6Ao5RwqpjnvJ51p87d+6c9ZzPJ+S3W9FldTOXE+Q2LuxYtXXrnahu3lpcy5fVzkxXd7hSvOPUtG87ARcy4KcBMZpnbgz7vwO9HMrMmB2zeqBxuaSU4LlEWbNmjRkYGCjqrl27ilu2HUXCX+L4zDKc6Lx6tZGhoSGzb9++6BZz6NAhs2nTpuk0d5jm8Uh4Pe+LC5/L50fC98b/iNAu2tqufSdPnrTavqz4XXDBBanwy8q+tOJbbV9PT49V31+1ffze478f7L387nevM0uW3GRWrNhRbPMdGLjH/MEf/EHF78eePXvM17/+9Yo23/jvB/328fe3Hj/6neffl3r2Md5p2Me/j319fWb16tVedLhzoRMWYxcXjq5/Efp26GXQT0NfBY2qoe/APtuAr4JWC0vFQXbCqgahtAjYRICZ7fbtN+AfzVXTZrGNl8sHsqQrEYFqAuqEVU0km/QaPHZR6dGshv5jKEvCbAt+GHoGeheUg1yXQ9kodB9UIgIi4ACB8jjfVRXWMjMeGTk6ozq64iIlRMBhAi5UQXOtMVZDs0PV30PnQt8CfQnKYzdB3wQ9AeVM7J+HJg1BwuFwJV7NHRIF+W1/tOuN8x0fH2/YCcW7YVS60AICLmTA/eDEki97NS+Bvgd6BBrJd7DzRuiFUFZFfwIqqSKwbVuY/5PI76oPwaJk1OEqWlghybRmlxNUvJMo6pitBFxsA26HpdqA26Gne0UgBQKNLqygNuAUYHv8CB/agF0ZB+zxZyTXRCAsAs0trKBxvmF9HWF5qww4rHjLWxHIlcCpU6fM8PAR9Hau7NmctLCClhPMNVR6eQcIuNAG3AEM/r+ievyx/x5PeSi/7Yg0q5051Ki39/3mmWcuTTSqemGFxIvqHFS86wDSaasIKAO2KhzZGdPb25vdwy1+svy2IzhRtfORI/djycBosrpK25rtcFV591RK8U6iomO2ElAGbGtkUrZr5cqVKT/RjcfJ7/zjVDnOl/PoLIXurTAsaWGFigsaTCjeDYLSZVYQUBuwFWGQESLgHwFmvBzjy+3kJEcQRsKOVVugD2Eu5x5zxRUnTH//lWZqwYXoGm1FwH8CyoD9j3HRQ87VevXVVwfibdlN+V1m0am96mFG3d3H0OnqH/H6DVBWulHZCetlZL63mdHRz5iLLuIw//ZF8W6foZ7QOQKqgu4c61zfNDw8nOv783q5/O48+ai99/Dhe7GQwgfN9753H5YQHDBz536gwpiuridQ8n1NapkvH654VyBWwnICmojD8gDJPBFwiQCrm5cvX2+Y+VZLT89vmksvvdicOnWFYYervr6lxWrn6iUFq+9TWgSSCGgijiQqOiYCIhAsgVrzOp9/fq957LF3F5cSXLhw4fSSgsHCkuPBE1AbcPCfgACIQPsEog5X0bzOsSWupx/OUu/ixYuV8U4T0U7oBNQGHMgXwMXPQxT5nW3Uowk2WO28YsUOc/31g+bCC39g5s9/vOLFaQ0zqnhoQkLxToCiQ9YSUAnY2tCka1h/PxeVCk/kd7YxjzpcRVNLsuTb1bXHXHPN/eallx5G56slFe292Vpj0KlL33nWjPX89AioE1Z6LPUkEQiKAOd17u290xw5sn2G38uWrTNPPnk3OlydMmrvnYFHB1IgoE5YKUDUI0RABNwiEI3zHR4+iHmdL080Pj6vc+IFOigCIlAcES8MARDYt29fAF7OdFF+z2TS7pGo2jnreZ1bsVPxboWa7smLgDph5UW+w+8dHR3t8BvteJ38TjcO7O08MsKZrVbhwdnO69yK5Yp3K9R0T14E1AacF3m9VwQcJDA2Nlbs7cwZrqbkLDac1/nojHmdNcFGCZE2mRBQG3AmWPVQERAB2wjMPs43u3mdbWMge0QgbQIahpQ2UT1PBDwiEHW4YrUzVzRasODZ6XG+p0+/edrTLOZ1nn64dkTAUwJqA/Y0sNVuDQ4OVh8KIi2/2wtz1OEqWliB24MHb8M43yHDoUaXXbYJ2/eZtWv3W7GcoOLdXrx1d2cJqA24s7xze9txzJDAaQBDE/ndesRrLaxg6zhfxbv1eLt2p9qAXYtYwPaGmPky3PK79Y++1sIKto7zVbxbj7fu7DwBVUF3nrneKAJOEFi0aFGxzTfJWC6swBmuJCIgAq0TUAbcOjun7ty9e7dT9qZlrPxuneS8efOKa/ZyIYW4dGphhfg7G91XvBslpetsIKBe0DZEoQM2TExMdOAt9r1CfrcXk82b1+MBWzD5xkMdX1ihFcsV71ao6Z68CKgTVl7k9V4RsIhANM6X1c4s+VYLz4+Pj2thhWowSudGQJ2wckOvF4uACKRBIGmcb1/f0uKQovhMVsyUQ+3glAZnPUMEkgioCjqJiofHCoUC1mnt8tCz2i7J79p8onG+8fV8jx3bi5u2mK1b76x9s4VnFW8LgyKTZiWgTlizovHrxMaNG/1yqEFv5PfsoFitXF5YoXwdF1oYGTlqeN41Ubxdi1jY9qoNOJD4q2QQSKBLbtaKd9Tey+3KlTtNeWGFMiPOcPXUU7c4V+1cy++yd/7thei32oD9+4699SjE6mcGU36XP+nq9t7ubi4r+I+4YAO0sjLM1XG+inc53tqzn4DagO2PkSwUgVQIJLX3zp37qJk79wPmzJnPTL/D5nG+00ZqRwQ8IFD5b68HDsmFZAI7d+5MPuH5Ufk9FeBTp06Z4eEjKPGuqoj4mTNvNd3d/9tcddVa6xZWqDC0wYTi3SAoXWYFAZWArQhD9kb09PRk/xIL3xC631G18/DwQfPMM5cnRuj883vNY4+9uzj+l9NLJo0DTrzRwoOhx9vCkMikGgTUCasGHJ0SAdcJDAzcY7ZvvwEl3zfAFc5qde8Ml7ic4IEDW5zOeGc4pQPeE/ChE5aqoL3/TOVgqAQqhxlxdqul0L0VONTeW4FDCRHoKAGfMuC7QO770JPQvdDXQiUlAlwnNUQJye+DBw+a3/qt3yqGmX7PXE6QJeD90HVmzpwPmSuvXGvWrt1fnPXKl28jpHjHYxaq33EGLu77kgFzyp7fhr4V+kroE1Au/3MBVAIC27ZtC5JDSH5ffvnl5pFHHjF/8zd/Yz75yU+ic1V31XKC/HXnr8pWc8UVz5vR0XuKs13Fp5x0/SMJKd7xWIXqd5yBi/u+tAEfAfyt0PtKQZiL7fPQAeiDpWPcLIC+CMEfJu5KRMAfAuxw9frXv8EcO3bSnH/+Leaii/4JmfC4efrpW83p02+edpTVziz5ujjV5LQT2gmegA9twD70gmZOegWUdWuRnMHOt6DXQeMZcHReWxHwjgDH+f7DP/wnTCG5Af9lXgX/7jXz53/OXHPNkHnppYedWE7Qu6DIIRGoQcCXDJguVi94+wKOqZhbI/g65Q+BqMPVyy+zl/Onob8B/ROUfH8dme9u8+STdxuOBXZ9mJE/EZMnIlA9/5ybRCZLZlcPdL0Ex6NzFZ6tWbPGDAwMFHXXrl3FLedSjYSD+XfvZhPylLCDw+DgYJQsboeGhsy+ffumjx06dMhs2rRpOs0dpnk8El7P++LC58Y7UPC98ckEaBdtbde+u+66y2r7suJ33333pcIvK/vSii+/reef57SS/w/0OSj/9zwGPVQs+TLzfeaZZ8wDDzyAY2Xp1PfXKX78/fLx97cev+jvUV5/X+rZxy8ujb9//PvY19dnVq9ebUJdeKP822vPHtuA18XMYRvwD6DviR3jLv8qnUMb8LnQBB1zQnO56K/vfp8+ffrc888/f+7kyZPnfvZnf/+cMZdDH4b+B2gBeu7csmXrzvG6EMT3eM8WwxD95t9x/j0v/V3Hxj3xoQqa1D8H5Yzye6DMjD8CPQ19BCoBgZUrVwbJwVe/oxmuuJzg5OSSYm/nBQtexGQa/xVtwL+KWL+jGO/Qxvn6Gu96v7yh+l2Pi+3nfcmANwP0RdDHoN3Qv4f+CvRHUIkIeEcgaWGFrq495rWvvR9tviPqcOVdxOWQjwR8GQfM2HwMehmUGfEq6HehkhIBttGEKD76PdvCCoXCjch8Ly12uNq58w3F6SU51Mincb71vmEf413PZ54P1e9G2Nh8jU8ZsM2cc7dteHg4dxvyMMAnv1ntzLmde3vfjw5VlybiPHlySbG38xNPPBHk3M4+xTsxwLMcDNXvWXA4c9iXiTgaBc5OWJqIo1Faus4qAlpYwapwyJicCfgwEYdKwDl/RHq9CDRCIBrnO7We7zzcshS6t+LW0DpcVTivhAg4SMCXTlgOopfJIlCfADNeLqrALXs7l4ULK2yBPoQ23h7M7XzC9Pdf6dXCCmVftScCfhJQCdjPuM7wqnqSkBkXeHrAVb+j9t7ly9ebFSt2mLe+9R5MxsJRdmdLkeKv7uwLK7jqd7ufofxul6Du7yQBlYA7STvHd/X39+f49vxe7arfScOM5s591Myd+wFz5sxnpoF2dT2Bku9rsPACO/+XxVW/yx60tie/W+Omu/IhoE5Y+XDXW0VgVgKsbmbJ9/BhzutcKT09v2kuvfRi9HS+AisdPYdp+ZYWq51DGmpUSUSpUAn40AlLJeBQv175bS0BtvlWtveWTT3//F7z2GPvLg4x0sIKZS7aEwEXCagN2MWotWBzfOGIFm539hYX/V60aFFxaskk6Cz1Ll68uKjz5rE3dLK46HeyJ80dld/N8dLV+RJQBpwv/469fXR0tGPvsulFLvrNjJVVyxxWFJdmhhm56Hfc11b35Xer5HRfHgTUBpwHdb1TBOoQKC+2cHTGvM5q760DT6eDIOBDG7Ay4CA+VTlpK4FonC+rnZOqlHl+fHzcqL3X1gjKrrwI+JABqxNWXl+P3hs0gXIJt7ycYFKPZmbKbPOViIAI+EdAbcD+xTTRo8HBwcTjvh+01e9onC+HGh0//sHikKPt228wPJ6G2Op3Gr7Veob8rkVH52wjoCpo2yKSkT3Hjx8PsiRlo9+1xvkuW7YOywhuTayObubTsNHvZuxv9Vr53So59+7zoQpaJWD3vruWLA61GtNGv2uN8+VygmzzbVds9Ltdnxq5X343QknX2EJAGbAtkZAd3hNgyXdsbAwzWHXXHOfLDlcSERAB/wkoA/Y/xkUPd+/eHYinlW7a4Hf1wgrXXz9oLrzwB2b+/McrjG1mnG/FjQkJG/xOMCvzQ/I7c8R6QYoE1As6RZg2P2piYsJm8zKzzQa/ow5XhQJXLzLodGUwycYec80195uXXnp4xjjfNGDY4HcafjT7DPndLDFdnycBdcLKk77e7T2BU6dOmd7eO82RI9tn+MoOV08+eTcWVjilcb4z6OiACNQm4EMnLJWAa8dYZ0WgJQLRON/h4YPmmWcuT3wGO1wx8w2141AiFB0UgYAIqA04kGAXCoVAPK10My+/o2rnI0fuN2fPvlBpVCnFhRWy6nCVl9+JjnbwoPzuIGy9qm0CyoDbRujGAzZu3OiGoSlbmYff7O08MnLMFAqr4A1XLFoK3QstS5odrspPLe/l4Xf57fntye/82OvNzRNQG3DzzJy8gyWDrq4uJ21vx+g8/OZQoxUrdhRnuJqy/Sw2nOHqqJkzp8dcccUJ099/pdm8eT3S2fwPnIff7cQprXvld1ok7X+O2oDtj5EsLBEIMfOl6530myVfTrIRjfNlb+cpYSbLHtAvI/O9zYyOfsZcdNFFpXPZbDrpdzYetPZU+d0aN92VDwF1wsqHu97qEYGowxWrnScnlxQn2YjG+Z4+/eZpT7u6nkDJ9zWZZ77TL9SOCIiA1QSyqf+y2uUwjdu5c2eQjnfC76jDVXxhhYMHb8M43yHDoUaXXbYJ2/eZtWv3F6udOxGITvjdCT+afYf8bpaYrs+TgErAedLv4Lt7eno6+DZ7XpW13+UOV1OTbESeFwo3YpKNL+Y2zjdrvyM/bdvKb9siIntqEVAnrFp0dE4EZiEQtfdyu3LlzliHq/INLPk+9dQtGudbRqI9EUiNgDphpYZSDxIBNwhUt/d2d3O40T/C+A3QyhadLMf5ukFLVoqACNQiUPkXo9aVOuc0Aa6TGqKk7Xd1e+/3vncf5nIeMHPnfqACb9bjfCtelpBI2++EV1h5SH5bGRYZNQsBZcCzgPHt8LZt23xzqSF/0vSb00YODx8pTbBRfv2ZM2/F0KP/ba66am0uHa7KlpT30vS7/FT79+S3/TGShWUCagMus9CeCCQSiKqdo3mdz579+Izr2N67b9+7zbx587Swwgw6OiAC6RNQG3D6TPVEEbCOQFTtXCjcAdvWJ9rH9l4uqsAMWCICIiACjRBQFXQjlHRNsATKw4xWgUE+8zoHC1+Oi4DnBJQBex7gyL2hoaFoN6htu35zaknOblUWloD3Q9dhHucPmSuvXNvRCTbKdtTea9fv2k+396z8tjc2smwmAU3EMZOJl0d6e3u99KueU636HY3ztWFe53o+Jp1v1e+kZ7l0TH67FC3Zqk5Y+gZEIEYg6nBVPa/z00/fairndd5bLPlu3Vo5A1bsUdoVARHIkIA6YWUIt/ToN2G7B3qqlOY/DFzdnAusRsI5Fj8L7YNy3bcR6Droi1CJCDRFoNzhaipj5fDprq49mNf5fkwt+TDG/C7BkKPnTF/f0o7N69yUA7pYBETAGQIutAGfA82LoQug3dB45oukeRB6KfRnoD8HXQz9U6gkRuDQoUOxVDi7zfhd2eGqzGhqXudLi/M6c2rJAwe2GJZ8s1rLt/zm1vea8bv1t9h3p/y2LyayaHYCLmTAtH42O5kZ/yp0AMqS8TiUvWTeDr0cKikRGB4eDpJFM37P7HBVRsaSLyficGWoUTN+l710f09+ux/DkDywvQ2YVdCPQ5+DzocegH4C+g0ohRntX0IvYCImBey/C/rl2DHushT9IgRrtnJXIgJlAiwBL1++3nBZwWrhcoIs+WqcbzUZpUUgHwI+tAHPVrLMmugDeAHba8+UttyPKzNdCutNXw9l9fLPQr8G3Q29FkopZqhTuxU/J0rnKg4qIQK1CDBzZdsu53GOS97zOsdt0b4IiIA/BPLKgG8HwldC2XbLbbX24xjln6Es9TJzfgm6Bfo30P8ApUxC2T5cLeyYxXOJsmbNGjMwMFDUXbt2FbeFAgvNU8JFvXfvZj4/JZzgfXBwMEoWtxxvuG/fvuljbHvatGnTdJo7TMfbpHh99ThFPjc+gTzfG19UnHbRVtlniryz5rd58/pi7+af/MlVZtGi2w1LvmvX7je/93t9im/p69bvR/nXXL+/Uyw69fePfx/7+vrM6tWrzcaNG8uB0F7HCPwPvOmTpbctxZal6NeV0tz0QnksqQ2YJeZzqII+F5rcfffdoblc9Hc2v0+fPn3u+eefP8dtkvD42NjYrOeT7rHp2Gx+22RjFrbI7yyo2vlM/h3n33Mo/647KbZPxPHLoHoYehTaBb0V+gbo1BgRY45h/yvQzdD3QNmmzf2/grLdWFIi0N8fVSqEhaTa76RxvtGQonivZlZHs8OVq1Ltt6t+NGu3/G6WmK7Pk4DtnbA+BDi/D10I/Rcoq6M/Dv06NBJWN98HfRuU/w3tgq6DJlVBF9uM1QkLdAKVgYF7zPbtN1QsKcg2XlYza1KNQD8Kue0kAR86YdmeAaf9YSgDTpuoQ8+r3ct5HXo5b1UvZ4fiKVPDJuBDBpxXJ6ywv5wcvI93GMvh9bm9Mu53vXG+4+PjudmZ9ovjfqf9bJufJ79tjo5sqyagDLiaiKfp0dFRTz2r7Rb9ZskXHaowhWQ3xn8/m3gDp5dcuJAtHX5IyPH2I4LNeRFqvJujZN/VqoK2LyayKCUCSR2uLrzwB0YLK6QEWI8RgRwJ+FAFbXsv6BzDq1e7TICl3nXrPml27FiFDldTnea1sILLEZXtIuAfAWXA/sU0aI+iUu+Xv/xP5siRF82ZM3dV8JhaWOGLxYUVOLczq501vWQFIiVEQAQ6REBtwB0CnfdrqmfyytuerN4fLSf4ve99GJkv52SpnMGM73VtYYVWWIUS72o28ruaiNI2E1AGbHN0UrTtjjvuSPFpdj6K1c4jI8dKY3wXwUh2uJrpt28drpKiEUK85XeZQKjxLhNwc08ZsJtxa9pql2d1atTZymFG83AbZyrleh5lCWVhhRDiXY5qeU9+l1loz34CagO2P0aysA4BlnyZ+UbDjNjZakrWY8P1Ox4yc+cuMFdeOWne9rZXGy64IBEBERCBvAmoBJx3BDr0/vjqTh16ZeavYYcrTi3JNXxXrNhhrr9+0HCY0fz50WqW/LyvRbrf/O7vvsJ85ztbi9NNxud8ztzInF7gY7wbQSm/G6Gka2whoBKwLZHI2I6JCS6R7JdEHa5qDTMyZo/5jd/4dyj1fsyEkPFGEfYx3pFvtbbyuxYdnbONgCbisC0isqchAqx2Zsn38OF7Z1y/bNk6DTOaQUUHRMAvApqIw694yhuHCFR2uKo0PD7MqPKMUiIgAiJgDwG1AdsTi0wtKRQKmT6/0w9ftGhRQ/M6++Z3o5zld6Ok/Lgu1Hi7Hj1lwK5HsEH7N27c2OCVblzG2av6+pYaDiuKS/UwI9/8jvtaa19+16Lj37lQ4+16JNUG7HoEG7Sf/yF3dXU1eLUbl0XTTo6MHC3ObsUJNpgpc5hR1OHKR78biY78boSSP9eEGG8f2oCVAfvzO+itJ9E4X1Y7J83bzPNcy1fzOnv7CcgxEZhBwIcMWMOQZoRVB2whUC7hHjOTk0uKbb7VJVzaykw51BmQbImV7BABEWiegNqAm2fm5B07d+50zu5onC+HGh0//sHikKPt228wPN6ouOh3o77Vuk5+16Lj37lQ4+16JJUBux7BBu3v6elp8Eo7LmO1cnlhhbJNhcIqHD9qeL4Rcc3vRnxq5Br53Qglf64JNd6uR1BtwK5H0FP7x8bGitNLsuRbLZddtsk89dQtqnauBqO0CAREwIc2YJWAA/pgXXCVJVtmvtHCCkk2h7CcYJLfOiYCIuAXAWXAfsVzVm+Ol5cImvWaPE/UX1hhyrrqcb71bLbd73r2t3pefrdKzs37Qo23m9EqW60MuMzC671t27ZZ7V9Sh6uDB28z11wzZDi3M6udly17n1m7dn9Tywna7ndWQZHfWZG187mhxtvOaDRuldqAG2elKzMiwGpnLayQEVw9VgQ8JeBDG7DGAXv6cbrklhZWcClaslUERCAtAqqCToukntMygUYXVmj5BbpRBERABCwkoAzYwqBkYdLQ0FAWj03lmY0urNDKy2z2uxV/Gr1HfjdKyo/rQo2369FTFbTrEWzQ/t7e3gavzPYytveyyrl6XmcuoGDMFkyy8dCMhRXascgWv9vxoZV75Xcr1Ny9J9R4uxuxKcvVCcv1CDpif6PzOjOD1sIKjgRVZopAjgTUCStH+Hq1WwSiYUaFwp1Fwzks+dixvdjfYrZunTrGE1pYgRQkIiACIRBQG3AIUYaPhw4dys1TlmrTmNe5FQfy9LsVe9O6R36nRdKN54QabzeiM7uVyoBnZ+PVmeHh4dz8qTfMiFXOWUmefmflUyPPld+NUPLnmlDj7XoE1QbsegQdsL/2RBvvMwcObClWPTvgikwUARGwhIAPbcAqAVvyMflsRpbDjHzmJt9EQAT8JqBhSH7H1xrvshpmZI2DMkQEREAEmiSgEnCTwFy9fNOmTR0xndXNXE6Q27jMmTOn2Nv5wIGtxbV8We3M3s88nqV0yu8sfWjl2fK7FWru3hNqvN2N2JTlKgG7HsEG7e/v72/wytYua3Scb6eHGWXtd2u0sr9LfmfP2KY3hBpvm2LQii15dsK6FgbfDb0O+lPQt0Afh8alB4nPQvugZ6Ej0HXQF6GRvAs7n4AuhT4D/RD0EWiSLMDBFyFmwQLuStIiMDBwj9m+/QZTKKyafiTX7uXygfFxvtMntSMCIiACbRBQJ6w24OFW1lF+EcrM9Rw0SR7EwUuhPwP9Oehi6J9CI/kF7OyADkKZo34YyntWQCUdIpDnON8OuajXiIAIiEDqBLJtgKttLmeG+G/Qp6BJJXGWaH8VOgB9AToO5YTBb4deDqXcCv0K9EvQM9CHoV+DroVKYgT27dsXS6W7m+c433qeZOl3vXfneV5+50m/8+8ONd6dJ53uG/PMgOt58npcUIB+J3bht7HPkjPPUbj9u+Je+cd+7LJaWxIjMDo6Gkulsxt1uOru7kaV/rOJD+3ufs4sXLgw8VwnDmbhdyfsbvcd8rtdgm7dH2q83YrSTGuz6IT1AF5zC5TVykkl2704/mZoPVmAC+JtvdH1E9jhOQq3TMeFpeXofPx40Pu33srKgnQkqcPVhRf+wMyf/7g5fbocWrYB9/UtzXWSjTT9TodeZ54ivzvD2Za3hBpvW/i3akcWJeDbYcwroWy75bZaG+2OO4l7L4ZWSw8ORBkzr2E6LpcgweOzypo1a8zAwEBRd+3aVdwWCixsT8nOnTvN7t27o6Q5jpUDBgfZzFwWrr8Zr/bhXKzVQwGYjs/Ryuur1+3kc/n8SPhevj8S2kVbbbLv13/9vcUOV4cP3wvb328OHz7PPP3075hrrhkyy5atMz09v2l++qffXuyAxfG/4udWfG3//mTf1F8HX/++1Iov/z729fWZ1atXm40bN0Z/Jp3dJpVQ83CGPZyre0GzDfifoL3QqBqa+09BXw19DvoFKEu774JG8jB2TkB/PzoQ2/Ja9YKOAWl2l9XOy5evR6Z774xbmfk++eTd5tSpU8VqZw45koiACIhAFgTUC7p9qvPxiK7SY87Dlum5pfQxbNnBajN0EZQlae7/FZSZL2UI+mtQlqpZnf5O6E3Q7VBJjEB1CT52qqndeh2umPkuXrw412rnuENp+R1/pgv78tuFKKVnY6jxTo9gPk/KswTMUixLuOeqXL8L6Y+XjrF6+T7o26C8bheU44DjVczMdP8Qyuc9A2W9xJegSRJsCZjVwMwY25XaJWD7FlZIy+92uXX6fvndaeL5vi/EePtQAmapMS85ihfXa4OewDX/sY6BHEtMldQgkEbmy8dHCyscO7Z3xqQbeXe4SnI/Lb+Tnm3zMfltc3TSty3UeKdPsrNPzDMD7qyneltqBLSwQmoo9SAREIGACdQrgQaMxi/X4726G/UsGufLbVzyWlghbkOj+6343eizbb5OftscnfRtCzXe6ZPs7BNVAu4s79zeNjHB2vzGJGmcL6uXWfKNr17U6YUVGrO+8qpm/K680+2U/HY7fs1aH2q8m+Vk2/V5dsLKg0WwnbCaga2FFZqhpWtFQATyIOBDJyxVQefx5Vj8TlY3j4wcq+hgRXO5ytHIyNEZ6/xa7IpMEwEREAGrCSgDtjo86RkXn0mr1lPrjfMdHx+vdbt15xr12zrD2zRIfrcJ0LHbQ423Y2GaYa4y4BlI/DzQ6LRtixYtsnZhhVYi06jfrTzb5nvkt83RSd+2UOOdPsnOPlFtwJ3lndvb+B9yV1c06VhtM3xqA27G79pU3Dorv92KV7vWhhhvH9qAlQG3++V7eH+5F/RRc/LkEsMlBZN6QXvoulwSARFwhIAyYEcCFTNTvaBjMOrtskMW23y5nq8WVqhHS+dFQAQ6ScCHDFhtwJ38YnJ8V3yJr0bNiMb5upz5tuJ3o3xsvk5+2xyd9G0LNd7pk+zsE5UBd5Z3bm/r6eG6FuGJ/A4r5op3WPF23Vu1AbseQdkvAiIgAgESUBV0gEF31eXZ5nV21R/ZLQIiIAKuE1AVtOsRrGM/ezRzWNFrXnObWbFih1m+fH0xzeMhCNdJDVHkd1hRDzXerkdZGbDrEaxj/4YNW8z27TeYI0d+yhw//kFz+PC9xTSPhyDbtm0Lwc0ZPsrvGUi8PhBqvF0PqtqAXY9gDftZ7cwSLzPdalm2bJ05cGCrhhdVg1FaBETACQJqA3YiTOEa6du8zuFGUp6LgAj4SEBV0D5GteSTb/M6exwquSYCIhAgAWXAHgedE2hwCsmurr3wcmjaU6Z53OUJNqadqbMzNFT2u86lXp2W316Fs64zoca7LhjLL3iF5fbJvDYJbN68Hk/YYh566G/Nj388UTGvc5uPduL23t5eJ+xM20j5nTZRu58Xarztjkp969QJqz4jJ65ghyu2+bLaOalkq3mdnQijjBQBEWiQgA+dsFQCbjDYtl5WXrnomJmcXFJcyzdp5SJmyosXL7bVDdklAiIgAsERUBuw4yGPxvlyqFGtcb6HDh1y3NPWzJffrXFz9S7F29XIhWm3MmCH485q5ZGRY6ZQWFXhBdMjI0cNz0cyPDwc7Qa1ld9Bhdso3mHF23Vv1QbscATHxsaK00uy5Fstl122yTz11C2qdq4Go7QIiIAXBHxoA1YJ2MdaQi4AABFUSURBVOFPUeN8HQ6eTBcBEQiegDJghz+BynG+ZUdCGudb9lp7IiACIuAWAWXAbsVrhrUc57t27X7DuZ1Z7bxs2fuK6anxv+XLN23aVE4EtCe/Awo2XFW8w4q3696qDdj1CJbsrzfOl71Dr776ak+8bdwN+d04Kx+uVLx9iGJjPvjQBqwMuLFY6yoREAEREAGLCPiQAasK2qIPSqaIgAiIgAiEQ0AZcCCx3rdvXyCeVropvyt5+J5SvH2PsF/+KQO2MJ5sz+UY3/hEGu2aOTo62u4jnLxffjsZtpaNVrxbRqcbcyCgNuAcoM/2ykbndZ7tfh0XAREQgVAI+NAGrMUYLPpao3mdC4U7i1YdP27MsWN7sb/FbN06dcwic2WKCIiACIhAGwRUBd0GvDRvZXVzo/M6p/lePUsEREAERCAfAsqA8+E+461cy5fLCSbJyZNLzPj4eNKpho8NDg42fK1PF8pvn6JZ3xfFuz4jXWEPgTwz4GuB4SvQMehZ6Juh1bIXB05DJ6EnS9vbsI3Lu5A4CH0J+l3oO6DOSdbzOt9xxx3OMUnDYPmdBkV3nqF4uxMrWWpMnhkw18r7IrQPem6WYPD43dAF0O7S9n5sI/kF7OyAsnjHaz4MfRC6AuqUZD2v8+LFi53ikZax8jstkm48R/F2I06ycopAnp2wuEJ8tEp8rd7Ytc7dimewFP2lKXfMw9h+DboW+vulY85spuZv3oK24IcMq527u58zfX1LTfW8zs44JENFQAREQARmJZBnCXhWo6pOMDM9AX0a+inohdBIXo+dv4sSpe1+bK+rOuZEcs6cOcXezgcObC2u5XvgwFTvZx5vV3bv3t3uI5y8X347GbaWjVa8W0anG3Mg0P5f9plGP4BDbNM9U9pyP66PI92osGr5Kugi6M3Qm6D/DRoJq50nokRp+wK2PO6ssDqaVWncpiUTE9WY0nqy3c+R33bHJ23rFO+0iep5WRLIIgO+HQa/Enppacv9uPYj3ahw/sQo5ziA/Q9AV0PnQynsnNVT3Cv/uKR0vHykam/NmjVmYGCgqLt27SpuC4XC9FU7d+408f+kj2NAbnXvyqGhIROf9o6rsFQvhcY0j0fC63lfXPhcPj8Svpfvj4R20dZ27evt7bXavqz49ff3p8IvK/vSim+1fTfffHMx3rZ8f9X28fvO4veDfvv4+1uPH/3O8+9LPfsY7zTs49/Hvr4+s3r1arNx40Y+1mmp1b7aScdYQn4LtF7p+I245jEoS7jMMb9Q2mdP6EjYDswq66Q2YN73IsQsWOB0ITnyVVsREAERCJKADzNhZVECbuZjYEm2q3TDedgyPbeU/klsWeV8QSn9Wmy3QIehUXGVxclfg7JUzQ5l74Tynu1QSYxAvAQdO+z9rvz2PsQVDireFTiUsJxAnhnwq8HmX6Acv8vhRuzN/CPof4FSmDF/HPp9KKuaH4Gy9Pvb0Ej+Fjvvhd4N5TWfgL4H+hRUEiPgQ3VNzJ2Gd+V3w6i8uFDx9iKMwThhSxV0p4AHWwXNkkFXV1TZ0Cnc+b9Hfucfg05aoHh3kna+71IVdL789fYmCISY+RKP/G7iI/HgUsXbgyAG5EKeVdABYZarIiACIiACIlBJQBlwJQ9vU/GhTd46meCY/E6A4vEhxdvj4HromjJgD4Oa5FJPT/Vw6aSr/Dsmv/2LaS2PFO9adHTONgLqhGVbRGSPCIiACIhAXQLqhFUXkd8XvPzyy2ZsbMxwKxEBERABERCBZgioCroZWqVrz549i+kN7zHLl683K1bsKG6Z5nFbJT7dpa02ZmGX/M6Cqr3PVLztjY0sm0lAGfBMJnWPbNiwxWzffoM5fPhezOP8weKWaR63VbZt22araZnaJb8zxWvdwxVv60Iig2oQUBtwDThJp1jdzJIvM99qWbZsneFSgmmuYlT9DqVFQAREQAQw9eHkpLn44ouJgj84E6JzohJwkyE7ceIEAr8k8a6TJ5eY8fHxxHM6KAIiIAIiIAJxAsqA4zQa2F+0aBFWUno28cru7ufMwoULE8/poAiIgAiIgAjECSgDjtNoYJ/Vy319SzHF4d6Kq5nmcVurn6vXIa4w3uOE/PY4uAmuKd4JUHTIWgJcwk/SJIHNm9fjji1mZOQhw2pnlnyZ+U4db/JhHbq8t7e3Q2+y6zXy2654ZG2N4p01YT0/TQLqhNUGTXbIYpsvq51tLfm24Z5uFQEREAFrCfjQCUsl4DY+L2a6ixcvbuMJulUEREAERCBUAmoDDiTyhw4dCsTTSjfldyUP31OKt+8R9ss/ZcB+xXNWb4aHh2c95/MJ+e1zdGf6pnjPZKIj9hJQG7C9sZFlIiACIiACsxDwoQ1YJeBZgqvDIiACIiACIpAlAWXAWdLVs0VABERABERgFgLKgGcB49vhTZs2+eZSQ/7I74YweXOR4u1NKINwRBlwEGE2pr+/PxBPK92U35U8fE8p3r5H2C//1AnLr3jKGxEQAREIgoA6YQURZjkpAiIgAiIgAukTUBV0+kytfOK+ffustCtro+R31oTter7ibVc8ZE1tAsqAa/Px5uzo6Kg3vjTjiPxuhpb71yre7scwJA/UBhxStOWrCIiACHhCQG3AngRSboiACIiACIhApwmoCrrTxPU+ERABERABEQABZcCBfAaDg4OBeFrppvyu5OF7SvH2PcJ++ac2YL/iOas3x48fD3LtYvk96yfh5QnF28uwJjrlQxuwMuDE0OqgCIiACIiAzQR8yIBVBW3zFybbREAEREAEvCWgDNjb0FY6tnv37soDgaTkdyCBLrmpeIcVb9e9VQbsegQbtH9iYqLBK/26TH77Fc963ije9QjpvE0E1AZsUzRkiwiIgAiIQEME1AbcECZdJAIiIAIiIAIiUE1AVdDVRDxNFwoFTz2r7Zb8rs3Ht7OKt28R9dufPDPg9wLt/4SegP4Q+jj0DdC49CDxIJQNmOPQHdCLoXF5FxIHoS9Bvwt9B1RSRWDjxo1VR8JIyu8w4hx5qXhHJLR1gUCeGfBFAHQXdCl0MXQY+jXoq6CRMPO9FPoz0J+D8ro/hUbyC9hhpsxpnhZAPwzlPSugkhiBG2+8MZYKZ1d+hxNreqp4hxVv173NMwPeDniPQllyPQPdVtregC2FGfOvQgegL0BZAl4PfTv0cijlVuhXoF+C8hkPQ5mJr4VKYgT27NkTS4WzK7/DiTU9VbzDirfr3uaZAVezY2n2Qmi0cO3rsV+Afgcaybex8zKU5yjc/l1xr/xjP3avKye1JwIiIAIiIAL2EXhFBiY9gGfeAj0H/YmE5+/FsTdXHV+C9F9CPwV9BkphlfKLxb3KHxOlczzKa5iOC0vLPD6rsPt6aPLd737XyO9woq54hxNrehpivH34e5ZFBnw7vgdWFc8m/1p1gm27fw1lBvzR2DnmktUdrni6BxplzLyG6bhcgsRsOWw3L1yyhPl9eHLxxUk4/ecgv/2PcdxDxTtOI4h9/l2f7W++1QCyyIB/BI+pjci1uIhttvdB/6jqhm8hPR/6OmhUDd2L/fOgo1AKr4najIsHSulvRomq7fNIs/34ZNVxJUVABERABNwjwMyXf9clTRJ4A67nEKT317hvF84xg14EfSWUnbYegUbCdmNm9v1Q/jPxTig7da2ASkRABERABERABBIIcNzvj6GsOmCJlMr9P4BGwurlP4dOQF+A/hm0un2Xme5BKDPip6H/HioRAREQAREQAREQAREQAREQAREQgTAIvB1usp14vKR/jy1LynFh6dq3WbbeC5/+J5RV+yHNLnYt/P0KdAx6Flrdyx6Hip31fIs3/UqSu3Dw+1DWKu2FvhbqstwM478BZedLjvefA40L4/916Cnoc9B4Z04ki+IaE44I+TaUPjOWfwGN5j/AblF89Psj8Oz/g7LW8wfQr0J7oXHx0e+4f87vXwYPqJH8W+ywinp5dADbESh7X18CXQhl+/KXoJGwfflfoKzSngtdDeUzVkBtFU5A8lbohVDafAd0EvoqaCQ++n01nPtdKGPDP9BJGbCPfsPVGXInjhyFXgNlJ8Y/gjJTugDqqvCbZib8n6DVGTBn1GMnnD+EzoOy0+azUH77kbjI5JMw/jroK6ALoA9CvwmNxFe/r4KDF5ecpO8D0OPQnygd89Xvknv+bRi4/xPKzHN1yT3OssWSEn9ZI+F/VTwW/Zf5Bex/MTpZ2j6M7eerjtmefAEG9peMDMFvxrA6Aw7B7+g7PIKddVECW/4j9s/Q98SOubr7JhhenQHfgmP8Ax0vFb8f6e9BI/GBSS+coe9R5hSC3/wH8gMlvxdhS/HK7/hHO+WePz/5XyMzH86m9Q3ofihLQZTXQ3k8Gt7EY9+GvgzlOQq3rs+yxVI8S8OjUEoofk95W/4Zit/85q+A8luPhH+0vwVlacpHYcb0TSj/8YqE/l8JZWnJFyY3wZej0BehFJ/9/jX4x7/drIHcDN0KZbMaxSu/XcuAH0AA+IvGPyrcVuvjOBbJJHYugXZD2f7LNkJmsBT+UkYfcvFA6cdE6RyTvIbpuPCj4PFOSzN+R7YtwQ4nN2Fb0jNQSgh+T3la+dM1vyutbzwVfZu2fLeNW976lfQ5yV8+ked8YPIW+PFh6K3QSHz2m3+r+bd7IXQ9dB80Eq/8Zh27S3I7jGVAZpN/TTjBTPcRKEu/7KTxWSgz54uh1dKDA1HGzGuYjgs/Ch7vtDTr98/BwL+GMgP+aMxY3/2OuVqx65rfFcY3kYi+zaTv9rkmnuPSpfT5p6sM5u8pheeiQoarTN4GH3ZA2YTwKDQS3/2mnxPQz0BZ8DkMPQD1yu/o44RfTgjbccdr6MkaXpyHcz9fOv8tbOdDX1dKc9ML5TWjTEB4zQ3FvfIPpr9ZTnZsrxm/r4VV34D+MZTLNMbFZ7/jflbvu+Z3tf2NpvnH6Rlo/LtlG/B10Dy+W7w2c2Fs6V/8b9m/QfoIlP9wu8yEmS4z3zXQv4LGxWe/437y++XfZXbOooTi95S3jv58L+xmwPhL2QW9Dfqv0F+BRrILO77NsvUG+MS2kvdHTiZsffSbbvIfKsaazRI3ldL85Y3EV78j/6LtBuw8A30t9Hzop6DPQl3uBc3fY8b3l6FsfqIvTLODJdt5vw/9BJTxXw49Br0DGomLTNbBeBY2filyomrrq9/82/WTJV8vxfa/Qsnhp0rHfPW75J4fm4/BDf4HzBLxD6H/C/ouaFx6kPhz6AT0BeifQRdA4/JOJA5CWQJ9GvrvoTYL28B/DOV//fSdyn3fZxd7NXxkxss/znH9CNKR+BjvyLfq7cdwYAzKEuBeKDNjl+UWGB+Pb7T/xpJTr8P2G9CXoByS9GFotXwMB1xiQh9PQ/n7G/0+cxvPkH30exd8ZJz4t4v/WH0JugIaFx/9jvunfREQAREQAREQAREQAREQAREQAREQAREQAREQAREQAREQAREQAREQAREQAREQAREQAREQAREQAREQAREQAREQAREQAREQAREQAREQAREQAREQAREQAREQAREQAREQAREQAREQAREQAREQAREQAREQAREQAREQAREQAREQAREQAREQAREQAREQAREQAREQAREQAREQAREQAREQAREQAREQAREQAREQAREQAREQAREQAREQAREQAREQAREQAREQAREQAREQAREQAREQAREQAREQAREQAREQAREQAREQAREQAREQAREQAREQAREQAREQAREQAREQAREQAREQAREQAREQAREQAREQAREQAREQAREQAREQAREQAREQAREQAREQAREQAREQAREQAREQAREQAREQAREQAREQAREQAREQAREQAREQAREQAREQAREQAREQAREQAREQAREQAREQAREQAREQAREQAREQAREQAREQAREQAREQAREQAREQAREQgRkE/n9WxF+WHB7oBgAAAABJRU5ErkJggg==\">"
      ],
      "text/plain": [
       "<IPython.core.display.HTML object>"
      ]
     },
     "metadata": {},
     "output_type": "display_data"
    },
    {
     "name": "stdout",
     "output_type": "stream",
     "text": [
      "0\n",
      "1\n",
      "2\n",
      "3\n",
      "4\n",
      "5\n",
      "6\n",
      "7\n",
      "8\n",
      "9\n"
     ]
    }
   ],
   "source": [
    "%matplotlib notebook\n",
    "\n",
    "\n",
    "X, Y = np.meshgrid(np.arange(-3,3+1,1), np.arange(-3,3+1,1))\n",
    "N_pt = len(X.ravel())\n",
    "\n",
    "q = np.zeros([2,N_pt])\n",
    "q[0,:] = X.ravel()\n",
    "q[1,:] = Y.ravel()\n",
    "\n",
    "N = 10\n",
    "\n",
    "fig = plt.figure(figsize=(6,6))\n",
    "plt.xlabel('x_1')\n",
    "plt.ylabel('x_2')\n",
    "plt.xlim(-5,5)\n",
    "plt.ylim(-5,5)\n",
    "\n",
    "for n in range(N):\n",
    "    print(n)\n",
    "    \n",
    "    plt.plot(q[0,:], q[1,:], 'bo')\n",
    "    plt.plot(x_vec, e_1, 'k--')\n",
    "    plt.plot(x_vec, e_2, 'k--')\n",
    "    plt.grid()\n",
    "\n",
    "    fig.canvas.draw()\n",
    "    fig.clear()\n",
    "    time.sleep(0.5)\n",
    "    \n",
    "    q = np.dot(A,q)\n",
    "    \n",
    "%matplotlib inline"
   ]
  },
  {
   "cell_type": "markdown",
   "metadata": {},
   "source": [
    "# 2.0 Connections with the singular value decomposition (SVD)"
   ]
  },
  {
   "cell_type": "code",
   "execution_count": 40,
   "metadata": {
    "collapsed": true
   },
   "outputs": [],
   "source": [
    "x = 2*np.random.uniform(-1,1, (2,100))"
   ]
  },
  {
   "cell_type": "code",
   "execution_count": 41,
   "metadata": {
    "collapsed": true
   },
   "outputs": [],
   "source": [
    "y = np.dot(A,x) + 1*np.random.uniform(-1,1, (2,100))"
   ]
  },
  {
   "cell_type": "code",
   "execution_count": 42,
   "metadata": {
    "collapsed": false
   },
   "outputs": [
    {
     "data": {
      "image/png": "[encoded data removed]",
      "text/plain": [
       "<matplotlib.figure.Figure at 0x10e879630>"
      ]
     },
     "metadata": {},
     "output_type": "display_data"
    }
   ],
   "source": [
    "fig = plt.figure(figsize=(6,6))\n",
    "plt.plot(y[0,:], y[1,:], 'ro')\n",
    "plt.xlabel('x_1')\n",
    "plt.ylabel('x_2')\n",
    "plt.xlim(-5,5)\n",
    "plt.ylim(-5,5)\n",
    "plt.grid()\n",
    "\n",
    "plt.show()"
   ]
  },
  {
   "cell_type": "code",
   "execution_count": 43,
   "metadata": {
    "collapsed": false
   },
   "outputs": [
    {
     "data": {
      "text/plain": [
       "(2, 100)"
      ]
     },
     "execution_count": 43,
     "metadata": {},
     "output_type": "execute_result"
    }
   ],
   "source": [
    "y.shape"
   ]
  },
  {
   "cell_type": "code",
   "execution_count": 44,
   "metadata": {
    "collapsed": false
   },
   "outputs": [],
   "source": [
    "u, s, v = np.linalg.svd(y)"
   ]
  },
  {
   "cell_type": "code",
   "execution_count": 45,
   "metadata": {
    "collapsed": false
   },
   "outputs": [
    {
     "data": {
      "text/plain": [
       "array([ 20.98630575,   9.57947212])"
      ]
     },
     "execution_count": 45,
     "metadata": {},
     "output_type": "execute_result"
    }
   ],
   "source": [
    "s"
   ]
  },
  {
   "cell_type": "code",
   "execution_count": 46,
   "metadata": {
    "collapsed": false
   },
   "outputs": [
    {
     "data": {
      "text/plain": [
       "array([[-0.82465529, -0.56563561],\n",
       "       [-0.56563561,  0.82465529]])"
      ]
     },
     "execution_count": 46,
     "metadata": {},
     "output_type": "execute_result"
    }
   ],
   "source": [
    "u"
   ]
  },
  {
   "cell_type": "code",
   "execution_count": 47,
   "metadata": {
    "collapsed": true
   },
   "outputs": [],
   "source": [
    "x_vec = np.linspace(-5,5,10)\n",
    "e_1 = (u[1,0]/u[0,0]) * x_vec\n",
    "e_2 = (u[1,1]/u[0,1]) * x_vec"
   ]
  },
  {
   "cell_type": "code",
   "execution_count": 48,
   "metadata": {
    "collapsed": false
   },
   "outputs": [
    {
     "data": {
      "image/png": "[encoded data removed]",
      "text/plain": [
       "<matplotlib.figure.Figure at 0x10f11a5c0>"
      ]
     },
     "metadata": {},
     "output_type": "display_data"
    }
   ],
   "source": [
    "fig = plt.figure(figsize=(6,6))\n",
    "plt.plot(y[0,:], y[1,:], 'ro')\n",
    "plt.plot(x_vec, e_1, 'k--')\n",
    "plt.plot(x_vec, e_2, 'k--')\n",
    "plt.xlabel('x_1')\n",
    "plt.ylabel('x_2')\n",
    "plt.xlim(-5,5)\n",
    "plt.ylim(-5,5)\n",
    "plt.grid()\n",
    "\n",
    "plt.show()"
   ]
  },
  {
   "cell_type": "code",
   "execution_count": null,
   "metadata": {
    "collapsed": true
   },
   "outputs": [],
   "source": []
  }
 ],
 "metadata": {
  "kernelspec": {
   "display_name": "Python 3",
   "language": "python",
   "name": "python3"
  },
  "language_info": {
   "codemirror_mode": {
    "name": "ipython",
    "version": 3
   },
   "file_extension": ".py",
   "mimetype": "text/x-python",
   "name": "python",
   "nbconvert_exporter": "python",
   "pygments_lexer": "ipython3",
   "version": "3.4.5"
  }
 },
 "nbformat": 4,
 "nbformat_minor": 0
}
