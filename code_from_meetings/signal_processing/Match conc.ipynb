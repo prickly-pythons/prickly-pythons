{
 "cells": [
  {
   "cell_type": "markdown",
   "metadata": {},
   "source": [
    "Matching concentration curves.\n",
    "\n",
    "Date Created: 16 Apr 2019\n",
    "<br>\n",
    "Last Modified: 16 Apr 2019\n",
    "<br>\n",
    "Humans Responsible: The Prickly Pythons"
   ]
  },
  {
   "cell_type": "code",
   "execution_count": 1,
   "metadata": {
    "collapsed": true
   },
   "outputs": [],
   "source": [
    "%matplotlib inline"
   ]
  },
  {
   "cell_type": "code",
   "execution_count": 2,
   "metadata": {
    "collapsed": true
   },
   "outputs": [],
   "source": [
    "import numpy as np\n",
    "import matplotlib.pyplot as plt"
   ]
  },
  {
   "cell_type": "code",
   "execution_count": 3,
   "metadata": {
    "collapsed": true
   },
   "outputs": [],
   "source": [
    "x = np.linspace(2,3.2,30)"
   ]
  },
  {
   "cell_type": "code",
   "execution_count": 85,
   "metadata": {
    "collapsed": false
   },
   "outputs": [],
   "source": [
    "# Model the concentration using a logistic curve.\n",
    "\n",
    "k = 15\n",
    "xc = 2.6\n",
    "\n",
    "y_init = 1/(np.exp(k*(x-xc)) + 1)"
   ]
  },
  {
   "cell_type": "code",
   "execution_count": 91,
   "metadata": {
    "collapsed": true
   },
   "outputs": [],
   "source": [
    "# Jiggle the parameters around, in particular the central point xc.\n",
    "\n",
    "k2 = 15 + np.random.rand()*1\n",
    "xc_2 = 2.6 + np.random.rand()*0.1\n",
    "\n",
    "y_meas = 1/(np.exp(k*(x-xc_2)) + 1)"
   ]
  },
  {
   "cell_type": "code",
   "execution_count": 103,
   "metadata": {
    "collapsed": false
   },
   "outputs": [
    {
     "data": {
      "image/png": "[encoded data removed]",
      "text/plain": [
       "<matplotlib.figure.Figure at 0x118c54b38>"
      ]
     },
     "metadata": {},
     "output_type": "display_data"
    }
   ],
   "source": [
    "fig = plt.figure(figsize=(9,4))\n",
    "plt.plot(x, y_init, 'bo', label='Initial')\n",
    "plt.plot(x, y_meas, 'ro', label='Measured')\n",
    "\n",
    "plt.xlabel('Distance')\n",
    "plt.ylabel('Concentration')\n",
    "plt.legend(loc='best')\n",
    "plt.grid()\n",
    "\n",
    "plt.show()"
   ]
  },
  {
   "cell_type": "code",
   "execution_count": 93,
   "metadata": {
    "collapsed": true
   },
   "outputs": [],
   "source": [
    "# Find the index of the closest point above the concentration of 0.5, using some funky numpy indexing.\n",
    "gp5_init_ind = np.where(y_init > 0.5)[0][-1] # For the initial concentration\n",
    "gp5_meas_ind = np.where(y_meas > 0.5)[0][-1] # For the measured concentration\n",
    "\n",
    "# Find the index of the closest point below the concentration of 0.5. By default it would be the point \n",
    "# right after the point that is above the concentration of 0.5.\n",
    "lp5_init_ind = gp5_init_ind + 1\n",
    "lp5_meas_ind = gp5_meas_ind + 1"
   ]
  },
  {
   "cell_type": "code",
   "execution_count": 94,
   "metadata": {
    "collapsed": false
   },
   "outputs": [
    {
     "name": "stdout",
     "output_type": "stream",
     "text": [
      "16\n",
      "17\n",
      "14\n",
      "15\n"
     ]
    }
   ],
   "source": [
    "# Have a look\n",
    "print(gp5_meas_ind)\n",
    "print(lp5_meas_ind)\n",
    "print(gp5_init_ind)\n",
    "print(lp5_init_ind)"
   ]
  },
  {
   "cell_type": "code",
   "execution_count": 95,
   "metadata": {
    "collapsed": false
   },
   "outputs": [],
   "source": [
    "# Find the equation of the straight lines running through these pairs of points.\n",
    "\n",
    "# Here are the gradient of the lines.\n",
    "# m = (y0-y1)/(x0-x1)\n",
    "m_meas = (y_meas[gp5_meas_ind] - y_meas[lp5_meas_ind]) / (x[gp5_meas_ind] - x[lp5_meas_ind])\n",
    "m_init = (y_init[gp5_init_ind] - y_init[lp5_init_ind]) / (x[gp5_init_ind] - x[lp5_init_ind])"
   ]
  },
  {
   "cell_type": "code",
   "execution_count": 96,
   "metadata": {
    "collapsed": false
   },
   "outputs": [
    {
     "name": "stdout",
     "output_type": "stream",
     "text": [
      "-3.67013881414\n",
      "-3.7201889911\n"
     ]
    }
   ],
   "source": [
    "print(m_meas)\n",
    "print(m_init)"
   ]
  },
  {
   "cell_type": "code",
   "execution_count": 97,
   "metadata": {
    "collapsed": true
   },
   "outputs": [],
   "source": [
    "# So the equations are:\n",
    "# y = m_init*(x - x[gp5_init_ind]) + y_init[gp5_init_ind]\n",
    "# y = m_meas*(x - x[gp5_meas_ind]) + y_meas[gp5_meas_ind]"
   ]
  },
  {
   "cell_type": "code",
   "execution_count": 98,
   "metadata": {
    "collapsed": true
   },
   "outputs": [],
   "source": [
    "# Now that we have the equations, plug 0.5 in both for y and solve for x\n",
    "\n",
    "x_p5_init = (0.5 - y_init[gp5_init_ind])/m_init + x[gp5_init_ind]\n",
    "x_p5_meas = (0.5 - y_meas[gp5_meas_ind])/m_meas + x[gp5_meas_ind]"
   ]
  },
  {
   "cell_type": "code",
   "execution_count": 99,
   "metadata": {
    "collapsed": false
   },
   "outputs": [
    {
     "name": "stdout",
     "output_type": "stream",
     "text": [
      "2.6\n",
      "2.69837466357\n"
     ]
    }
   ],
   "source": [
    "print(x_p5_init)\n",
    "print(x_p5_meas)"
   ]
  },
  {
   "cell_type": "code",
   "execution_count": 100,
   "metadata": {
    "collapsed": true
   },
   "outputs": [],
   "source": [
    "# Take the difference and voila! - There is your shift.\n",
    "x_shift = x_p5_init - x_p5_meas"
   ]
  },
  {
   "cell_type": "code",
   "execution_count": 101,
   "metadata": {
    "collapsed": false
   },
   "outputs": [
    {
     "name": "stdout",
     "output_type": "stream",
     "text": [
      "-0.098374663571\n"
     ]
    }
   ],
   "source": [
    "print(x_shift)"
   ]
  },
  {
   "cell_type": "code",
   "execution_count": 104,
   "metadata": {
    "collapsed": false
   },
   "outputs": [
    {
     "data": {
      "image/png": "[encoded data removed]",
      "text/plain": [
       "<matplotlib.figure.Figure at 0x1198f3668>"
      ]
     },
     "metadata": {},
     "output_type": "display_data"
    }
   ],
   "source": [
    "# Shift the curve and have a look.\n",
    "\n",
    "fig = plt.figure(figsize=(9,4))\n",
    "plt.plot(x, y_init, 'bo', label='Initial')\n",
    "plt.plot(x+x_shift, y_meas, 'ro', label='Shifted measured')\n",
    "\n",
    "plt.xlabel('Distance')\n",
    "plt.ylabel('Concentration')\n",
    "plt.legend(loc='best')\n",
    "plt.grid()\n",
    "\n",
    "plt.show()"
   ]
  },
  {
   "cell_type": "code",
   "execution_count": null,
   "metadata": {
    "collapsed": true
   },
   "outputs": [],
   "source": []
  }
 ],
 "metadata": {
  "kernelspec": {
   "display_name": "Python 3",
   "language": "python",
   "name": "python3"
  },
  "language_info": {
   "codemirror_mode": {
    "name": "ipython",
    "version": 3
   },
   "file_extension": ".py",
   "mimetype": "text/x-python",
   "name": "python",
   "nbconvert_exporter": "python",
   "pygments_lexer": "ipython3",
   "version": "3.4.5"
  }
 },
 "nbformat": 4,
 "nbformat_minor": 0
}
