{
 "cells": [
  {
   "cell_type": "markdown",
   "metadata": {},
   "source": [
    "This notebook contains various examples of how to read in tabulated data in Python.\n",
    "\n",
    "Date Created: Fall 2016\n",
    "<br>\n",
    "Last Modified: Sep 7 2018\n",
    "<br>\n",
    "Humans Responsible: The Prickly Pythons"
   ]
  },
  {
   "cell_type": "code",
   "execution_count": 1,
   "metadata": {
    "collapsed": true
   },
   "outputs": [],
   "source": [
    "%matplotlib inline"
   ]
  },
  {
   "cell_type": "markdown",
   "metadata": {},
   "source": [
    "# 0. Character Encoding - How computers understand language\n",
    "See links below for more information: \n",
    "<br>\n",
    "https://docs.python.org/3/howto/unicode.html\n",
    "<br>\n",
    "https://stackoverflow.com/questions/2241348/what-is-unicode-utf-8-utf-16\n",
    "<br>\n",
    "http://kunststube.net/encoding/"
   ]
  },
  {
   "cell_type": "code",
   "execution_count": 2,
   "metadata": {
    "collapsed": false
   },
   "outputs": [
    {
     "data": {
      "text/plain": [
       "'A'"
      ]
     },
     "execution_count": 2,
     "metadata": {},
     "output_type": "execute_result"
    }
   ],
   "source": [
    "chr(65) # Decimal"
   ]
  },
  {
   "cell_type": "code",
   "execution_count": 3,
   "metadata": {
    "collapsed": false
   },
   "outputs": [
    {
     "data": {
      "text/plain": [
       "'A'"
      ]
     },
     "execution_count": 3,
     "metadata": {},
     "output_type": "execute_result"
    }
   ],
   "source": [
    "chr(0b01000001) # Binary"
   ]
  },
  {
   "cell_type": "code",
   "execution_count": 4,
   "metadata": {
    "collapsed": false
   },
   "outputs": [
    {
     "data": {
      "text/plain": [
       "'A'"
      ]
     },
     "execution_count": 4,
     "metadata": {},
     "output_type": "execute_result"
    }
   ],
   "source": [
    "chr(0x41) # Hexadecimal "
   ]
  },
  {
   "cell_type": "code",
   "execution_count": 5,
   "metadata": {
    "collapsed": false
   },
   "outputs": [
    {
     "data": {
      "text/plain": [
       "65"
      ]
     },
     "execution_count": 5,
     "metadata": {},
     "output_type": "execute_result"
    }
   ],
   "source": [
    "ord('A') # Inverse of chr()"
   ]
  },
  {
   "cell_type": "code",
   "execution_count": 6,
   "metadata": {
    "collapsed": false
   },
   "outputs": [
    {
     "name": "stdout",
     "output_type": "stream",
     "text": [
      "Jeg lærer Python."
     ]
    }
   ],
   "source": [
    "aphrase = [0x4A, 0x65, 0x67, 0x20, 0x6C, \\\n",
    "           0xE6, 0x72, 0x65, 0x72, 0x20, \\\n",
    "           0x50, 0x79, 0x74, 0x68, 0x6F, \\\n",
    "           0x6E, 0x2E]\n",
    "\n",
    "for i in range(len(aphrase)):\n",
    "    print(chr(aphrase[i]), end='')"
   ]
  },
  {
   "cell_type": "code",
   "execution_count": 7,
   "metadata": {
    "collapsed": false
   },
   "outputs": [
    {
     "data": {
      "text/plain": [
       "74"
      ]
     },
     "execution_count": 7,
     "metadata": {},
     "output_type": "execute_result"
    }
   ],
   "source": [
    "aphrase[0]"
   ]
  },
  {
   "cell_type": "code",
   "execution_count": 8,
   "metadata": {
    "collapsed": false
   },
   "outputs": [
    {
     "data": {
      "text/plain": [
       "230"
      ]
     },
     "execution_count": 8,
     "metadata": {},
     "output_type": "execute_result"
    }
   ],
   "source": [
    "ord('æ')"
   ]
  },
  {
   "cell_type": "code",
   "execution_count": 9,
   "metadata": {
    "collapsed": false
   },
   "outputs": [
    {
     "data": {
      "text/plain": [
       "'æ'"
      ]
     },
     "execution_count": 9,
     "metadata": {},
     "output_type": "execute_result"
    }
   ],
   "source": [
    "chr(230)"
   ]
  },
  {
   "cell_type": "code",
   "execution_count": 10,
   "metadata": {
    "collapsed": false
   },
   "outputs": [
    {
     "data": {
      "text/plain": [
       "'😃'"
      ]
     },
     "execution_count": 10,
     "metadata": {},
     "output_type": "execute_result"
    }
   ],
   "source": [
    "chr(0x1F603)"
   ]
  },
  {
   "cell_type": "code",
   "execution_count": 11,
   "metadata": {
    "collapsed": false
   },
   "outputs": [
    {
     "data": {
      "text/plain": [
       "128515"
      ]
     },
     "execution_count": 11,
     "metadata": {},
     "output_type": "execute_result"
    }
   ],
   "source": [
    "ord('😃')"
   ]
  },
  {
   "cell_type": "markdown",
   "metadata": {},
   "source": [
    "# 1. Reading in text-based files in Python\n",
    "Let's see how to read in a file in [.cvs format](https://en.wikipedia.org/wiki/Comma-separated_values).\n",
    "<br>\n",
    "We will try four different approaches: \n",
    "1. Writing our own custom function\n",
    "2. Using the csv module in Python \n",
    "3. Using Numpy\n",
    "4. Using Pandas\n",
    "\n",
    "The Data is a .cvs file of the Flatiron track from [here](https://www.gpsies.com/map.do?fileId=xqmqtnuzirmzvjsm).\n",
    "<br>\n",
    "This section is inspired and adpated from https://janakiev.com/blog/csv-in-python/"
   ]
  },
  {
   "cell_type": "markdown",
   "metadata": {},
   "source": [
    "## 1.1 Do-it-yourself \n",
    "Hard work but can learn a lot."
   ]
  },
  {
   "cell_type": "code",
   "execution_count": 12,
   "metadata": {
    "collapsed": false
   },
   "outputs": [
    {
     "name": "stdout",
     "output_type": "stream",
     "text": [
      "<_io.TextIOWrapper name='test_data/Flatiron.csv' mode='r' encoding='UTF-8'>\n"
     ]
    }
   ],
   "source": [
    "# Specify the path of the file\n",
    "data_path = 'test_data/Flatiron.csv'\n",
    "\n",
    "# Open the file and put it in read-only status\n",
    "opened_file = open(data_path, 'r') \n",
    "\n",
    "print(opened_file)"
   ]
  },
  {
   "cell_type": "code",
   "execution_count": 13,
   "metadata": {
    "collapsed": false
   },
   "outputs": [
    {
     "name": "stdout",
     "output_type": "stream",
     "text": [
      "['Latitude', 'Longitude', 'Elevation']\n",
      "[33.459392, 33.4593473, 33.4591735, 33.4589564, 33.4587619, 33.4585586, 33.4583752]\n",
      "[-111.479671, -111.479915, -111.480037, -111.480118, -111.480153, -111.480167, -111.480208]\n",
      "[632.0, 630.9667, 629.26666, 626.13336, 626.56665, 628.23334, 630.56665]\n",
      "167\n"
     ]
    }
   ],
   "source": [
    "# Initialise storage\n",
    "# Assume that we know the first line is the header information and there are three columns of data separated by commas.\n",
    "line_num = 1\n",
    "header = []\n",
    "data = [[], [], []]\n",
    "\n",
    "for line in opened_file:\n",
    "    if line_num == 1: # Read the header\n",
    "        word = []\n",
    "        for c in line:\n",
    "            word.append(c)\n",
    "            if c == ',' or c == '\\n':\n",
    "                word.pop()\n",
    "                word_str = ''.join(word) # Convert a list of characters to a string\n",
    "                header.append(word_str)\n",
    "                \n",
    "                word = []\n",
    "                \n",
    "    else: # Read the data\n",
    "        word = []\n",
    "        i = 0\n",
    "        for c in line:\n",
    "            word.append(c)\n",
    "            if c == ',' or c == '\\n':\n",
    "                word.pop()\n",
    "                word_str = ''.join(word) # Convert a list of characters to a string\n",
    "                word_num = float(word_str) # Convert a string to a floating point number\n",
    "                data[i].append(word_num)\n",
    "                \n",
    "                word = []\n",
    "                i += 1\n",
    "                i = i % 3\n",
    "                \n",
    "    line_num += 1\n",
    "    \n",
    "    \n",
    "\n",
    "print(header)\n",
    "print(data[0][0:7]) # print only the first 7 numbers out\n",
    "print(data[1][0:7])\n",
    "print(data[2][0:7])\n",
    "print(line_num)"
   ]
  },
  {
   "cell_type": "code",
   "execution_count": 14,
   "metadata": {
    "collapsed": false
   },
   "outputs": [
    {
     "data": {
      "text/plain": [
       "[33.459392,\n",
       " 33.4593473,\n",
       " 33.4591735,\n",
       " 33.4589564,\n",
       " 33.4587619,\n",
       " 33.4585586,\n",
       " 33.4583752,\n",
       " 33.4581901,\n",
       " 33.4579955,\n",
       " 33.4577825,\n",
       " 33.4575768,\n",
       " 33.4573889,\n",
       " 33.4571853,\n",
       " 33.4569762,\n",
       " 33.4567937,\n",
       " 33.456569,\n",
       " 33.4563604,\n",
       " 33.4562383,\n",
       " 33.4562054,\n",
       " 33.4559902,\n",
       " 33.4558012,\n",
       " 33.4556067,\n",
       " 33.4555049,\n",
       " 33.4553242,\n",
       " 33.4552757,\n",
       " 33.4551155,\n",
       " 33.4549125,\n",
       " 33.454712,\n",
       " 33.4545122,\n",
       " 33.4543543,\n",
       " 33.4541544,\n",
       " 33.4539382,\n",
       " 33.4537627,\n",
       " 33.4535519,\n",
       " 33.4534854,\n",
       " 33.453419,\n",
       " 33.4533661,\n",
       " 33.4532677,\n",
       " 33.453102,\n",
       " 33.4530431,\n",
       " 33.4529165,\n",
       " 33.4527571,\n",
       " 33.4525634,\n",
       " 33.4524344,\n",
       " 33.4524084,\n",
       " 33.4522698,\n",
       " 33.4521557,\n",
       " 33.4520143,\n",
       " 33.4519195,\n",
       " 33.4517641,\n",
       " 33.4515666,\n",
       " 33.4513877,\n",
       " 33.451227,\n",
       " 33.4510637,\n",
       " 33.4510051,\n",
       " 33.450935,\n",
       " 33.4507925,\n",
       " 33.4506576,\n",
       " 33.4504721,\n",
       " 33.4503048,\n",
       " 33.450107,\n",
       " 33.4499755,\n",
       " 33.4498751,\n",
       " 33.4497226,\n",
       " 33.4495973,\n",
       " 33.4494864,\n",
       " 33.4493707,\n",
       " 33.4491838,\n",
       " 33.4490127,\n",
       " 33.4488355,\n",
       " 33.4486897,\n",
       " 33.4485051,\n",
       " 33.4483488,\n",
       " 33.4482513,\n",
       " 33.4480845,\n",
       " 33.4479192,\n",
       " 33.447748,\n",
       " 33.4475826,\n",
       " 33.4474224,\n",
       " 33.4472685,\n",
       " 33.4471508,\n",
       " 33.4470788,\n",
       " 33.4469079,\n",
       " 33.4467414,\n",
       " 33.4465815,\n",
       " 33.4464788,\n",
       " 33.4464107,\n",
       " 33.4462782,\n",
       " 33.44617,\n",
       " 33.4460222,\n",
       " 33.445928,\n",
       " 33.4458346,\n",
       " 33.4457176,\n",
       " 33.4456754,\n",
       " 33.4455756,\n",
       " 33.4455067,\n",
       " 33.4454036,\n",
       " 33.4453662,\n",
       " 33.4452785,\n",
       " 33.4452092,\n",
       " 33.4451831,\n",
       " 33.4452163,\n",
       " 33.4451981,\n",
       " 33.4450691,\n",
       " 33.4450023,\n",
       " 33.4449366,\n",
       " 33.4448361,\n",
       " 33.4447132,\n",
       " 33.4446578,\n",
       " 33.4444866,\n",
       " 33.4443056,\n",
       " 33.4441045,\n",
       " 33.4438753,\n",
       " 33.4437319,\n",
       " 33.4436394,\n",
       " 33.4435324,\n",
       " 33.4434392,\n",
       " 33.4433332,\n",
       " 33.4432395,\n",
       " 33.4430829,\n",
       " 33.4430304,\n",
       " 33.4429308,\n",
       " 33.4428941,\n",
       " 33.4427422,\n",
       " 33.4425708,\n",
       " 33.440788,\n",
       " 33.4412862,\n",
       " 33.4415168,\n",
       " 33.4414077,\n",
       " 33.441216,\n",
       " 33.4411512,\n",
       " 33.4410262,\n",
       " 33.4409279,\n",
       " 33.4407824,\n",
       " 33.4406862,\n",
       " 33.4404948,\n",
       " 33.4403391,\n",
       " 33.4395493,\n",
       " 33.4396583,\n",
       " 33.4394795,\n",
       " 33.4394882,\n",
       " 33.4392239,\n",
       " 33.4391035,\n",
       " 33.4387511,\n",
       " 33.4385053,\n",
       " 33.4386061,\n",
       " 33.4388378,\n",
       " 33.4390029,\n",
       " 33.439113,\n",
       " 33.4389534,\n",
       " 33.4387576,\n",
       " 33.438601,\n",
       " 33.4384105,\n",
       " 33.4383692,\n",
       " 33.4384489,\n",
       " 33.4384066,\n",
       " 33.4383912,\n",
       " 33.4385465,\n",
       " 33.4385338,\n",
       " 33.4383673,\n",
       " 33.4383103,\n",
       " 33.4382114,\n",
       " 33.4380971,\n",
       " 33.4379632,\n",
       " 33.437705]"
      ]
     },
     "execution_count": 14,
     "metadata": {},
     "output_type": "execute_result"
    }
   ],
   "source": [
    "data[0]"
   ]
  },
  {
   "cell_type": "markdown",
   "metadata": {},
   "source": [
    "## 1.1 Python csv module\n",
    "Better. More abstract. Still a bit clunky."
   ]
  },
  {
   "cell_type": "code",
   "execution_count": 15,
   "metadata": {
    "collapsed": false
   },
   "outputs": [
    {
     "name": "stdout",
     "output_type": "stream",
     "text": [
      "['Latitude', 'Longitude', 'Elevation']\n",
      "[['33.45939200', '-111.479671', '632.0'], ['33.45934730', '-111.479915', '630.9667'], ['33.45917350', '-111.480037', '629.26666'], ['33.45895640', '-111.480118', '626.13336'], ['33.45876190', '-111.480153', '626.56665'], ['33.45855860', '-111.480167', '628.23334'], ['33.45837520', '-111.480208', '630.56665']]\n"
     ]
    }
   ],
   "source": [
    "import csv\n",
    "\n",
    "data_path = 'test_data/Flatiron.csv'\n",
    "\n",
    "with open(data_path, 'r') as opened_file:\n",
    "    cvs_file = csv.reader(opened_file, delimiter=',')\n",
    "    \n",
    "    # Get the header from the first line\n",
    "    headers = next(cvs_file)\n",
    "    \n",
    "    # Get the data from the rest of the lines as a list\n",
    "    data = list(cvs_file)\n",
    "\n",
    "    \n",
    "print(headers)\n",
    "print(data[0:7])"
   ]
  },
  {
   "cell_type": "markdown",
   "metadata": {},
   "source": [
    "## 1.2 Numpy genfromtext \n",
    "Much Better. One line solution."
   ]
  },
  {
   "cell_type": "code",
   "execution_count": 16,
   "metadata": {
    "collapsed": false
   },
   "outputs": [],
   "source": [
    "import numpy as np\n",
    "\n",
    "data = np.genfromtxt('test_data/Flatiron.csv', delimiter=',', names=True)"
   ]
  },
  {
   "cell_type": "code",
   "execution_count": 17,
   "metadata": {
    "collapsed": false
   },
   "outputs": [
    {
     "name": "stdout",
     "output_type": "stream",
     "text": [
      "<class 'numpy.ndarray'>\n"
     ]
    }
   ],
   "source": [
    "print(type(data))"
   ]
  },
  {
   "cell_type": "code",
   "execution_count": 18,
   "metadata": {
    "collapsed": false
   },
   "outputs": [
    {
     "data": {
      "text/plain": [
       "array([ 33.459392 ,  33.4593473,  33.4591735,  33.4589564,  33.4587619,\n",
       "        33.4585586,  33.4583752,  33.4581901,  33.4579955,  33.4577825,\n",
       "        33.4575768,  33.4573889,  33.4571853,  33.4569762,  33.4567937,\n",
       "        33.456569 ,  33.4563604,  33.4562383,  33.4562054,  33.4559902,\n",
       "        33.4558012,  33.4556067,  33.4555049,  33.4553242,  33.4552757,\n",
       "        33.4551155,  33.4549125,  33.454712 ,  33.4545122,  33.4543543,\n",
       "        33.4541544,  33.4539382,  33.4537627,  33.4535519,  33.4534854,\n",
       "        33.453419 ,  33.4533661,  33.4532677,  33.453102 ,  33.4530431,\n",
       "        33.4529165,  33.4527571,  33.4525634,  33.4524344,  33.4524084,\n",
       "        33.4522698,  33.4521557,  33.4520143,  33.4519195,  33.4517641,\n",
       "        33.4515666,  33.4513877,  33.451227 ,  33.4510637,  33.4510051,\n",
       "        33.450935 ,  33.4507925,  33.4506576,  33.4504721,  33.4503048,\n",
       "        33.450107 ,  33.4499755,  33.4498751,  33.4497226,  33.4495973,\n",
       "        33.4494864,  33.4493707,  33.4491838,  33.4490127,  33.4488355,\n",
       "        33.4486897,  33.4485051,  33.4483488,  33.4482513,  33.4480845,\n",
       "        33.4479192,  33.447748 ,  33.4475826,  33.4474224,  33.4472685,\n",
       "        33.4471508,  33.4470788,  33.4469079,  33.4467414,  33.4465815,\n",
       "        33.4464788,  33.4464107,  33.4462782,  33.44617  ,  33.4460222,\n",
       "        33.445928 ,  33.4458346,  33.4457176,  33.4456754,  33.4455756,\n",
       "        33.4455067,  33.4454036,  33.4453662,  33.4452785,  33.4452092,\n",
       "        33.4451831,  33.4452163,  33.4451981,  33.4450691,  33.4450023,\n",
       "        33.4449366,  33.4448361,  33.4447132,  33.4446578,  33.4444866,\n",
       "        33.4443056,  33.4441045,  33.4438753,  33.4437319,  33.4436394,\n",
       "        33.4435324,  33.4434392,  33.4433332,  33.4432395,  33.4430829,\n",
       "        33.4430304,  33.4429308,  33.4428941,  33.4427422,  33.4425708,\n",
       "        33.440788 ,  33.4412862,  33.4415168,  33.4414077,  33.441216 ,\n",
       "        33.4411512,  33.4410262,  33.4409279,  33.4407824,  33.4406862,\n",
       "        33.4404948,  33.4403391,  33.4395493,  33.4396583,  33.4394795,\n",
       "        33.4394882,  33.4392239,  33.4391035,  33.4387511,  33.4385053,\n",
       "        33.4386061,  33.4388378,  33.4390029,  33.439113 ,  33.4389534,\n",
       "        33.4387576,  33.438601 ,  33.4384105,  33.4383692,  33.4384489,\n",
       "        33.4384066,  33.4383912,  33.4385465,  33.4385338,  33.4383673,\n",
       "        33.4383103,  33.4382114,  33.4380971,  33.4379632,  33.437705 ])"
      ]
     },
     "execution_count": 18,
     "metadata": {},
     "output_type": "execute_result"
    }
   ],
   "source": [
    "data['Latitude']"
   ]
  },
  {
   "cell_type": "code",
   "execution_count": 19,
   "metadata": {
    "collapsed": false
   },
   "outputs": [
    {
     "data": {
      "text/plain": [
       "array([-111.479671, -111.479915, -111.480037, -111.480118, -111.480153,\n",
       "       -111.480167, -111.480208, -111.480244, -111.480234, -111.480344,\n",
       "       -111.480402, -111.4805  , -111.480613, -111.480687, -111.480745,\n",
       "       -111.480729, -111.480752, -111.48059 , -111.480322, -111.480278,\n",
       "       -111.480312, -111.480238, -111.480056, -111.479955, -111.479704,\n",
       "       -111.479564, -111.479575, -111.479455, -111.479365, -111.479253,\n",
       "       -111.47923 , -111.479155, -111.479041, -111.47906 , -111.478811,\n",
       "       -111.478605, -111.478369, -111.478172, -111.478022, -111.477816,\n",
       "       -111.477642, -111.477528, -111.477379, -111.477212, -111.476981,\n",
       "       -111.476842, -111.476641, -111.476462, -111.476223, -111.476072,\n",
       "       -111.475962, -111.475847, -111.475651, -111.475511, -111.47528 ,\n",
       "       -111.475069, -111.474874, -111.474711, -111.474555, -111.474373,\n",
       "       -111.474243, -111.47409 , -111.473905, -111.473721, -111.473554,\n",
       "       -111.473368, -111.473176, -111.473058, -111.472919, -111.472766,\n",
       "       -111.472638, -111.472527, -111.472373, -111.472146, -111.472014,\n",
       "       -111.471905, -111.471772, -111.471639, -111.471467, -111.471298,\n",
       "       -111.471116, -111.470891, -111.470766, -111.470626, -111.470469,\n",
       "       -111.470247, -111.470036, -111.469885, -111.469694, -111.469498,\n",
       "       -111.469308, -111.469111, -111.468926, -111.46871 , -111.468503,\n",
       "       -111.4683  , -111.468061, -111.467846, -111.467647, -111.467414,\n",
       "       -111.467198, -111.466958, -111.46671 , -111.466548, -111.466345,\n",
       "       -111.46614 , -111.465948, -111.465735, -111.465496, -111.465362,\n",
       "       -111.465264, -111.465183, -111.465111, -111.464929, -111.464714,\n",
       "       -111.464503, -111.464318, -111.464128, -111.463938, -111.463811,\n",
       "       -111.463572, -111.463363, -111.463141, -111.461926, -111.461844,\n",
       "       -111.46016 , -111.459943, -111.459816, -111.45959 , -111.45942 ,\n",
       "       -111.459163, -111.45893 , -111.458721, -111.458522, -111.458312,\n",
       "       -111.458234, -111.458063, -111.454712, -111.454466, -111.454264,\n",
       "       -111.453692, -111.453253, -111.453056, -111.452892, -111.452652,\n",
       "       -111.4523  , -111.452316, -111.452227, -111.452031, -111.452151,\n",
       "       -111.452155, -111.451958, -111.451519, -111.451286, -111.451074,\n",
       "       -111.450829, -111.450586, -111.450775, -111.450993, -111.451098,\n",
       "       -111.451316, -111.451528, -111.451727, -111.451944, -111.45436 ])"
      ]
     },
     "execution_count": 19,
     "metadata": {},
     "output_type": "execute_result"
    }
   ],
   "source": [
    "data['Longitude']"
   ]
  },
  {
   "cell_type": "markdown",
   "metadata": {},
   "source": [
    "## 1.3 Pandas\n",
    "Also pretty good."
   ]
  },
  {
   "cell_type": "code",
   "execution_count": 20,
   "metadata": {
    "collapsed": false
   },
   "outputs": [
    {
     "data": {
      "text/html": [
       "<div>\n",
       "<style scoped>\n",
       "    .dataframe tbody tr th:only-of-type {\n",
       "        vertical-align: middle;\n",
       "    }\n",
       "\n",
       "    .dataframe tbody tr th {\n",
       "        vertical-align: top;\n",
       "    }\n",
       "\n",
       "    .dataframe thead th {\n",
       "        text-align: right;\n",
       "    }\n",
       "</style>\n",
       "<table border=\"1\" class=\"dataframe\">\n",
       "  <thead>\n",
       "    <tr style=\"text-align: right;\">\n",
       "      <th></th>\n",
       "      <th>Latitude</th>\n",
       "      <th>Longitude</th>\n",
       "      <th>Elevation</th>\n",
       "    </tr>\n",
       "  </thead>\n",
       "  <tbody>\n",
       "    <tr>\n",
       "      <th>0</th>\n",
       "      <td>33.459392</td>\n",
       "      <td>-111.479671</td>\n",
       "      <td>632.00000</td>\n",
       "    </tr>\n",
       "    <tr>\n",
       "      <th>1</th>\n",
       "      <td>33.459347</td>\n",
       "      <td>-111.479915</td>\n",
       "      <td>630.96670</td>\n",
       "    </tr>\n",
       "    <tr>\n",
       "      <th>2</th>\n",
       "      <td>33.459173</td>\n",
       "      <td>-111.480037</td>\n",
       "      <td>629.26666</td>\n",
       "    </tr>\n",
       "    <tr>\n",
       "      <th>3</th>\n",
       "      <td>33.458956</td>\n",
       "      <td>-111.480118</td>\n",
       "      <td>626.13336</td>\n",
       "    </tr>\n",
       "    <tr>\n",
       "      <th>4</th>\n",
       "      <td>33.458762</td>\n",
       "      <td>-111.480153</td>\n",
       "      <td>626.56665</td>\n",
       "    </tr>\n",
       "    <tr>\n",
       "      <th>5</th>\n",
       "      <td>33.458559</td>\n",
       "      <td>-111.480167</td>\n",
       "      <td>628.23334</td>\n",
       "    </tr>\n",
       "    <tr>\n",
       "      <th>6</th>\n",
       "      <td>33.458375</td>\n",
       "      <td>-111.480208</td>\n",
       "      <td>630.56665</td>\n",
       "    </tr>\n",
       "    <tr>\n",
       "      <th>7</th>\n",
       "      <td>33.458190</td>\n",
       "      <td>-111.480244</td>\n",
       "      <td>629.83330</td>\n",
       "    </tr>\n",
       "    <tr>\n",
       "      <th>8</th>\n",
       "      <td>33.457996</td>\n",
       "      <td>-111.480234</td>\n",
       "      <td>628.36664</td>\n",
       "    </tr>\n",
       "    <tr>\n",
       "      <th>9</th>\n",
       "      <td>33.457783</td>\n",
       "      <td>-111.480344</td>\n",
       "      <td>626.96670</td>\n",
       "    </tr>\n",
       "  </tbody>\n",
       "</table>\n",
       "</div>"
      ],
      "text/plain": [
       "    Latitude   Longitude  Elevation\n",
       "0  33.459392 -111.479671  632.00000\n",
       "1  33.459347 -111.479915  630.96670\n",
       "2  33.459173 -111.480037  629.26666\n",
       "3  33.458956 -111.480118  626.13336\n",
       "4  33.458762 -111.480153  626.56665\n",
       "5  33.458559 -111.480167  628.23334\n",
       "6  33.458375 -111.480208  630.56665\n",
       "7  33.458190 -111.480244  629.83330\n",
       "8  33.457996 -111.480234  628.36664\n",
       "9  33.457783 -111.480344  626.96670"
      ]
     },
     "execution_count": 20,
     "metadata": {},
     "output_type": "execute_result"
    }
   ],
   "source": [
    "import pandas as pd\n",
    "\n",
    "data_path = 'test_data/Flatiron.csv'\n",
    "df = pd.read_csv(data_path, skiprows=0)\n",
    "df.head(10)"
   ]
  },
  {
   "cell_type": "markdown",
   "metadata": {},
   "source": [
    "## 1.4 Plot the data with the numpy solution in Section 1.2"
   ]
  },
  {
   "cell_type": "code",
   "execution_count": 21,
   "metadata": {
    "collapsed": false
   },
   "outputs": [
    {
     "data": {
      "image/png": "[encoded data removed]",
      "text/plain": [
       "<matplotlib.figure.Figure at 0x10d8c59b0>"
      ]
     },
     "metadata": {},
     "output_type": "display_data"
    },
    {
     "data": {
      "image/png": "[encoded data removed]",
      "text/plain": [
       "<matplotlib.figure.Figure at 0x110272470>"
      ]
     },
     "metadata": {},
     "output_type": "display_data"
    }
   ],
   "source": [
    "import matplotlib.pyplot as plt\n",
    "\n",
    "plt.plot(data['Longitude'], data['Latitude'])\n",
    "plt.axis('equal')\n",
    "plt.xlabel('Longitude')\n",
    "plt.ylabel('Latitude')\n",
    "plt.grid(True)\n",
    "plt.show()\n",
    "\n",
    "plt.plot(data['Elevation'])\n",
    "plt.xlabel('Data index')\n",
    "plt.ylabel('Elevation (m)')\n",
    "plt.grid(True)\n",
    "plt.show()"
   ]
  },
  {
   "cell_type": "markdown",
   "metadata": {},
   "source": [
    "# 2. Further practices with loading data from numpy and pandas"
   ]
  },
  {
   "cell_type": "markdown",
   "metadata": {},
   "source": [
    "## 2.1 Reading data in using numpy.loadtxt()\n",
    "Docs: http://docs.scipy.org/doc/numpy/reference/generated/numpy.loadtxt.html"
   ]
  },
  {
   "cell_type": "code",
   "execution_count": 22,
   "metadata": {
    "collapsed": true
   },
   "outputs": [],
   "source": [
    "# In test_data/ there is a text file called spectrum.dat \n",
    "# with data that we want to load into python. \n",
    "# (spectrum.dat is a model stellar spectrum from starburst99 for \n",
    "# a group of stars with 0.7 x solar metallicity, \n",
    "# 1e4 solar masses population, Kroupa IMF and a starburst 1e6 years ago)."
   ]
  },
  {
   "cell_type": "code",
   "execution_count": 23,
   "metadata": {
    "collapsed": false
   },
   "outputs": [
    {
     "name": "stdout",
     "output_type": "stream",
     "text": [
      "<class 'numpy.ndarray'>\n"
     ]
    }
   ],
   "source": [
    "import numpy as np\n",
    "\n",
    "spec_nparray = np.loadtxt('test_data/spectrum.dat', skiprows=6)\n",
    "\n",
    "print(type(spec_nparray))"
   ]
  },
  {
   "cell_type": "code",
   "execution_count": 24,
   "metadata": {
    "collapsed": false
   },
   "outputs": [
    {
     "name": "stdout",
     "output_type": "stream",
     "text": [
      "(1221, 5)\n"
     ]
    }
   ],
   "source": [
    "# Shape of this numpy array will be determined by number of columns and rows in your data:\n",
    "print(spec_nparray.shape)"
   ]
  },
  {
   "cell_type": "code",
   "execution_count": 25,
   "metadata": {
    "collapsed": false
   },
   "outputs": [
    {
     "name": "stdout",
     "output_type": "stream",
     "text": [
      "[  9.10000000e+01   9.40000000e+01   9.60000000e+01 ...,   1.20000000e+06\n",
      "   1.40000000e+06   1.60000000e+06]\n"
     ]
    }
   ],
   "source": [
    "# And if you want to extract e.g. the column containing wavelength data, \n",
    "# you need to remember its column index, in this case 1:\n",
    "wavelength_A = spec_nparray[:,1]\n",
    "\n",
    "print(wavelength_A)"
   ]
  },
  {
   "cell_type": "code",
   "execution_count": 26,
   "metadata": {
    "collapsed": false
   },
   "outputs": [
    {
     "name": "stdout",
     "output_type": "stream",
     "text": [
      "float64\n"
     ]
    }
   ],
   "source": [
    "# By default, numbers are loaded with float 64 bit precision: \n",
    "print(wavelength_A.dtype)"
   ]
  },
  {
   "cell_type": "markdown",
   "metadata": {},
   "source": [
    "## 2.2 Reading data in using numpy.genfromtxt()\n",
    "Doc: http://docs.scipy.org/doc/numpy/reference/generated/numpy.genfromtxt.html\n",
    "\n",
    "The `genfromtxt()` function from numpy is a bit more flexible."
   ]
  },
  {
   "cell_type": "code",
   "execution_count": 27,
   "metadata": {
    "collapsed": false
   },
   "outputs": [
    {
     "name": "stdout",
     "output_type": "stream",
     "text": [
      "<class 'numpy.ndarray'>\n"
     ]
    }
   ],
   "source": [
    "spec_nparray2 = np.genfromtxt('test_data/spectrum.dat', skip_header=6, \\\n",
    "                              names=['t_yr','wavelength_A','L_tot','L_stellar','L_nebular'])\n",
    "print(type(spec_nparray2))"
   ]
  },
  {
   "cell_type": "code",
   "execution_count": 28,
   "metadata": {
    "collapsed": false
   },
   "outputs": [
    {
     "name": "stdout",
     "output_type": "stream",
     "text": [
      "106.0\n",
      "106.0\n"
     ]
    }
   ],
   "source": [
    "# Print the seventh value in the wavelength column.\n",
    "print(spec_nparray[7,1])\n",
    "print(spec_nparray2['wavelength_A'][7])"
   ]
  },
  {
   "cell_type": "code",
   "execution_count": 29,
   "metadata": {
    "collapsed": false
   },
   "outputs": [
    {
     "name": "stdout",
     "output_type": "stream",
     "text": [
      "nan\n"
     ]
    }
   ],
   "source": [
    "# Try to change one of the wavelengths into something that is not a number (like %%%) \n",
    "# and you will see that genfromtxt() can handle this if you specify the keywords:\n",
    "# missing_values='%%%', filling_values=desired_value\n",
    "spec_nparray2 = np.genfromtxt('test_data/spectrum_nan.dat', skip_header=6,\\\n",
    "                              names=['t_yr','wavelength_A','L_tot','L_stellar','L_nebular'],\\\n",
    "                              missing_values='%%%', filling_values=np.nan)\n",
    "\n",
    "print(spec_nparray2['wavelength_A'][0])"
   ]
  },
  {
   "cell_type": "code",
   "execution_count": 30,
   "metadata": {
    "collapsed": false
   },
   "outputs": [
    {
     "ename": "ValueError",
     "evalue": "could not convert string to float: b'%%%'",
     "output_type": "error",
     "traceback": [
      "\u001b[0;31m---------------------------------------------------------------------------\u001b[0m",
      "\u001b[0;31mValueError\u001b[0m                                Traceback (most recent call last)",
      "\u001b[0;32m<ipython-input-30-21a8009bce64>\u001b[0m in \u001b[0;36m<module>\u001b[0;34m()\u001b[0m\n\u001b[1;32m      1\u001b[0m \u001b[0;31m# But loadtxt() will crash:\u001b[0m\u001b[0;34m\u001b[0m\u001b[0;34m\u001b[0m\u001b[0m\n\u001b[0;32m----> 2\u001b[0;31m \u001b[0mspec_nparray\u001b[0m \u001b[0;34m=\u001b[0m \u001b[0mnp\u001b[0m\u001b[0;34m.\u001b[0m\u001b[0mloadtxt\u001b[0m\u001b[0;34m(\u001b[0m\u001b[0;34m'test_data/spectrum_nan.dat'\u001b[0m\u001b[0;34m,\u001b[0m \u001b[0mskiprows\u001b[0m\u001b[0;34m=\u001b[0m\u001b[0;36m6\u001b[0m\u001b[0;34m)\u001b[0m\u001b[0;34m\u001b[0m\u001b[0m\n\u001b[0m",
      "\u001b[0;32m//anaconda/lib/python3.4/site-packages/numpy/lib/npyio.py\u001b[0m in \u001b[0;36mloadtxt\u001b[0;34m(fname, dtype, comments, delimiter, converters, skiprows, usecols, unpack, ndmin)\u001b[0m\n\u001b[1;32m    928\u001b[0m \u001b[0;34m\u001b[0m\u001b[0m\n\u001b[1;32m    929\u001b[0m             \u001b[0;31m# Convert each value according to its column and store\u001b[0m\u001b[0;34m\u001b[0m\u001b[0;34m\u001b[0m\u001b[0m\n\u001b[0;32m--> 930\u001b[0;31m             \u001b[0mitems\u001b[0m \u001b[0;34m=\u001b[0m \u001b[0;34m[\u001b[0m\u001b[0mconv\u001b[0m\u001b[0;34m(\u001b[0m\u001b[0mval\u001b[0m\u001b[0;34m)\u001b[0m \u001b[0;32mfor\u001b[0m \u001b[0;34m(\u001b[0m\u001b[0mconv\u001b[0m\u001b[0;34m,\u001b[0m \u001b[0mval\u001b[0m\u001b[0;34m)\u001b[0m \u001b[0;32min\u001b[0m \u001b[0mzip\u001b[0m\u001b[0;34m(\u001b[0m\u001b[0mconverters\u001b[0m\u001b[0;34m,\u001b[0m \u001b[0mvals\u001b[0m\u001b[0;34m)\u001b[0m\u001b[0;34m]\u001b[0m\u001b[0;34m\u001b[0m\u001b[0m\n\u001b[0m\u001b[1;32m    931\u001b[0m             \u001b[0;31m# Then pack it according to the dtype's nesting\u001b[0m\u001b[0;34m\u001b[0m\u001b[0;34m\u001b[0m\u001b[0m\n\u001b[1;32m    932\u001b[0m             \u001b[0mitems\u001b[0m \u001b[0;34m=\u001b[0m \u001b[0mpack_items\u001b[0m\u001b[0;34m(\u001b[0m\u001b[0mitems\u001b[0m\u001b[0;34m,\u001b[0m \u001b[0mpacking\u001b[0m\u001b[0;34m)\u001b[0m\u001b[0;34m\u001b[0m\u001b[0m\n",
      "\u001b[0;32m//anaconda/lib/python3.4/site-packages/numpy/lib/npyio.py\u001b[0m in \u001b[0;36m<listcomp>\u001b[0;34m(.0)\u001b[0m\n\u001b[1;32m    928\u001b[0m \u001b[0;34m\u001b[0m\u001b[0m\n\u001b[1;32m    929\u001b[0m             \u001b[0;31m# Convert each value according to its column and store\u001b[0m\u001b[0;34m\u001b[0m\u001b[0;34m\u001b[0m\u001b[0m\n\u001b[0;32m--> 930\u001b[0;31m             \u001b[0mitems\u001b[0m \u001b[0;34m=\u001b[0m \u001b[0;34m[\u001b[0m\u001b[0mconv\u001b[0m\u001b[0;34m(\u001b[0m\u001b[0mval\u001b[0m\u001b[0;34m)\u001b[0m \u001b[0;32mfor\u001b[0m \u001b[0;34m(\u001b[0m\u001b[0mconv\u001b[0m\u001b[0;34m,\u001b[0m \u001b[0mval\u001b[0m\u001b[0;34m)\u001b[0m \u001b[0;32min\u001b[0m \u001b[0mzip\u001b[0m\u001b[0;34m(\u001b[0m\u001b[0mconverters\u001b[0m\u001b[0;34m,\u001b[0m \u001b[0mvals\u001b[0m\u001b[0;34m)\u001b[0m\u001b[0;34m]\u001b[0m\u001b[0;34m\u001b[0m\u001b[0m\n\u001b[0m\u001b[1;32m    931\u001b[0m             \u001b[0;31m# Then pack it according to the dtype's nesting\u001b[0m\u001b[0;34m\u001b[0m\u001b[0;34m\u001b[0m\u001b[0m\n\u001b[1;32m    932\u001b[0m             \u001b[0mitems\u001b[0m \u001b[0;34m=\u001b[0m \u001b[0mpack_items\u001b[0m\u001b[0;34m(\u001b[0m\u001b[0mitems\u001b[0m\u001b[0;34m,\u001b[0m \u001b[0mpacking\u001b[0m\u001b[0;34m)\u001b[0m\u001b[0;34m\u001b[0m\u001b[0m\n",
      "\u001b[0;32m//anaconda/lib/python3.4/site-packages/numpy/lib/npyio.py\u001b[0m in \u001b[0;36mfloatconv\u001b[0;34m(x)\u001b[0m\n\u001b[1;32m    657\u001b[0m         \u001b[0;32mif\u001b[0m \u001b[0;34mb'0x'\u001b[0m \u001b[0;32min\u001b[0m \u001b[0mx\u001b[0m\u001b[0;34m:\u001b[0m\u001b[0;34m\u001b[0m\u001b[0m\n\u001b[1;32m    658\u001b[0m             \u001b[0;32mreturn\u001b[0m \u001b[0mfloat\u001b[0m\u001b[0;34m.\u001b[0m\u001b[0mfromhex\u001b[0m\u001b[0;34m(\u001b[0m\u001b[0masstr\u001b[0m\u001b[0;34m(\u001b[0m\u001b[0mx\u001b[0m\u001b[0;34m)\u001b[0m\u001b[0;34m)\u001b[0m\u001b[0;34m\u001b[0m\u001b[0m\n\u001b[0;32m--> 659\u001b[0;31m         \u001b[0;32mreturn\u001b[0m \u001b[0mfloat\u001b[0m\u001b[0;34m(\u001b[0m\u001b[0mx\u001b[0m\u001b[0;34m)\u001b[0m\u001b[0;34m\u001b[0m\u001b[0m\n\u001b[0m\u001b[1;32m    660\u001b[0m \u001b[0;34m\u001b[0m\u001b[0m\n\u001b[1;32m    661\u001b[0m     \u001b[0mtyp\u001b[0m \u001b[0;34m=\u001b[0m \u001b[0mdtype\u001b[0m\u001b[0;34m.\u001b[0m\u001b[0mtype\u001b[0m\u001b[0;34m\u001b[0m\u001b[0m\n",
      "\u001b[0;31mValueError\u001b[0m: could not convert string to float: b'%%%'"
     ]
    }
   ],
   "source": [
    "# But loadtxt() will crash:\n",
    "spec_nparray = np.loadtxt('test_data/spectrum_nan.dat', skiprows=6)"
   ]
  },
  {
   "cell_type": "markdown",
   "metadata": {},
   "source": [
    "## 2.3 Read data into pandas dataframe\n",
    "Typically, a smarter way (if you are essentially loading a matrix) is to load the data directly into a pandas dataframe. The function read_table (almost identical to read_table) can be used to read an ascii file into a dataframe:\n",
    "http://pandas.pydata.org/pandas-docs/stable/dsintro.html"
   ]
  },
  {
   "cell_type": "code",
   "execution_count": 31,
   "metadata": {
    "collapsed": false
   },
   "outputs": [
    {
     "name": "stdout",
     "output_type": "stream",
     "text": [
      "<class 'pandas.core.frame.DataFrame'>\n"
     ]
    }
   ],
   "source": [
    "import pandas as pd\n",
    "\n",
    "names=['t_yr','wavelength_A','L_tot','L_stellar','L_nebular']\n",
    "spec_dataframe = pd.read_table('test_data/spectrum.dat', \\\n",
    "                               names=names,              \\\n",
    "                               skiprows=6,               \\\n",
    "                               sep=r\"\\s*\",               \\\n",
    "                               engine='python')    \n",
    "print(type(spec_dataframe))"
   ]
  },
  {
   "cell_type": "markdown",
   "metadata": {},
   "source": [
    "Note about engine: The C engine is faster while the Python engine is currently more feature-complete. The C engine cannot automatically detect the separator, but the Python parsing engine can, meaning the latter will be used and automatically detect the separator by Python’s builtin sniffer tool, csv.Sniffer. In addition, separators longer than 1 character and different from '\\s+' will be interpreted as regular expressions and will also force the use of the Python parsing engine. "
   ]
  },
  {
   "cell_type": "code",
   "execution_count": 32,
   "metadata": {
    "collapsed": false
   },
   "outputs": [
    {
     "data": {
      "text/plain": [
       "10010000.0"
      ]
     },
     "execution_count": 32,
     "metadata": {},
     "output_type": "execute_result"
    }
   ],
   "source": [
    "spec_dataframe['t_yr'][1]"
   ]
  },
  {
   "cell_type": "code",
   "execution_count": 33,
   "metadata": {
    "collapsed": false
   },
   "outputs": [
    {
     "data": {
      "image/png": "[encoded data removed]",
      "text/plain": [
       "<matplotlib.figure.Figure at 0x110779f98>"
      ]
     },
     "metadata": {},
     "output_type": "display_data"
    }
   ],
   "source": [
    "# Plot spectrum\n",
    "import matplotlib.pyplot as plt\n",
    "import matplotlib as mpl\n",
    "mpl.rcParams['xtick.labelsize'] = 15\n",
    "mpl.rcParams['ytick.labelsize'] = 15\n",
    "\n",
    "fig          =   plt.figure(0, figsize=(10,5))\n",
    "ax1          =   fig.add_axes([0.15,0.1,0.75,0.8])\n",
    "ax1.set_ylim(31,39)\n",
    "ax1.set_xlim(1e2,1e6)\n",
    "ax1.set_xscale('log')\n",
    "ax1.set_xlabel('Wavelength [AA]', fontsize=15)\n",
    "ax1.set_ylabel('log flux [erg/s/AA]', fontsize=15)\n",
    "ax1.set_title('1e4 M$_{\\odot}$ of stars with Z=0.008 after 1e6 yr', fontsize=15)#+str(t1)+' yr')\n",
    "#ax1.plot(spec_nparray[:,1],spec_nparray[:,2],'b')\n",
    "#ax1.plot(spec_nparray2['wavelength'],spec_nparray2['L_tot'],'b')\n",
    "ax1.plot(spec_dataframe['wavelength_A'], spec_dataframe['L_tot'],'b')\n",
    "\n",
    "plt.show()"
   ]
  },
  {
   "cell_type": "markdown",
   "metadata": {},
   "source": [
    "Pandas has a function that saves (serializes) a dataframe:"
   ]
  },
  {
   "cell_type": "code",
   "execution_count": 34,
   "metadata": {
    "collapsed": false
   },
   "outputs": [
    {
     "data": {
      "text/plain": [
       "10010000.0"
      ]
     },
     "execution_count": 34,
     "metadata": {},
     "output_type": "execute_result"
    }
   ],
   "source": [
    "spec_dataframe.to_pickle('test_data/spec_dataframe_pickle') # no extension\n",
    "load_spec_dataframe_pickle = pd.read_pickle('test_data/spec_dataframe_pickle')\n",
    "load_spec_dataframe_pickle['t_yr'][0] # test"
   ]
  },
  {
   "cell_type": "markdown",
   "metadata": {},
   "source": [
    "By default, the to_pickle function will use the highest \"protocol\" possible to save the dataframe in binary format:\n",
    "<br>\n",
    "https://pandas.pydata.org/pandas-docs/stable/generated/pandas.DataFrame.to_pickle.html\n",
    "\n",
    "* Protocol version 0 is the original ASCII protocol and is backwards compatible with earlier versions of Python.\n",
    "* Protocol version 1 is the old binary format which is also compatible with earlier versions of Python.\n",
    "* Protocol version 2 was introduced in Python 2.3. It provides much more efficient pickling of new-style classes.\n",
    "* Higher protocol versions were introduced in Python 3.\n",
    "\n",
    "To check what your default highest protocol is:"
   ]
  },
  {
   "cell_type": "code",
   "execution_count": 35,
   "metadata": {
    "collapsed": false
   },
   "outputs": [
    {
     "data": {
      "text/plain": [
       "4"
      ]
     },
     "execution_count": 35,
     "metadata": {},
     "output_type": "execute_result"
    }
   ],
   "source": [
    "import pickle as pickle\n",
    "pickle.HIGHEST_PROTOCOL"
   ]
  },
  {
   "cell_type": "markdown",
   "metadata": {},
   "source": [
    "Forcing protocol=0, results in a slightly larger datafile:"
   ]
  },
  {
   "cell_type": "code",
   "execution_count": 36,
   "metadata": {
    "collapsed": true
   },
   "outputs": [],
   "source": [
    "spec_dataframe.to_pickle('test_data/spec_dataframe_pickle_p0', protocol=0) # no extension"
   ]
  },
  {
   "cell_type": "markdown",
   "metadata": {},
   "source": [
    "Ultimately it depends a bit on what the dataframe contains, see a comparison here of different ways to save dataframes: \n",
    "http://matthewrocklin.com/blog/work/2015/03/16/Fast-Serialization"
   ]
  },
  {
   "cell_type": "markdown",
   "metadata": {},
   "source": [
    "## 2.4 Fits files from astropy"
   ]
  },
  {
   "cell_type": "markdown",
   "metadata": {},
   "source": [
    "In test_data/ there is a file called cloud.fits with data that we want to import into Python. \n",
    "(cloud.fits is a simulated HCO+ data cube of a cloud, calculated with the radiative transfer code LIME)"
   ]
  },
  {
   "cell_type": "markdown",
   "metadata": {},
   "source": [
    "First we need the fits module from astropy.io to open the fits file as a class object:"
   ]
  },
  {
   "cell_type": "code",
   "execution_count": 37,
   "metadata": {
    "collapsed": false
   },
   "outputs": [
    {
     "name": "stdout",
     "output_type": "stream",
     "text": [
      "<class 'astropy.io.fits.hdu.hdulist.HDUList'>\n"
     ]
    },
    {
     "name": "stderr",
     "output_type": "stream",
     "text": [
      "//anaconda/lib/python3.4/site-packages/IPython/kernel/__init__.py:13: ShimWarning: The `IPython.kernel` package has been deprecated since IPython 4.0.You should import from ipykernel or jupyter_client instead.\n",
      "  \"You should import from ipykernel or jupyter_client instead.\", ShimWarning)\n"
     ]
    }
   ],
   "source": [
    "from astropy.io import fits\n",
    "\n",
    "fits_file = fits.open('test_data/cloud.fits')\n",
    "print(type(fits_file))"
   ]
  },
  {
   "cell_type": "markdown",
   "metadata": {},
   "source": [
    "(HDU = Header Data Unit)<br>\n",
    "Next, we can get some basic info about the fits file:"
   ]
  },
  {
   "cell_type": "code",
   "execution_count": 38,
   "metadata": {
    "collapsed": false
   },
   "outputs": [
    {
     "name": "stdout",
     "output_type": "stream",
     "text": [
      "Filename: test_data/cloud.fits\n",
      "No.    Name         Type      Cards   Dimensions   Format\n",
      "0    PRIMARY     PrimaryHDU      34   (100, 100, 61)   float32   \n"
     ]
    }
   ],
   "source": [
    "fits_file.info()"
   ]
  },
  {
   "cell_type": "markdown",
   "metadata": {},
   "source": [
    "And display all header \"cards\":"
   ]
  },
  {
   "cell_type": "code",
   "execution_count": 39,
   "metadata": {
    "collapsed": false
   },
   "outputs": [
    {
     "name": "stdout",
     "output_type": "stream",
     "text": [
      "SIMPLE  =                    T / file does conform to FITS standard             BITPIX  =                  -32 / number of bits per data pixel                  NAXIS   =                    3 / number of data axes                            NAXIS1  =                  100 / length of data axis 1                          NAXIS2  =                  100 / length of data axis 2                          NAXIS3  =                   61 / length of data axis 3                          EXTEND  =                    T / FITS dataset may contain extensions            COMMENT   FITS (Flexible Image Transport System) format is defined in 'AstronomyCOMMENT   and Astrophysics', volume 376, page 359; bibcode: 2001A&A...376..359H OBJECT  = 'LIMEMDL '                                                            EPOCH   =                2000.                                                  LONPOLE =                 180.                                                  EQUINOX =                2000.                                                  SPECSYS = 'LSRK    '                                                            RESTFREQ=        356734288000.                                                  VELREF  =                  257                                                  CTYPE1  = 'RA---SIN'                                                            CDELT1  = -2.77777778110544E-05                                                 CRPIX1  =                 50.5                                                  CRVAL1  =                   0.                                                  CUNIT1  = 'DEG     '                                                            CTYPE2  = 'DEC--SIN'                                                            CDELT2  = 2.77777778110544E-05                                                  CRPIX2  =                 50.5                                                  CRVAL2  =                   0.                                                  CUNIT2  = 'DEG     '                                                            CTYPE3  = 'VELO-LSR'                                                            CDELT3  =                 500.                                                  CRPIX3  =                  31.                                                  CRVAL3  =                   0.                                                  CUNIT3  = 'M/S     '                                                            BSCALE  =                   1.                                                  BZERO   =                   0.                                                  BUNIT   = 'K       '                                                            END                                                                                                                                                             \n"
     ]
    }
   ],
   "source": [
    "print(fits_file[0].header) "
   ]
  },
  {
   "cell_type": "markdown",
   "metadata": {},
   "source": [
    "Now we can extract the info that we're interested in like this:"
   ]
  },
  {
   "cell_type": "code",
   "execution_count": 40,
   "metadata": {
    "collapsed": false
   },
   "outputs": [
    {
     "name": "stdout",
     "output_type": "stream",
     "text": [
      "Image resolution: 2.7777 degrees \n",
      "Number of pixels on each side: 61\n",
      "Velocity resolution: 500.0 m/s\n"
     ]
    }
   ],
   "source": [
    "imgres = fits_file[0].header['CDELT2']\n",
    "print('Image resolution: %.6s degrees ' % imgres)\n",
    "npix = fits_file[0].header['NAXIS3']\n",
    "print('Number of pixels on each side: %s' % npix)\n",
    "velres = fits_file[0].header['CDELT3']\n",
    "print('Velocity resolution: %s m/s' % velres)"
   ]
  },
  {
   "cell_type": "markdown",
   "metadata": {},
   "source": [
    "And we can change any of these parameters:"
   ]
  },
  {
   "cell_type": "code",
   "execution_count": 41,
   "metadata": {
    "collapsed": false
   },
   "outputs": [
    {
     "name": "stdout",
     "output_type": "stream",
     "text": [
      "Image resolution: 2.0 degrees \n"
     ]
    }
   ],
   "source": [
    "fits_file[0].header['CDELT2']=2.0\n",
    "imgres = fits_file[0].header['CDELT2']\n",
    "print('Image resolution: %.6s degrees ' % imgres)"
   ]
  },
  {
   "cell_type": "markdown",
   "metadata": {},
   "source": [
    "The actual data is an attribute of data[0]:"
   ]
  },
  {
   "cell_type": "code",
   "execution_count": 42,
   "metadata": {
    "collapsed": false
   },
   "outputs": [
    {
     "name": "stdout",
     "output_type": "stream",
     "text": [
      "(61, 100, 100)\n"
     ]
    }
   ],
   "source": [
    "HCO_flux = fits_file[0].data \n",
    "print(np.shape(HCO_flux))"
   ]
  },
  {
   "cell_type": "markdown",
   "metadata": {},
   "source": [
    "In this case, I know that the 60x100x100 matrix is in the format [velocity channels, x axis, y axis], so we can create the moment 0 map as:"
   ]
  },
  {
   "cell_type": "code",
   "execution_count": 43,
   "metadata": {
    "collapsed": true
   },
   "outputs": [],
   "source": [
    "mom0 = HCO_flux.sum(axis=0)*velres/1000 # moment 0 map, Jy*km/s"
   ]
  },
  {
   "cell_type": "markdown",
   "metadata": {},
   "source": [
    "And make a contour plot of this map:"
   ]
  },
  {
   "cell_type": "code",
   "execution_count": 44,
   "metadata": {
    "collapsed": false
   },
   "outputs": [
    {
     "data": {
      "image/png": "[encoded data removed]",
      "text/plain": [
       "<matplotlib.figure.Figure at 0x11134cdd8>"
      ]
     },
     "metadata": {},
     "output_type": "display_data"
    }
   ],
   "source": [
    "import matplotlib.cm as cm\n",
    "import matplotlib.pyplot as plt\n",
    "\n",
    "fig         =   plt.figure(1,figsize=(9,9))\n",
    "ax1         =   fig.add_subplot(1,1,1)\n",
    "ax1.set_xlabel(\"x ['']\",fontsize=15)\n",
    "ax1.set_ylabel(\"y ['']\",fontsize=15)\n",
    "ax1.set_title(\"Moment 0 map of HCO$^+$ gas cloud\",fontsize=15)\n",
    "x1 = imgres*(np.arange(npix)-npix/2) # image axis\n",
    "xmax = max(x1)\n",
    "im = ax1.imshow(mom0,interpolation='bilinear',origin='lower',\\\n",
    "                cmap=cm.hot,extent=(-xmax,xmax,-xmax,xmax),vmax=120)\n",
    "\n",
    "# Add colorbar that matches image in height\n",
    "from mpl_toolkits.axes_grid1 import make_axes_locatable\n",
    "\n",
    "divider = make_axes_locatable(ax1)\n",
    "cax = divider.append_axes(\"right\", size=\"5%\", pad=0.05)\n",
    "cbar = plt.colorbar(im,cax=cax)\n",
    "cbar.set_label('Jy km/s', size=20)\n",
    "\n",
    "plt.show(block=False)"
   ]
  },
  {
   "cell_type": "markdown",
   "metadata": {},
   "source": [
    "# 3. Saving data for later with numpy\n",
    "Docs: \n",
    "<br>\n",
    "https://docs.scipy.org/doc/numpy/reference/generated/numpy.save.html\n",
    "<br>\n",
    "https://docs.scipy.org/doc/numpy/reference/generated/numpy.load.html"
   ]
  },
  {
   "cell_type": "code",
   "execution_count": null,
   "metadata": {
    "collapsed": true
   },
   "outputs": [],
   "source": [
    "# Say you have a numpy array that you want to save to a file and load later. \n",
    "# One way to do so is with numpy:\n",
    "np.save('test_data/spec_nparray', spec_nparray) # will get a '.npy' extension"
   ]
  },
  {
   "cell_type": "code",
   "execution_count": null,
   "metadata": {
    "collapsed": false
   },
   "outputs": [],
   "source": [
    "# Test - using numpy.load()\n",
    "load_spec_nparray = np.load('test_data/spec_nparray.npy')\n",
    "load_spec_nparray[7,1]"
   ]
  },
  {
   "cell_type": "markdown",
   "metadata": {},
   "source": [
    "# 4. Pickling\n",
    "Docs: \n",
    "<br>\n",
    "https://docs.python.org/3/library/pickle.html\n",
    "<br>\n",
    "https://docs.python.org/2.3/lib/module-cPickle.html"
   ]
  },
  {
   "cell_type": "code",
   "execution_count": null,
   "metadata": {
    "collapsed": true
   },
   "outputs": [],
   "source": [
    "# You can also use cPickle! Which is pickle written in C, with several advantages.\n",
    "import cPickle as pickle\n",
    "\n",
    "# 'wb' is the protocol and means to write to binary format, no need to specify extension\n",
    "pickle.dump(spec_nparray, open('test_data/spec_nparray_pickle','wb'))\n",
    "\n",
    "load_spec_nparray = pickle.load(open('test_data/spec_nparray_pickle','rb'))\n",
    "load_spec_nparray[7,1] # Test"
   ]
  },
  {
   "cell_type": "code",
   "execution_count": null,
   "metadata": {
    "collapsed": true
   },
   "outputs": [],
   "source": [
    "# But the to_pickle attribute is specific to pandas and will not work on say a numpy array:\n",
    "spec_nparray.to_pickle('test_data/spec_dataframe_pickle')"
   ]
  },
  {
   "cell_type": "code",
   "execution_count": null,
   "metadata": {
    "collapsed": true
   },
   "outputs": [],
   "source": []
  }
 ],
 "metadata": {
  "kernelspec": {
   "display_name": "Python 3",
   "language": "python",
   "name": "python3"
  },
  "language_info": {
   "codemirror_mode": {
    "name": "ipython",
    "version": 3
   },
   "file_extension": ".py",
   "mimetype": "text/x-python",
   "name": "python",
   "nbconvert_exporter": "python",
   "pygments_lexer": "ipython3",
   "version": "3.4.5"
  }
 },
 "nbformat": 4,
 "nbformat_minor": 2
}
