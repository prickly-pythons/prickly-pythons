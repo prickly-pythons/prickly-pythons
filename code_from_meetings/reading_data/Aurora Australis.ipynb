{
 "cells": [
  {
   "cell_type": "markdown",
   "metadata": {
    "collapsed": true
   },
   "source": [
    "This notebook reads in some geomagnetic index data from a saved html file and plots them.\n",
    "\n",
    "Date Created: 23 Jan 2019\n",
    "<br>\n",
    "Last Modified: 29 Jan 2019\n",
    "<br>\n",
    "Humans Responsible: The Prickly Pythons"
   ]
  },
  {
   "cell_type": "code",
   "execution_count": 1,
   "metadata": {
    "collapsed": true
   },
   "outputs": [],
   "source": [
    "%matplotlib inline"
   ]
  },
  {
   "cell_type": "markdown",
   "metadata": {},
   "source": [
    "# 1. Read in the data"
   ]
  },
  {
   "cell_type": "code",
   "execution_count": 2,
   "metadata": {
    "collapsed": false
   },
   "outputs": [
    {
     "name": "stdout",
     "output_type": "stream",
     "text": [
      "<_io.TextIOWrapper name='test_data/AuroraAlertNZ_dataset1.html' mode='r' encoding='UTF-8'>\n"
     ]
    }
   ],
   "source": [
    "# Specify the path of the file\n",
    "data_path = 'test_data/AuroraAlertNZ_dataset1.html'\n",
    "\n",
    "# Open the file and put it in read-only status\n",
    "opened_file = open(data_path, 'r') \n",
    "\n",
    "print(opened_file)"
   ]
  },
  {
   "cell_type": "code",
   "execution_count": 3,
   "metadata": {
    "collapsed": true
   },
   "outputs": [],
   "source": [
    "# Skip to where the useful stuff starts\n",
    "\n",
    "counter = 0\n",
    "for line in opened_file:\n",
    "    \n",
    "    counter += 1\n",
    "    if (line == ' 1.\\n'):\n",
    "        break"
   ]
  },
  {
   "cell_type": "code",
   "execution_count": 4,
   "metadata": {
    "collapsed": false
   },
   "outputs": [
    {
     "name": "stdout",
     "output_type": "stream",
     "text": [
      " 1.\n",
      "\n",
      "137\n"
     ]
    }
   ],
   "source": [
    "print(line)\n",
    "print(counter)"
   ]
  },
  {
   "cell_type": "code",
   "execution_count": 5,
   "metadata": {
    "collapsed": false
   },
   "outputs": [],
   "source": [
    "# Begin the data parsing\n",
    "\n",
    "# Initialise storage\n",
    "date_str = [[], [], []]\n",
    "wlevel_str = []\n",
    "\n",
    "prev_line = line\n",
    "for line in opened_file:\n",
    "    \n",
    "    if ('@*AuroraAlertNZ*' in prev_line):\n",
    "        \n",
    "        if (line[5] != ' '): # Double digit days\n",
    "            date_str[0].append(line[4:6]) # Day\n",
    "            date_str[1].append(line[7:10]) # Month\n",
    "            date_str[2].append(line[11:15]) # Year\n",
    "        \n",
    "        else: # Single digit days\n",
    "            date_str[0].append(line[4:5]) # Day\n",
    "            date_str[1].append(line[6:9]) # Month\n",
    "            date_str[2].append(line[10:14]) # Year\n",
    "    \n",
    "    \n",
    "    if ('Warning Level' in line): # Get the Warning level\n",
    "        if 'Weak' in line:\n",
    "            wlevel_str.append(line[45:46])\n",
    "        elif 'Moderate' in line:\n",
    "            wlevel_str.append(line[49:50])\n",
    "        elif 'Strong' in line:\n",
    "            wlevel_str.append(line[47:48])\n",
    "            \n",
    "    prev_line = line\n",
    "    "
   ]
  },
  {
   "cell_type": "code",
   "execution_count": 6,
   "metadata": {
    "collapsed": false
   },
   "outputs": [
    {
     "data": {
      "text/plain": [
       "['1',\n",
       " '1',\n",
       " '1',\n",
       " '1',\n",
       " '1',\n",
       " '1',\n",
       " '2',\n",
       " '1',\n",
       " '4',\n",
       " '3',\n",
       " '2',\n",
       " '1',\n",
       " '2',\n",
       " '1',\n",
       " '2',\n",
       " '1',\n",
       " '1',\n",
       " '1',\n",
       " '1',\n",
       " '1',\n",
       " '4',\n",
       " '3',\n",
       " '2',\n",
       " '1',\n",
       " '1',\n",
       " '1',\n",
       " '1',\n",
       " '3',\n",
       " '3',\n",
       " '2',\n",
       " '1',\n",
       " '4',\n",
       " '3',\n",
       " '2',\n",
       " '1',\n",
       " '1',\n",
       " '3',\n",
       " '1',\n",
       " '7',\n",
       " '5',\n",
       " '3',\n",
       " '5',\n",
       " '4',\n",
       " '3',\n",
       " '2',\n",
       " '1',\n",
       " '6',\n",
       " '3',\n",
       " '2',\n",
       " '7',\n",
       " '5',\n",
       " '4',\n",
       " '3',\n",
       " '1',\n",
       " '1',\n",
       " '1',\n",
       " '2',\n",
       " '3',\n",
       " '2',\n",
       " '2',\n",
       " '1',\n",
       " '3',\n",
       " '3',\n",
       " '2',\n",
       " '1',\n",
       " '1',\n",
       " '1',\n",
       " '3',\n",
       " '4',\n",
       " '3',\n",
       " '2',\n",
       " '2',\n",
       " '1',\n",
       " '1',\n",
       " '1',\n",
       " '1',\n",
       " '1',\n",
       " '3',\n",
       " '2',\n",
       " '2',\n",
       " '1',\n",
       " '6',\n",
       " '5',\n",
       " '3',\n",
       " '3',\n",
       " '2',\n",
       " '1',\n",
       " '3',\n",
       " '2',\n",
       " '1',\n",
       " '2',\n",
       " '3',\n",
       " '2',\n",
       " '5',\n",
       " '3',\n",
       " '4',\n",
       " '3',\n",
       " '2',\n",
       " '1',\n",
       " '3',\n",
       " '1',\n",
       " '7',\n",
       " '9',\n",
       " '6',\n",
       " '5',\n",
       " '4',\n",
       " '3',\n",
       " '3',\n",
       " '2',\n",
       " '2',\n",
       " '1',\n",
       " '1',\n",
       " '1',\n",
       " '4',\n",
       " '3',\n",
       " '3',\n",
       " '2',\n",
       " '1',\n",
       " '3',\n",
       " '4',\n",
       " '2',\n",
       " '1',\n",
       " '2',\n",
       " '4',\n",
       " '3',\n",
       " '1',\n",
       " '2',\n",
       " '1',\n",
       " '3',\n",
       " '1',\n",
       " '2',\n",
       " '1',\n",
       " '1',\n",
       " '2',\n",
       " '1',\n",
       " '1',\n",
       " '4',\n",
       " '3',\n",
       " '3',\n",
       " '1',\n",
       " '3',\n",
       " '3',\n",
       " '2',\n",
       " '4',\n",
       " '2',\n",
       " '1',\n",
       " '4',\n",
       " '3',\n",
       " '2',\n",
       " '1',\n",
       " '3',\n",
       " '1',\n",
       " '6',\n",
       " '4',\n",
       " '2',\n",
       " '1',\n",
       " '1',\n",
       " '2',\n",
       " '3',\n",
       " '4',\n",
       " '3',\n",
       " '2',\n",
       " '1',\n",
       " '1',\n",
       " '2',\n",
       " '3',\n",
       " '2',\n",
       " '2',\n",
       " '1',\n",
       " '3',\n",
       " '2',\n",
       " '3',\n",
       " '2',\n",
       " '3',\n",
       " '1',\n",
       " '1',\n",
       " '2',\n",
       " '1',\n",
       " '2',\n",
       " '1',\n",
       " '2',\n",
       " '3',\n",
       " '1',\n",
       " '1',\n",
       " '5',\n",
       " '2',\n",
       " '1',\n",
       " '3',\n",
       " '4',\n",
       " '1',\n",
       " '2',\n",
       " '3',\n",
       " '6',\n",
       " '4',\n",
       " '3',\n",
       " '2',\n",
       " '1',\n",
       " '1',\n",
       " '3',\n",
       " '3',\n",
       " '2',\n",
       " '1',\n",
       " '1',\n",
       " '3',\n",
       " '2',\n",
       " '6',\n",
       " '4',\n",
       " '3',\n",
       " '1',\n",
       " '3',\n",
       " '2',\n",
       " '1',\n",
       " '3',\n",
       " '2',\n",
       " '1',\n",
       " '1',\n",
       " '1',\n",
       " '1',\n",
       " '8',\n",
       " '5',\n",
       " '4',\n",
       " '3',\n",
       " '1',\n",
       " '3',\n",
       " '3',\n",
       " '2',\n",
       " '1',\n",
       " '5',\n",
       " '4',\n",
       " '2',\n",
       " '1',\n",
       " '3',\n",
       " '1',\n",
       " '2',\n",
       " '1',\n",
       " '3',\n",
       " '2',\n",
       " '2',\n",
       " '1',\n",
       " '2',\n",
       " '1',\n",
       " '8',\n",
       " '5',\n",
       " '2',\n",
       " '2',\n",
       " '1',\n",
       " '6',\n",
       " '4',\n",
       " '2',\n",
       " '1',\n",
       " '2',\n",
       " '1',\n",
       " '3',\n",
       " '2',\n",
       " '1',\n",
       " '1',\n",
       " '1',\n",
       " '1',\n",
       " '2',\n",
       " '1',\n",
       " '1',\n",
       " '1',\n",
       " '1',\n",
       " '1',\n",
       " '2',\n",
       " '1',\n",
       " '1',\n",
       " '1',\n",
       " '1',\n",
       " '2',\n",
       " '1',\n",
       " '2',\n",
       " '5',\n",
       " '2',\n",
       " '1',\n",
       " '2',\n",
       " '1',\n",
       " '2',\n",
       " '1',\n",
       " '6',\n",
       " '4',\n",
       " '2',\n",
       " '3',\n",
       " '1',\n",
       " '3',\n",
       " '2',\n",
       " '1',\n",
       " '2',\n",
       " '1',\n",
       " '4',\n",
       " '3',\n",
       " '1',\n",
       " '1',\n",
       " '4',\n",
       " '2',\n",
       " '1',\n",
       " '3',\n",
       " '8',\n",
       " '5',\n",
       " '2']"
      ]
     },
     "execution_count": 6,
     "metadata": {},
     "output_type": "execute_result"
    }
   ],
   "source": [
    "wlevel_str"
   ]
  },
  {
   "cell_type": "code",
   "execution_count": 7,
   "metadata": {
    "collapsed": false
   },
   "outputs": [
    {
     "data": {
      "text/plain": [
       "['24',\n",
       " '18',\n",
       " '13',\n",
       " '10',\n",
       " '4',\n",
       " '4',\n",
       " '28',\n",
       " '28',\n",
       " '28',\n",
       " '28',\n",
       " '28',\n",
       " '27',\n",
       " '19',\n",
       " '11',\n",
       " '10',\n",
       " '9',\n",
       " '3',\n",
       " '14',\n",
       " '9',\n",
       " '6',\n",
       " '5',\n",
       " '5',\n",
       " '4',\n",
       " '4',\n",
       " '1',\n",
       " '24',\n",
       " '21',\n",
       " '13',\n",
       " '13',\n",
       " '13',\n",
       " '13',\n",
       " '10',\n",
       " '10',\n",
       " '10',\n",
       " '10',\n",
       " '9',\n",
       " '9',\n",
       " '9',\n",
       " '9',\n",
       " '9',\n",
       " '9',\n",
       " '8',\n",
       " '8',\n",
       " '8',\n",
       " '7',\n",
       " '7',\n",
       " '7',\n",
       " '7',\n",
       " '7',\n",
       " '7',\n",
       " '7',\n",
       " '7',\n",
       " '7',\n",
       " '7',\n",
       " '6',\n",
       " '4',\n",
       " '1',\n",
       " '29',\n",
       " '29',\n",
       " '27',\n",
       " '27',\n",
       " '25',\n",
       " '25',\n",
       " '24',\n",
       " '24',\n",
       " '24',\n",
       " '23',\n",
       " '23',\n",
       " '22',\n",
       " '22',\n",
       " '22',\n",
       " '18',\n",
       " '18',\n",
       " '16',\n",
       " '14',\n",
       " '14',\n",
       " '13',\n",
       " '13',\n",
       " '13',\n",
       " '13',\n",
       " '13',\n",
       " '11',\n",
       " '11',\n",
       " '11',\n",
       " '11',\n",
       " '11',\n",
       " '11',\n",
       " '10',\n",
       " '10',\n",
       " '10',\n",
       " '5',\n",
       " '28',\n",
       " '28',\n",
       " '27',\n",
       " '27',\n",
       " '27',\n",
       " '27',\n",
       " '27',\n",
       " '27',\n",
       " '26',\n",
       " '26',\n",
       " '26',\n",
       " '26',\n",
       " '26',\n",
       " '26',\n",
       " '25',\n",
       " '25',\n",
       " '25',\n",
       " '25',\n",
       " '25',\n",
       " '25',\n",
       " '20',\n",
       " '19',\n",
       " '18',\n",
       " '18',\n",
       " '18',\n",
       " '18',\n",
       " '18',\n",
       " '15',\n",
       " '15',\n",
       " '15',\n",
       " '15',\n",
       " '6',\n",
       " '3',\n",
       " '3',\n",
       " '3',\n",
       " '1',\n",
       " '29',\n",
       " '24',\n",
       " '24',\n",
       " '24',\n",
       " '23',\n",
       " '21',\n",
       " '16',\n",
       " '16',\n",
       " '11',\n",
       " '5',\n",
       " '5',\n",
       " '4',\n",
       " '1',\n",
       " '26',\n",
       " '26',\n",
       " '26',\n",
       " '25',\n",
       " '25',\n",
       " '25',\n",
       " '23',\n",
       " '23',\n",
       " '23',\n",
       " '23',\n",
       " '19',\n",
       " '18',\n",
       " '18',\n",
       " '18',\n",
       " '17',\n",
       " '3',\n",
       " '2',\n",
       " '2',\n",
       " '1',\n",
       " '1',\n",
       " '1',\n",
       " '1',\n",
       " '1',\n",
       " '31',\n",
       " '23',\n",
       " '22',\n",
       " '22',\n",
       " '17',\n",
       " '16',\n",
       " '14',\n",
       " '14',\n",
       " '14',\n",
       " '13',\n",
       " '13',\n",
       " '13',\n",
       " '12',\n",
       " '10',\n",
       " '10',\n",
       " '9',\n",
       " '8',\n",
       " '8',\n",
       " '8',\n",
       " '8',\n",
       " '7',\n",
       " '6',\n",
       " '6',\n",
       " '6',\n",
       " '6',\n",
       " '6',\n",
       " '6',\n",
       " '5',\n",
       " '5',\n",
       " '5',\n",
       " '5',\n",
       " '5',\n",
       " '5',\n",
       " '5',\n",
       " '1',\n",
       " '30',\n",
       " '29',\n",
       " '29',\n",
       " '21',\n",
       " '20',\n",
       " '20',\n",
       " '20',\n",
       " '20',\n",
       " '11',\n",
       " '11',\n",
       " '10',\n",
       " '10',\n",
       " '10',\n",
       " '10',\n",
       " '9',\n",
       " '9',\n",
       " '9',\n",
       " '8',\n",
       " '27',\n",
       " '26',\n",
       " '25',\n",
       " '25',\n",
       " '25',\n",
       " '25',\n",
       " '25',\n",
       " '24',\n",
       " '24',\n",
       " '24',\n",
       " '23',\n",
       " '18',\n",
       " '18',\n",
       " '18',\n",
       " '18',\n",
       " '16',\n",
       " '15',\n",
       " '15',\n",
       " '15',\n",
       " '14',\n",
       " '14',\n",
       " '10',\n",
       " '9',\n",
       " '3',\n",
       " '3',\n",
       " '27',\n",
       " '27',\n",
       " '27',\n",
       " '26',\n",
       " '26',\n",
       " '23',\n",
       " '23',\n",
       " '23',\n",
       " '22',\n",
       " '19',\n",
       " '18',\n",
       " '17',\n",
       " '17',\n",
       " '16',\n",
       " '15',\n",
       " '15',\n",
       " '11',\n",
       " '9',\n",
       " '9',\n",
       " '8',\n",
       " '5',\n",
       " '1',\n",
       " '31',\n",
       " '31',\n",
       " '31',\n",
       " '27',\n",
       " '24',\n",
       " '21',\n",
       " '14',\n",
       " '14',\n",
       " '13',\n",
       " '7',\n",
       " '7',\n",
       " '7',\n",
       " '31',\n",
       " '31',\n",
       " '24',\n",
       " '23',\n",
       " '18',\n",
       " '18',\n",
       " '18',\n",
       " '17',\n",
       " '17',\n",
       " '17',\n",
       " '17',\n",
       " '16',\n",
       " '15',\n",
       " '11',\n",
       " '11',\n",
       " '11',\n",
       " '10',\n",
       " '9',\n",
       " '5',\n",
       " '5',\n",
       " '5',\n",
       " '5',\n",
       " '5',\n",
       " '5',\n",
       " '4']"
      ]
     },
     "execution_count": 7,
     "metadata": {},
     "output_type": "execute_result"
    }
   ],
   "source": [
    "(date_str[0])"
   ]
  },
  {
   "cell_type": "markdown",
   "metadata": {},
   "source": [
    "# 2. Convert to numpy arrays"
   ]
  },
  {
   "cell_type": "code",
   "execution_count": 8,
   "metadata": {
    "collapsed": false
   },
   "outputs": [
    {
     "data": {
      "text/plain": [
       "100"
      ]
     },
     "execution_count": 8,
     "metadata": {},
     "output_type": "execute_result"
    }
   ],
   "source": [
    "int('100')"
   ]
  },
  {
   "cell_type": "code",
   "execution_count": 9,
   "metadata": {
    "collapsed": false
   },
   "outputs": [
    {
     "ename": "TypeError",
     "evalue": "int() argument must be a string, a bytes-like object or a number, not 'list'",
     "output_type": "error",
     "traceback": [
      "\u001b[0;31m---------------------------------------------------------------------------\u001b[0m",
      "\u001b[0;31mTypeError\u001b[0m                                 Traceback (most recent call last)",
      "\u001b[0;32m<ipython-input-9-050afbcdf3b7>\u001b[0m in \u001b[0;36m<module>\u001b[0;34m()\u001b[0m\n\u001b[0;32m----> 1\u001b[0;31m \u001b[0mint\u001b[0m\u001b[0;34m(\u001b[0m\u001b[0mwlevel_str\u001b[0m\u001b[0;34m)\u001b[0m\u001b[0;34m\u001b[0m\u001b[0m\n\u001b[0m",
      "\u001b[0;31mTypeError\u001b[0m: int() argument must be a string, a bytes-like object or a number, not 'list'"
     ]
    }
   ],
   "source": [
    "int(wlevel_str)"
   ]
  },
  {
   "cell_type": "code",
   "execution_count": 10,
   "metadata": {
    "collapsed": true
   },
   "outputs": [],
   "source": [
    "import numpy as np"
   ]
  },
  {
   "cell_type": "code",
   "execution_count": 11,
   "metadata": {
    "collapsed": true
   },
   "outputs": [],
   "source": [
    "num_read = len(wlevel_str)"
   ]
  },
  {
   "cell_type": "code",
   "execution_count": 12,
   "metadata": {
    "collapsed": false
   },
   "outputs": [],
   "source": [
    "wlevel = np.zeros(num_read, dtype=int)\n",
    "\n",
    "for i in range(num_read):\n",
    "    wlevel[i] = int(wlevel_str[i])"
   ]
  },
  {
   "cell_type": "code",
   "execution_count": 13,
   "metadata": {
    "collapsed": false
   },
   "outputs": [
    {
     "data": {
      "text/plain": [
       "array([1, 1, 1, 1, 1, 1, 2, 1, 4, 3, 2, 1, 2, 1, 2, 1, 1, 1, 1, 1, 4, 3, 2,\n",
       "       1, 1, 1, 1, 3, 3, 2, 1, 4, 3, 2, 1, 1, 3, 1, 7, 5, 3, 5, 4, 3, 2, 1,\n",
       "       6, 3, 2, 7, 5, 4, 3, 1, 1, 1, 2, 3, 2, 2, 1, 3, 3, 2, 1, 1, 1, 3, 4,\n",
       "       3, 2, 2, 1, 1, 1, 1, 1, 3, 2, 2, 1, 6, 5, 3, 3, 2, 1, 3, 2, 1, 2, 3,\n",
       "       2, 5, 3, 4, 3, 2, 1, 3, 1, 7, 9, 6, 5, 4, 3, 3, 2, 2, 1, 1, 1, 4, 3,\n",
       "       3, 2, 1, 3, 4, 2, 1, 2, 4, 3, 1, 2, 1, 3, 1, 2, 1, 1, 2, 1, 1, 4, 3,\n",
       "       3, 1, 3, 3, 2, 4, 2, 1, 4, 3, 2, 1, 3, 1, 6, 4, 2, 1, 1, 2, 3, 4, 3,\n",
       "       2, 1, 1, 2, 3, 2, 2, 1, 3, 2, 3, 2, 3, 1, 1, 2, 1, 2, 1, 2, 3, 1, 1,\n",
       "       5, 2, 1, 3, 4, 1, 2, 3, 6, 4, 3, 2, 1, 1, 3, 3, 2, 1, 1, 3, 2, 6, 4,\n",
       "       3, 1, 3, 2, 1, 3, 2, 1, 1, 1, 1, 8, 5, 4, 3, 1, 3, 3, 2, 1, 5, 4, 2,\n",
       "       1, 3, 1, 2, 1, 3, 2, 2, 1, 2, 1, 8, 5, 2, 2, 1, 6, 4, 2, 1, 2, 1, 3,\n",
       "       2, 1, 1, 1, 1, 2, 1, 1, 1, 1, 1, 2, 1, 1, 1, 1, 2, 1, 2, 5, 2, 1, 2,\n",
       "       1, 2, 1, 6, 4, 2, 3, 1, 3, 2, 1, 2, 1, 4, 3, 1, 1, 4, 2, 1, 3, 8, 5,\n",
       "       2])"
      ]
     },
     "execution_count": 13,
     "metadata": {},
     "output_type": "execute_result"
    }
   ],
   "source": [
    "wlevel"
   ]
  },
  {
   "cell_type": "code",
   "execution_count": 14,
   "metadata": {
    "collapsed": true
   },
   "outputs": [],
   "source": [
    "date_array = np.zeros((3,num_read), dtype=int)\n",
    "\n",
    "for i in range(num_read):\n",
    "\n",
    "    if (date_str[1][i] == 'Jan'):\n",
    "        month = 1\n",
    "    elif (date_str[1][i] == 'Feb'):\n",
    "        month = 2\n",
    "    elif (date_str[1][i] == 'Mar'):\n",
    "        month = 3\n",
    "    elif (date_str[1][i] == 'Apr'):\n",
    "        month = 4\n",
    "    elif (date_str[1][i] == 'May'):\n",
    "        month = 5\n",
    "    elif (date_str[1][i] == 'Jun'):\n",
    "        month = 6\n",
    "    elif (date_str[1][i] == 'Jul'):\n",
    "        month = 7\n",
    "    elif (date_str[1][i] == 'Aug'):\n",
    "        month = 8\n",
    "    elif (date_str[1][i] == 'Sep'):\n",
    "        month = 9\n",
    "    elif (date_str[1][i] == 'Oct'):\n",
    "        month = 10\n",
    "    elif (date_str[1][i] == 'Nov'):\n",
    "        month = 11\n",
    "    elif (date_str[1][i] == 'Dec'):\n",
    "        month = 12\n",
    "        \n",
    "    \n",
    "    day = int(date_str[0][i])\n",
    "    year = int(date_str[2][i])\n",
    "    \n",
    "    date_array[0,i] = day\n",
    "    date_array[1,i] = month\n",
    "    date_array[2,i] = year\n",
    "    "
   ]
  },
  {
   "cell_type": "code",
   "execution_count": 15,
   "metadata": {
    "collapsed": false
   },
   "outputs": [
    {
     "data": {
      "text/plain": [
       "array([24, 18, 13, 10,  4,  4, 28, 28, 28, 28, 28, 27, 19, 11, 10,  9,  3,\n",
       "       14,  9,  6,  5,  5,  4,  4,  1, 24, 21, 13, 13, 13, 13, 10, 10, 10,\n",
       "       10,  9,  9,  9,  9,  9,  9,  8,  8,  8,  7,  7,  7,  7,  7,  7,  7,\n",
       "        7,  7,  7,  6,  4,  1, 29, 29, 27, 27, 25, 25, 24, 24, 24, 23, 23,\n",
       "       22, 22, 22, 18, 18, 16, 14, 14, 13, 13, 13, 13, 13, 11, 11, 11, 11,\n",
       "       11, 11, 10, 10, 10,  5, 28, 28, 27, 27, 27, 27, 27, 27, 26, 26, 26,\n",
       "       26, 26, 26, 25, 25, 25, 25, 25, 25, 20, 19, 18, 18, 18, 18, 18, 15,\n",
       "       15, 15, 15,  6,  3,  3,  3,  1, 29, 24, 24, 24, 23, 21, 16, 16, 11,\n",
       "        5,  5,  4,  1, 26, 26, 26, 25, 25, 25, 23, 23, 23, 23, 19, 18, 18,\n",
       "       18, 17,  3,  2,  2,  1,  1,  1,  1,  1, 31, 23, 22, 22, 17, 16, 14,\n",
       "       14, 14, 13, 13, 13, 12, 10, 10,  9,  8,  8,  8,  8,  7,  6,  6,  6,\n",
       "        6,  6,  6,  5,  5,  5,  5,  5,  5,  5,  1, 30, 29, 29, 21, 20, 20,\n",
       "       20, 20, 11, 11, 10, 10, 10, 10,  9,  9,  9,  8, 27, 26, 25, 25, 25,\n",
       "       25, 25, 24, 24, 24, 23, 18, 18, 18, 18, 16, 15, 15, 15, 14, 14, 10,\n",
       "        9,  3,  3, 27, 27, 27, 26, 26, 23, 23, 23, 22, 19, 18, 17, 17, 16,\n",
       "       15, 15, 11,  9,  9,  8,  5,  1, 31, 31, 31, 27, 24, 21, 14, 14, 13,\n",
       "        7,  7,  7, 31, 31, 24, 23, 18, 18, 18, 17, 17, 17, 17, 16, 15, 11,\n",
       "       11, 11, 10,  9,  5,  5,  5,  5,  5,  5,  4])"
      ]
     },
     "execution_count": 15,
     "metadata": {},
     "output_type": "execute_result"
    }
   ],
   "source": [
    "date_array[0]"
   ]
  },
  {
   "cell_type": "code",
   "execution_count": 16,
   "metadata": {
    "collapsed": false
   },
   "outputs": [],
   "source": [
    "# Average those measurements that are taken on the same day\n",
    "\n",
    "wlevel_mod = []\n",
    "date_array_mod = [[], [], []]\n",
    "\n",
    "i = 0\n",
    "while (i < num_read-1):\n",
    "    \n",
    "    date_array_mod[0].append(date_array[0,i])\n",
    "    date_array_mod[1].append(date_array[1,i])\n",
    "    date_array_mod[2].append(date_array[2,i])\n",
    "    \n",
    "    c = i\n",
    "    curr = date_array[0, i]\n",
    "    c += 1\n",
    "    \n",
    "    accum_vec = np.zeros(1)\n",
    "    accum_vec[0] = wlevel[i]\n",
    "    while (date_array[0, c] == curr):\n",
    "        accum_vec = np.append(accum_vec, wlevel[c])\n",
    "        \n",
    "        c += 1\n",
    "    \n",
    "    i = c\n",
    "    \n",
    "    wlevel_mod.append(np.mean(accum_vec))"
   ]
  },
  {
   "cell_type": "code",
   "execution_count": 17,
   "metadata": {
    "collapsed": true
   },
   "outputs": [],
   "source": [
    "# Convert to numpy arrays\n",
    "\n",
    "date_array_mod = np.array(date_array_mod)\n",
    "wlevel_mod = np.array(wlevel_mod)"
   ]
  },
  {
   "cell_type": "code",
   "execution_count": 18,
   "metadata": {
    "collapsed": false
   },
   "outputs": [
    {
     "data": {
      "text/plain": [
       "137"
      ]
     },
     "execution_count": 18,
     "metadata": {},
     "output_type": "execute_result"
    }
   ],
   "source": [
    "len(wlevel_mod)"
   ]
  },
  {
   "cell_type": "markdown",
   "metadata": {},
   "source": [
    "# 3. Visualisation"
   ]
  },
  {
   "cell_type": "code",
   "execution_count": 19,
   "metadata": {
    "collapsed": true
   },
   "outputs": [],
   "source": [
    "import datetime as dt"
   ]
  },
  {
   "cell_type": "code",
   "execution_count": 20,
   "metadata": {
    "collapsed": false
   },
   "outputs": [],
   "source": [
    "t_dates = []\n",
    "\n",
    "for i in range(len(wlevel_mod)):\n",
    "    t_dates.append(dt.datetime(year = date_array_mod[2,i], \n",
    "                               month = date_array_mod[1,i], \n",
    "                               day = date_array_mod[0,i]))"
   ]
  },
  {
   "cell_type": "code",
   "execution_count": 21,
   "metadata": {
    "collapsed": true
   },
   "outputs": [],
   "source": [
    "import matplotlib.pyplot as plt"
   ]
  },
  {
   "cell_type": "code",
   "execution_count": 22,
   "metadata": {
    "collapsed": false
   },
   "outputs": [
    {
     "data": {
      "image/png": "[encoded data removed]",
      "text/plain": [
       "<matplotlib.figure.Figure at 0x10bb2fb70>"
      ]
     },
     "metadata": {},
     "output_type": "display_data"
    }
   ],
   "source": [
    "plt.figure(figsize=(14.5,4.5))\n",
    "plt.plot(t_dates, wlevel_mod, 'bo-')\n",
    "plt.grid()\n",
    "\n",
    "plt.show()"
   ]
  },
  {
   "cell_type": "markdown",
   "metadata": {},
   "source": [
    "# 4. Prettier visualisation"
   ]
  },
  {
   "cell_type": "code",
   "execution_count": 23,
   "metadata": {
    "collapsed": true
   },
   "outputs": [],
   "source": [
    "import matplotlib.dates as mdates\n",
    "years = mdates.YearLocator()   # every year\n",
    "months = mdates.MonthLocator() # every month\n",
    "myFmt = mdates.DateFormatter('%Y-%m')"
   ]
  },
  {
   "cell_type": "code",
   "execution_count": 24,
   "metadata": {
    "collapsed": false
   },
   "outputs": [
    {
     "data": {
      "image/png": "[encoded data removed]",
      "text/plain": [
       "<matplotlib.figure.Figure at 0x10bb2fba8>"
      ]
     },
     "metadata": {},
     "output_type": "display_data"
    }
   ],
   "source": [
    "fig, ax = plt.subplots(figsize=(15.5,5.5))\n",
    "ax.plot(t_dates, wlevel_mod, 'bo-', linewidth=1)\n",
    "\n",
    "# Format the ticks\n",
    "ax.xaxis.set_major_locator(months)\n",
    "ax.xaxis.set_major_formatter(myFmt)\n",
    "ax.grid()\n",
    "\n",
    "ax.set_ylabel('Average Geomagnetic Activity')\n",
    "\n",
    "plt.show()"
   ]
  },
  {
   "cell_type": "code",
   "execution_count": null,
   "metadata": {
    "collapsed": true
   },
   "outputs": [],
   "source": []
  },
  {
   "cell_type": "code",
   "execution_count": null,
   "metadata": {
    "collapsed": true
   },
   "outputs": [],
   "source": []
  },
  {
   "cell_type": "code",
   "execution_count": null,
   "metadata": {
    "collapsed": true
   },
   "outputs": [],
   "source": []
  }
 ],
 "metadata": {
  "kernelspec": {
   "display_name": "Python 3",
   "language": "python",
   "name": "python3"
  },
  "language_info": {
   "codemirror_mode": {
    "name": "ipython",
    "version": 3
   },
   "file_extension": ".py",
   "mimetype": "text/x-python",
   "name": "python",
   "nbconvert_exporter": "python",
   "pygments_lexer": "ipython3",
   "version": "3.4.5"
  }
 },
 "nbformat": 4,
 "nbformat_minor": 0
}
